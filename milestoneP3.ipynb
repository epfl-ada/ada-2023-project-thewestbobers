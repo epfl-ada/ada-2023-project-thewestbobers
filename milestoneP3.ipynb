{
 "cells": [
  {
   "cell_type": "markdown",
   "metadata": {},
   "source": [
    "# Milestone P3"
   ]
  },
  {
   "cell_type": "markdown",
   "metadata": {},
   "source": [
    "# Milestone Objectives\n",
    "\n",
    "- Execute the project: single final notebook (main logic), helpers python file (implementations functions).\n",
    "\n",
    "- Write a data story\n",
    "\n",
    "- Update README: details the contributions of all group members.\n",
    "\n",
    "[Milestone P3 briefing](https://epfl-ada.github.io/teaching/fall2023/cs401/projects/#p3-final-project-and-the-datastory)"
   ]
  },
  {
   "cell_type": "code",
   "execution_count": 2,
   "metadata": {},
   "outputs": [],
   "source": [
    "from helpers import *\n",
    "\n",
    "import numpy as np\n",
    "import pandas as pd\n",
    "import matplotlib.pyplot as plt\n",
    "import seaborn as sns\n",
    "import ast\n",
    "from implementations import *"
   ]
  },
  {
   "cell_type": "markdown",
   "metadata": {},
   "source": [
    "## MEHDI"
   ]
  },
  {
   "cell_type": "markdown",
   "metadata": {},
   "source": [
    "# Award dataset"
   ]
  },
  {
   "cell_type": "code",
   "execution_count": 3,
   "metadata": {},
   "outputs": [],
   "source": [
    "DATA_PATH = '../data'\n",
    "AWARDS_PATH = '/awards/oscars.csv'"
   ]
  },
  {
   "cell_type": "code",
   "execution_count": 4,
   "metadata": {},
   "outputs": [
    {
     "data": {
      "text/html": [
       "<div>\n",
       "<style scoped>\n",
       "    .dataframe tbody tr th:only-of-type {\n",
       "        vertical-align: middle;\n",
       "    }\n",
       "\n",
       "    .dataframe tbody tr th {\n",
       "        vertical-align: top;\n",
       "    }\n",
       "\n",
       "    .dataframe thead th {\n",
       "        text-align: right;\n",
       "    }\n",
       "</style>\n",
       "<table border=\"1\" class=\"dataframe\">\n",
       "  <thead>\n",
       "    <tr style=\"text-align: right;\">\n",
       "      <th></th>\n",
       "      <th>year</th>\n",
       "      <th>year_ceremony</th>\n",
       "      <th>ceremony</th>\n",
       "      <th>cat_nominated</th>\n",
       "      <th>name_nominated</th>\n",
       "      <th>name</th>\n",
       "      <th>winner</th>\n",
       "    </tr>\n",
       "  </thead>\n",
       "  <tbody>\n",
       "    <tr>\n",
       "      <th>8917</th>\n",
       "      <td>2008</td>\n",
       "      <td>2009</td>\n",
       "      <td>81</td>\n",
       "      <td>ACTRESS IN A LEADING ROLE</td>\n",
       "      <td>Melissa Leo</td>\n",
       "      <td>Frozen River</td>\n",
       "      <td>False</td>\n",
       "    </tr>\n",
       "    <tr>\n",
       "      <th>7202</th>\n",
       "      <td>1992</td>\n",
       "      <td>1993</td>\n",
       "      <td>65</td>\n",
       "      <td>VISUAL EFFECTS</td>\n",
       "      <td>Ken Ralston, Doug Chiang, Doug Smythe, Tom Woo...</td>\n",
       "      <td>Death Becomes Her</td>\n",
       "      <td>True</td>\n",
       "    </tr>\n",
       "    <tr>\n",
       "      <th>5051</th>\n",
       "      <td>1972</td>\n",
       "      <td>1973</td>\n",
       "      <td>45</td>\n",
       "      <td>MUSIC (Scoring: Adaptation and Original Song S...</td>\n",
       "      <td>Adaptation Score by Gil Askey</td>\n",
       "      <td>Lady Sings the Blues</td>\n",
       "      <td>False</td>\n",
       "    </tr>\n",
       "    <tr>\n",
       "      <th>2267</th>\n",
       "      <td>1948</td>\n",
       "      <td>1949</td>\n",
       "      <td>21</td>\n",
       "      <td>SPECIAL EFFECTS</td>\n",
       "      <td>Special Visual Effects by Paul Eagler, J. McMi...</td>\n",
       "      <td>Portrait of Jennie</td>\n",
       "      <td>True</td>\n",
       "    </tr>\n",
       "    <tr>\n",
       "      <th>9930</th>\n",
       "      <td>2016</td>\n",
       "      <td>2017</td>\n",
       "      <td>89</td>\n",
       "      <td>DOCUMENTARY (Feature)</td>\n",
       "      <td>Raoul Peck, Rémi Grellety and Hébert Peck</td>\n",
       "      <td>I Am Not Your Negro</td>\n",
       "      <td>False</td>\n",
       "    </tr>\n",
       "  </tbody>\n",
       "</table>\n",
       "</div>"
      ],
      "text/plain": [
       "      year  year_ceremony  ceremony  \\\n",
       "8917  2008           2009        81   \n",
       "7202  1992           1993        65   \n",
       "5051  1972           1973        45   \n",
       "2267  1948           1949        21   \n",
       "9930  2016           2017        89   \n",
       "\n",
       "                                          cat_nominated  \\\n",
       "8917                          ACTRESS IN A LEADING ROLE   \n",
       "7202                                     VISUAL EFFECTS   \n",
       "5051  MUSIC (Scoring: Adaptation and Original Song S...   \n",
       "2267                                    SPECIAL EFFECTS   \n",
       "9930                              DOCUMENTARY (Feature)   \n",
       "\n",
       "                                         name_nominated                  name  \\\n",
       "8917                                        Melissa Leo          Frozen River   \n",
       "7202  Ken Ralston, Doug Chiang, Doug Smythe, Tom Woo...     Death Becomes Her   \n",
       "5051                      Adaptation Score by Gil Askey  Lady Sings the Blues   \n",
       "2267  Special Visual Effects by Paul Eagler, J. McMi...    Portrait of Jennie   \n",
       "9930          Raoul Peck, Rémi Grellety and Hébert Peck   I Am Not Your Negro   \n",
       "\n",
       "      winner  \n",
       "8917   False  \n",
       "7202    True  \n",
       "5051   False  \n",
       "2267    True  \n",
       "9930   False  "
      ]
     },
     "metadata": {},
     "output_type": "display_data"
    },
    {
     "data": {
      "text/plain": [
       "(10765, 7)"
      ]
     },
     "metadata": {},
     "output_type": "display_data"
    },
    {
     "name": "stdout",
     "output_type": "stream",
     "text": [
      "<class 'pandas.core.frame.DataFrame'>\n",
      "RangeIndex: 10765 entries, 0 to 10764\n",
      "Data columns (total 7 columns):\n",
      " #   Column          Non-Null Count  Dtype \n",
      "---  ------          --------------  ----- \n",
      " 0   year            10765 non-null  int64 \n",
      " 1   year_ceremony   10765 non-null  int64 \n",
      " 2   ceremony        10765 non-null  int64 \n",
      " 3   cat_nominated   10765 non-null  object\n",
      " 4   name_nominated  10761 non-null  object\n",
      " 5   name            10450 non-null  object\n",
      " 6   winner          10765 non-null  bool  \n",
      "dtypes: bool(1), int64(3), object(3)\n",
      "memory usage: 515.2+ KB\n"
     ]
    },
    {
     "data": {
      "text/plain": [
       "None"
      ]
     },
     "metadata": {},
     "output_type": "display_data"
    }
   ],
   "source": [
    "awards = pd.read_csv(DATA_PATH+AWARDS_PATH).rename(columns={'year_film': 'year', 'category': 'cat_nominated', 'name': 'name_nominated', 'film': 'name'})\n",
    "display(awards.sample(5))\n",
    "display(awards.shape)\n",
    "display(awards.info())"
   ]
  },
  {
   "cell_type": "code",
   "execution_count": 5,
   "metadata": {},
   "outputs": [
    {
     "data": {
      "text/html": [
       "<div>\n",
       "<style scoped>\n",
       "    .dataframe tbody tr th:only-of-type {\n",
       "        vertical-align: middle;\n",
       "    }\n",
       "\n",
       "    .dataframe tbody tr th {\n",
       "        vertical-align: top;\n",
       "    }\n",
       "\n",
       "    .dataframe thead th {\n",
       "        text-align: right;\n",
       "    }\n",
       "</style>\n",
       "<table border=\"1\" class=\"dataframe\">\n",
       "  <thead>\n",
       "    <tr style=\"text-align: right;\">\n",
       "      <th></th>\n",
       "      <th>year</th>\n",
       "      <th>year_ceremony</th>\n",
       "      <th>ceremony</th>\n",
       "      <th>cat_nominated</th>\n",
       "      <th>name_nominated</th>\n",
       "      <th>name</th>\n",
       "      <th>winner</th>\n",
       "    </tr>\n",
       "  </thead>\n",
       "  <tbody>\n",
       "    <tr>\n",
       "      <th>8046</th>\n",
       "      <td>2002</td>\n",
       "      <td>2003</td>\n",
       "      <td>75</td>\n",
       "      <td>MUSIC (Original Score)</td>\n",
       "      <td>Thomas Newman</td>\n",
       "      <td>Road to Perdition</td>\n",
       "      <td>False</td>\n",
       "    </tr>\n",
       "    <tr>\n",
       "      <th>1374</th>\n",
       "      <td>1942</td>\n",
       "      <td>1943</td>\n",
       "      <td>15</td>\n",
       "      <td>WRITING (Original Screenplay)</td>\n",
       "      <td>Michael Powell, Emeric Pressburger</td>\n",
       "      <td>One of Our Aircraft Is Missing</td>\n",
       "      <td>False</td>\n",
       "    </tr>\n",
       "    <tr>\n",
       "      <th>7247</th>\n",
       "      <td>1995</td>\n",
       "      <td>1996</td>\n",
       "      <td>68</td>\n",
       "      <td>DOCUMENTARY (Short Subject)</td>\n",
       "      <td>Greg MacGillivray, Alec Lorimore</td>\n",
       "      <td>The Living Sea</td>\n",
       "      <td>False</td>\n",
       "    </tr>\n",
       "    <tr>\n",
       "      <th>2107</th>\n",
       "      <td>1948</td>\n",
       "      <td>1949</td>\n",
       "      <td>21</td>\n",
       "      <td>ART DIRECTION (Black-and-White)</td>\n",
       "      <td>Art Direction:  Robert Haas;  Set Decoration: ...</td>\n",
       "      <td>Johnny Belinda</td>\n",
       "      <td>False</td>\n",
       "    </tr>\n",
       "    <tr>\n",
       "      <th>9583</th>\n",
       "      <td>2015</td>\n",
       "      <td>2016</td>\n",
       "      <td>88</td>\n",
       "      <td>SOUND MIXING</td>\n",
       "      <td>Chris Jenkins, Gregg Rudloff and Ben Osmo</td>\n",
       "      <td>Mad Max: Fury Road</td>\n",
       "      <td>True</td>\n",
       "    </tr>\n",
       "  </tbody>\n",
       "</table>\n",
       "</div>"
      ],
      "text/plain": [
       "      year  year_ceremony  ceremony                    cat_nominated  \\\n",
       "8046  2002           2003        75           MUSIC (Original Score)   \n",
       "1374  1942           1943        15    WRITING (Original Screenplay)   \n",
       "7247  1995           1996        68      DOCUMENTARY (Short Subject)   \n",
       "2107  1948           1949        21  ART DIRECTION (Black-and-White)   \n",
       "9583  2015           2016        88                     SOUND MIXING   \n",
       "\n",
       "                                         name_nominated  \\\n",
       "8046                                      Thomas Newman   \n",
       "1374                 Michael Powell, Emeric Pressburger   \n",
       "7247                   Greg MacGillivray, Alec Lorimore   \n",
       "2107  Art Direction:  Robert Haas;  Set Decoration: ...   \n",
       "9583          Chris Jenkins, Gregg Rudloff and Ben Osmo   \n",
       "\n",
       "                                name  winner  \n",
       "8046               Road to Perdition   False  \n",
       "1374  One of Our Aircraft Is Missing   False  \n",
       "7247                  The Living Sea   False  \n",
       "2107                  Johnny Belinda   False  \n",
       "9583              Mad Max: Fury Road    True  "
      ]
     },
     "metadata": {},
     "output_type": "display_data"
    },
    {
     "data": {
      "text/plain": [
       "(10450, 7)"
      ]
     },
     "metadata": {},
     "output_type": "display_data"
    },
    {
     "name": "stdout",
     "output_type": "stream",
     "text": [
      "<class 'pandas.core.frame.DataFrame'>\n",
      "RangeIndex: 10450 entries, 0 to 10449\n",
      "Data columns (total 7 columns):\n",
      " #   Column          Non-Null Count  Dtype \n",
      "---  ------          --------------  ----- \n",
      " 0   year            10450 non-null  int64 \n",
      " 1   year_ceremony   10450 non-null  int64 \n",
      " 2   ceremony        10450 non-null  int64 \n",
      " 3   cat_nominated   10450 non-null  object\n",
      " 4   name_nominated  10450 non-null  object\n",
      " 5   name            10450 non-null  object\n",
      " 6   winner          10450 non-null  bool  \n",
      "dtypes: bool(1), int64(3), object(3)\n",
      "memory usage: 500.2+ KB\n"
     ]
    },
    {
     "data": {
      "text/plain": [
       "None"
      ]
     },
     "metadata": {},
     "output_type": "display_data"
    }
   ],
   "source": [
    "# Get rid of missing name rows\n",
    "\n",
    "awards_clean = awards.copy()\n",
    "awards_clean = awards.loc[~awards['name'].isna()].reset_index(drop=True)\n",
    "display(awards_clean.sample(5))\n",
    "display(awards_clean.shape)\n",
    "display(awards_clean.info())"
   ]
  },
  {
   "cell_type": "code",
   "execution_count": 6,
   "metadata": {},
   "outputs": [
    {
     "data": {
      "text/html": [
       "<div>\n",
       "<style scoped>\n",
       "    .dataframe tbody tr th:only-of-type {\n",
       "        vertical-align: middle;\n",
       "    }\n",
       "\n",
       "    .dataframe tbody tr th {\n",
       "        vertical-align: top;\n",
       "    }\n",
       "\n",
       "    .dataframe thead th {\n",
       "        text-align: right;\n",
       "    }\n",
       "</style>\n",
       "<table border=\"1\" class=\"dataframe\">\n",
       "  <thead>\n",
       "    <tr style=\"text-align: right;\">\n",
       "      <th></th>\n",
       "      <th>Missing Data (%)</th>\n",
       "    </tr>\n",
       "    <tr>\n",
       "      <th>Column</th>\n",
       "      <th></th>\n",
       "    </tr>\n",
       "  </thead>\n",
       "  <tbody>\n",
       "    <tr>\n",
       "      <th>year</th>\n",
       "      <td>0.0</td>\n",
       "    </tr>\n",
       "    <tr>\n",
       "      <th>year_ceremony</th>\n",
       "      <td>0.0</td>\n",
       "    </tr>\n",
       "    <tr>\n",
       "      <th>ceremony</th>\n",
       "      <td>0.0</td>\n",
       "    </tr>\n",
       "    <tr>\n",
       "      <th>cat_nominated</th>\n",
       "      <td>0.0</td>\n",
       "    </tr>\n",
       "    <tr>\n",
       "      <th>name_nominated</th>\n",
       "      <td>0.0</td>\n",
       "    </tr>\n",
       "    <tr>\n",
       "      <th>name</th>\n",
       "      <td>0.0</td>\n",
       "    </tr>\n",
       "    <tr>\n",
       "      <th>winner</th>\n",
       "      <td>0.0</td>\n",
       "    </tr>\n",
       "  </tbody>\n",
       "</table>\n",
       "</div>"
      ],
      "text/plain": [
       "                Missing Data (%)\n",
       "Column                          \n",
       "year                         0.0\n",
       "year_ceremony                0.0\n",
       "ceremony                     0.0\n",
       "cat_nominated                0.0\n",
       "name_nominated               0.0\n",
       "name                         0.0\n",
       "winner                       0.0"
      ]
     },
     "execution_count": 6,
     "metadata": {},
     "output_type": "execute_result"
    }
   ],
   "source": [
    "generate_missing_info(awards_clean)"
   ]
  },
  {
   "cell_type": "code",
   "execution_count": 16,
   "metadata": {},
   "outputs": [
    {
     "data": {
      "text/plain": [
       "array(['ACTOR', 'ACTRESS', 'ART DIRECTION', 'CINEMATOGRAPHY',\n",
       "       'DIRECTING (Comedy Picture)', 'DIRECTING (Dramatic Picture)',\n",
       "       'ENGINEERING EFFECTS', 'OUTSTANDING PICTURE',\n",
       "       'UNIQUE AND ARTISTIC PICTURE', 'WRITING (Adaptation)',\n",
       "       'WRITING (Original Story)', 'WRITING (Title Writing)', 'DIRECTING',\n",
       "       'WRITING', 'OUTSTANDING PRODUCTION', 'SOUND RECORDING',\n",
       "       'SHORT SUBJECT (Cartoon)', 'SHORT SUBJECT (Comedy)',\n",
       "       'SHORT SUBJECT (Novelty)', 'ASSISTANT DIRECTOR', 'FILM EDITING',\n",
       "       'MUSIC (Scoring)', 'MUSIC (Song)', 'DANCE DIRECTION',\n",
       "       'WRITING (Screenplay)', 'ACTOR IN A SUPPORTING ROLE',\n",
       "       'ACTRESS IN A SUPPORTING ROLE', 'SHORT SUBJECT (Color)',\n",
       "       'SHORT SUBJECT (One-reel)', 'SHORT SUBJECT (Two-reel)',\n",
       "       'MUSIC (Original Score)', 'CINEMATOGRAPHY (Black-and-White)',\n",
       "       'CINEMATOGRAPHY (Color)', 'SPECIAL EFFECTS',\n",
       "       'ART DIRECTION (Black-and-White)', 'ART DIRECTION (Color)',\n",
       "       'WRITING (Original Screenplay)', 'DOCUMENTARY (Short Subject)',\n",
       "       'MUSIC (Music Score of a Dramatic Picture)',\n",
       "       'MUSIC (Scoring of a Musical Picture)',\n",
       "       'OUTSTANDING MOTION PICTURE', 'DOCUMENTARY',\n",
       "       'MUSIC (Music Score of a Dramatic or Comedy Picture)',\n",
       "       'WRITING (Original Motion Picture Story)', 'DOCUMENTARY (Feature)',\n",
       "       'BEST MOTION PICTURE', 'WRITING (Motion Picture Story)',\n",
       "       'COSTUME DESIGN (Black-and-White)', 'COSTUME DESIGN (Color)',\n",
       "       'WRITING (Story and Screenplay)', 'FOREIGN LANGUAGE FILM',\n",
       "       'WRITING (Screenplay--Adapted)', 'WRITING (Screenplay--Original)',\n",
       "       'COSTUME DESIGN', 'SHORT SUBJECT (Live Action)',\n",
       "       'WRITING (Screenplay--based on material from another medium)',\n",
       "       'WRITING (Story and Screenplay--written directly for the screen)',\n",
       "       'SOUND', 'MUSIC (Music Score--substantially original)',\n",
       "       'MUSIC (Scoring of Music--adaptation or treatment)',\n",
       "       'BEST PICTURE', 'SOUND EFFECTS', 'SPECIAL VISUAL EFFECTS',\n",
       "       'MUSIC (Original Music Score)',\n",
       "       'MUSIC (Original Score--for a motion picture [not a musical])',\n",
       "       'MUSIC (Score of a Musical Picture--original or adaptation)',\n",
       "       'MUSIC (Song--Original for the Picture)',\n",
       "       'WRITING (Story and Screenplay--based on material not previously published or produced)',\n",
       "       'MUSIC (Original Song Score)',\n",
       "       'WRITING (Story and Screenplay--based on factual material or material not previously published or produced)',\n",
       "       'MUSIC (Original Dramatic Score)',\n",
       "       'MUSIC (Scoring: Adaptation and Original Song Score)',\n",
       "       'SHORT SUBJECT (Animated)',\n",
       "       'SPECIAL ACHIEVEMENT AWARD (Visual Effects)',\n",
       "       'MUSIC (Scoring: Original Song Score and Adaptation -or- Scoring: Adaptation)',\n",
       "       'SHORT FILM (Animated)', 'SHORT FILM (Live Action)',\n",
       "       'WRITING (Screenplay Adapted from Other Material)',\n",
       "       'MUSIC (Original Song)',\n",
       "       'SPECIAL ACHIEVEMENT AWARD (Sound Effects)',\n",
       "       'ACTOR IN A LEADING ROLE', 'ACTRESS IN A LEADING ROLE',\n",
       "       'MUSIC (Original Song Score and Its Adaptation or Adaptation Score)',\n",
       "       'WRITING (Screenplay Written Directly for the Screen--based on factual material or on story material not previously published or produced)',\n",
       "       'VISUAL EFFECTS',\n",
       "       'SPECIAL ACHIEVEMENT AWARD (Sound Effects Editing)',\n",
       "       'MUSIC (Adaptation Score)',\n",
       "       'WRITING (Screenplay Based on Material from Another Medium)',\n",
       "       'WRITING (Screenplay Written Directly for the Screen)',\n",
       "       'MUSIC (Original Song Score and Its Adaptation -or- Adaptation Score)',\n",
       "       'SPECIAL ACHIEVEMENT AWARD (Sound Editing)',\n",
       "       'SHORT FILM (Dramatic Live Action)', 'MAKEUP',\n",
       "       'SOUND EFFECTS EDITING',\n",
       "       'MUSIC (Original Song Score or Adaptation Score)',\n",
       "       'WRITING (Screenplay Based on Material Previously Produced or Published)',\n",
       "       'MUSIC (Original Musical or Comedy Score)', 'SOUND EDITING',\n",
       "       'ANIMATED FEATURE FILM', 'WRITING (Adapted Screenplay)',\n",
       "       'SOUND MIXING', 'MAKEUP AND HAIRSTYLING', 'PRODUCTION DESIGN',\n",
       "       'INTERNATIONAL FEATURE FILM', 'DOCUMENTARY FEATURE FILM',\n",
       "       'DOCUMENTARY SHORT FILM', 'AWARD OF COMMENDATION'], dtype=object)"
      ]
     },
     "execution_count": 16,
     "metadata": {},
     "output_type": "execute_result"
    }
   ],
   "source": [
    "awards_clean.cat_nominated.unique()"
   ]
  },
  {
   "cell_type": "code",
   "execution_count": 7,
   "metadata": {},
   "outputs": [
    {
     "name": "stdout",
     "output_type": "stream",
     "text": [
      "Rows with real duplicates: \n",
      "                                    name  year  ceremony\n",
      "1                       The Last Command  1927         1\n",
      "3                             7th Heaven  1927         1\n",
      "5                                Sunrise  1927         1\n",
      "7                             7th Heaven  1927         1\n",
      "9                                Sunrise  1927         1\n",
      "...                                  ...   ...       ...\n",
      "10444          The Banshees of Inisherin  2022        95\n",
      "10445  Everything Everywhere All at Once  2022        95\n",
      "10446                      The Fabelmans  2022        95\n",
      "10447                                Tár  2022        95\n",
      "10448                Triangle of Sadness  2022        95\n",
      "\n",
      "[7020 rows x 3 columns]\n",
      "--------------------------------------------------------------------------------\n"
     ]
    }
   ],
   "source": [
    "check_doublons(awards_clean, ['name'], 'year', 'ceremony')"
   ]
  },
  {
   "cell_type": "code",
   "execution_count": 9,
   "metadata": {},
   "outputs": [
    {
     "data": {
      "text/html": [
       "<div>\n",
       "<style scoped>\n",
       "    .dataframe tbody tr th:only-of-type {\n",
       "        vertical-align: middle;\n",
       "    }\n",
       "\n",
       "    .dataframe tbody tr th {\n",
       "        vertical-align: top;\n",
       "    }\n",
       "\n",
       "    .dataframe thead th {\n",
       "        text-align: right;\n",
       "    }\n",
       "</style>\n",
       "<table border=\"1\" class=\"dataframe\">\n",
       "  <thead>\n",
       "    <tr style=\"text-align: right;\">\n",
       "      <th></th>\n",
       "      <th>year</th>\n",
       "      <th>year_ceremony</th>\n",
       "      <th>ceremony</th>\n",
       "      <th>cat_nominated</th>\n",
       "      <th>name_nominated</th>\n",
       "      <th>name</th>\n",
       "      <th>winner</th>\n",
       "    </tr>\n",
       "  </thead>\n",
       "  <tbody>\n",
       "    <tr>\n",
       "      <th>3</th>\n",
       "      <td>1927</td>\n",
       "      <td>1928</td>\n",
       "      <td>1</td>\n",
       "      <td>ACTRESS</td>\n",
       "      <td>Janet Gaynor</td>\n",
       "      <td>7th Heaven</td>\n",
       "      <td>True</td>\n",
       "    </tr>\n",
       "    <tr>\n",
       "      <th>7</th>\n",
       "      <td>1927</td>\n",
       "      <td>1928</td>\n",
       "      <td>1</td>\n",
       "      <td>ART DIRECTION</td>\n",
       "      <td>Harry Oliver</td>\n",
       "      <td>7th Heaven</td>\n",
       "      <td>False</td>\n",
       "    </tr>\n",
       "    <tr>\n",
       "      <th>13</th>\n",
       "      <td>1927</td>\n",
       "      <td>1928</td>\n",
       "      <td>1</td>\n",
       "      <td>DIRECTING (Dramatic Picture)</td>\n",
       "      <td>Frank Borzage</td>\n",
       "      <td>7th Heaven</td>\n",
       "      <td>True</td>\n",
       "    </tr>\n",
       "    <tr>\n",
       "      <th>18</th>\n",
       "      <td>1927</td>\n",
       "      <td>1928</td>\n",
       "      <td>1</td>\n",
       "      <td>OUTSTANDING PICTURE</td>\n",
       "      <td>Fox</td>\n",
       "      <td>7th Heaven</td>\n",
       "      <td>False</td>\n",
       "    </tr>\n",
       "    <tr>\n",
       "      <th>25</th>\n",
       "      <td>1927</td>\n",
       "      <td>1928</td>\n",
       "      <td>1</td>\n",
       "      <td>WRITING (Adaptation)</td>\n",
       "      <td>Benjamin Glazer</td>\n",
       "      <td>7th Heaven</td>\n",
       "      <td>True</td>\n",
       "    </tr>\n",
       "  </tbody>\n",
       "</table>\n",
       "</div>"
      ],
      "text/plain": [
       "    year  year_ceremony  ceremony                 cat_nominated  \\\n",
       "3   1927           1928         1                       ACTRESS   \n",
       "7   1927           1928         1                 ART DIRECTION   \n",
       "13  1927           1928         1  DIRECTING (Dramatic Picture)   \n",
       "18  1927           1928         1           OUTSTANDING PICTURE   \n",
       "25  1927           1928         1          WRITING (Adaptation)   \n",
       "\n",
       "     name_nominated        name  winner  \n",
       "3      Janet Gaynor  7th Heaven    True  \n",
       "7      Harry Oliver  7th Heaven   False  \n",
       "13    Frank Borzage  7th Heaven    True  \n",
       "18              Fox  7th Heaven   False  \n",
       "25  Benjamin Glazer  7th Heaven    True  "
      ]
     },
     "execution_count": 9,
     "metadata": {},
     "output_type": "execute_result"
    }
   ],
   "source": [
    "awards_clean[awards_clean['name']=='7th Heaven']"
   ]
  },
  {
   "cell_type": "code",
   "execution_count": 11,
   "metadata": {},
   "outputs": [
    {
     "data": {
      "text/html": [
       "<div>\n",
       "<style scoped>\n",
       "    .dataframe tbody tr th:only-of-type {\n",
       "        vertical-align: middle;\n",
       "    }\n",
       "\n",
       "    .dataframe tbody tr th {\n",
       "        vertical-align: top;\n",
       "    }\n",
       "\n",
       "    .dataframe thead th {\n",
       "        text-align: right;\n",
       "    }\n",
       "</style>\n",
       "<table border=\"1\" class=\"dataframe\">\n",
       "  <thead>\n",
       "    <tr style=\"text-align: right;\">\n",
       "      <th></th>\n",
       "      <th>name</th>\n",
       "      <th>year</th>\n",
       "      <th>year_ceremony</th>\n",
       "      <th>ceremony</th>\n",
       "      <th>cat_nominated</th>\n",
       "      <th>name_nominated</th>\n",
       "      <th>winner</th>\n",
       "    </tr>\n",
       "  </thead>\n",
       "  <tbody>\n",
       "    <tr>\n",
       "      <th>1840</th>\n",
       "      <td>Johann Mouse</td>\n",
       "      <td>1952</td>\n",
       "      <td>1953</td>\n",
       "      <td>25</td>\n",
       "      <td>[SHORT SUBJECT (Cartoon)]</td>\n",
       "      <td>[Fred Quimby, Producer]</td>\n",
       "      <td>[True]</td>\n",
       "    </tr>\n",
       "    <tr>\n",
       "      <th>3570</th>\n",
       "      <td>The Country Girl</td>\n",
       "      <td>1954</td>\n",
       "      <td>1955</td>\n",
       "      <td>27</td>\n",
       "      <td>[ACTOR, ACTRESS, ART DIRECTION (Black-and-Whit...</td>\n",
       "      <td>[Bing Crosby, Grace Kelly, Art Direction:  Hal...</td>\n",
       "      <td>[False, True, False, False, False, False, True]</td>\n",
       "    </tr>\n",
       "    <tr>\n",
       "      <th>1337</th>\n",
       "      <td>Fried Green Tomatoes</td>\n",
       "      <td>1991</td>\n",
       "      <td>1992</td>\n",
       "      <td>64</td>\n",
       "      <td>[ACTRESS IN A SUPPORTING ROLE, WRITING (Screen...</td>\n",
       "      <td>[Jessica Tandy, Fannie Flagg, Carol Sobieski]</td>\n",
       "      <td>[False, False]</td>\n",
       "    </tr>\n",
       "    <tr>\n",
       "      <th>2482</th>\n",
       "      <td>Norman Rockwell's World...An American Dream</td>\n",
       "      <td>1972</td>\n",
       "      <td>1973</td>\n",
       "      <td>45</td>\n",
       "      <td>[SHORT SUBJECT (Live Action)]</td>\n",
       "      <td>[Richard Barclay, Producer]</td>\n",
       "      <td>[True]</td>\n",
       "    </tr>\n",
       "    <tr>\n",
       "      <th>191</th>\n",
       "      <td>Adventures in Perception</td>\n",
       "      <td>1971</td>\n",
       "      <td>1972</td>\n",
       "      <td>44</td>\n",
       "      <td>[DOCUMENTARY (Short Subject)]</td>\n",
       "      <td>[Han van Gelder, Producer]</td>\n",
       "      <td>[False]</td>\n",
       "    </tr>\n",
       "  </tbody>\n",
       "</table>\n",
       "</div>"
      ],
      "text/plain": [
       "                                             name  year  year_ceremony  \\\n",
       "1840                                 Johann Mouse  1952           1953   \n",
       "3570                             The Country Girl  1954           1955   \n",
       "1337                         Fried Green Tomatoes  1991           1992   \n",
       "2482  Norman Rockwell's World...An American Dream  1972           1973   \n",
       "191                      Adventures in Perception  1971           1972   \n",
       "\n",
       "      ceremony                                      cat_nominated  \\\n",
       "1840        25                          [SHORT SUBJECT (Cartoon)]   \n",
       "3570        27  [ACTOR, ACTRESS, ART DIRECTION (Black-and-Whit...   \n",
       "1337        64  [ACTRESS IN A SUPPORTING ROLE, WRITING (Screen...   \n",
       "2482        45                      [SHORT SUBJECT (Live Action)]   \n",
       "191         44                      [DOCUMENTARY (Short Subject)]   \n",
       "\n",
       "                                         name_nominated  \\\n",
       "1840                            [Fred Quimby, Producer]   \n",
       "3570  [Bing Crosby, Grace Kelly, Art Direction:  Hal...   \n",
       "1337      [Jessica Tandy, Fannie Flagg, Carol Sobieski]   \n",
       "2482                        [Richard Barclay, Producer]   \n",
       "191                          [Han van Gelder, Producer]   \n",
       "\n",
       "                                               winner  \n",
       "1840                                           [True]  \n",
       "3570  [False, True, False, False, False, False, True]  \n",
       "1337                                   [False, False]  \n",
       "2482                                           [True]  \n",
       "191                                           [False]  "
      ]
     },
     "metadata": {},
     "output_type": "display_data"
    },
    {
     "data": {
      "text/plain": [
       "(4991, 7)"
      ]
     },
     "metadata": {},
     "output_type": "display_data"
    },
    {
     "name": "stdout",
     "output_type": "stream",
     "text": [
      "<class 'pandas.core.frame.DataFrame'>\n",
      "RangeIndex: 4991 entries, 0 to 4990\n",
      "Data columns (total 7 columns):\n",
      " #   Column          Non-Null Count  Dtype \n",
      "---  ------          --------------  ----- \n",
      " 0   name            4991 non-null   object\n",
      " 1   year            4991 non-null   int64 \n",
      " 2   year_ceremony   4991 non-null   int64 \n",
      " 3   ceremony        4991 non-null   int64 \n",
      " 4   cat_nominated   4991 non-null   object\n",
      " 5   name_nominated  4991 non-null   object\n",
      " 6   winner          4991 non-null   object\n",
      "dtypes: int64(3), object(4)\n",
      "memory usage: 273.1+ KB\n"
     ]
    },
    {
     "data": {
      "text/plain": [
       "None"
      ]
     },
     "metadata": {},
     "output_type": "display_data"
    }
   ],
   "source": [
    "awards_condensed = awards_clean.copy()\n",
    "aggregation_functions = {\n",
    "    'year': 'first',\n",
    "    'year_ceremony': 'first',\n",
    "    'ceremony': 'first',\n",
    "    'cat_nominated': list,\n",
    "    'name_nominated': list,\n",
    "    'winner': list\n",
    "}\n",
    "\n",
    "awards_condensed = awards_clean.groupby('name').agg(aggregation_functions).reset_index()\n",
    "\n",
    "display(awards_condensed.sample(5))\n",
    "display(awards_condensed.shape)\n",
    "display(awards_condensed.info())"
   ]
  },
  {
   "cell_type": "code",
   "execution_count": 12,
   "metadata": {},
   "outputs": [
    {
     "data": {
      "text/html": [
       "<div>\n",
       "<style scoped>\n",
       "    .dataframe tbody tr th:only-of-type {\n",
       "        vertical-align: middle;\n",
       "    }\n",
       "\n",
       "    .dataframe tbody tr th {\n",
       "        vertical-align: top;\n",
       "    }\n",
       "\n",
       "    .dataframe thead th {\n",
       "        text-align: right;\n",
       "    }\n",
       "</style>\n",
       "<table border=\"1\" class=\"dataframe\">\n",
       "  <thead>\n",
       "    <tr style=\"text-align: right;\">\n",
       "      <th></th>\n",
       "      <th>name</th>\n",
       "      <th>year</th>\n",
       "      <th>year_ceremony</th>\n",
       "      <th>ceremony</th>\n",
       "      <th>cat_nominated</th>\n",
       "      <th>name_nominated</th>\n",
       "      <th>winner</th>\n",
       "    </tr>\n",
       "  </thead>\n",
       "  <tbody>\n",
       "    <tr>\n",
       "      <th>39</th>\n",
       "      <td>7th Heaven</td>\n",
       "      <td>1927</td>\n",
       "      <td>1928</td>\n",
       "      <td>1</td>\n",
       "      <td>[ACTRESS, ART DIRECTION, DIRECTING (Dramatic P...</td>\n",
       "      <td>[Janet Gaynor, Harry Oliver, Frank Borzage, Fo...</td>\n",
       "      <td>[True, False, True, False, True]</td>\n",
       "    </tr>\n",
       "  </tbody>\n",
       "</table>\n",
       "</div>"
      ],
      "text/plain": [
       "          name  year  year_ceremony  ceremony  \\\n",
       "39  7th Heaven  1927           1928         1   \n",
       "\n",
       "                                        cat_nominated  \\\n",
       "39  [ACTRESS, ART DIRECTION, DIRECTING (Dramatic P...   \n",
       "\n",
       "                                       name_nominated  \\\n",
       "39  [Janet Gaynor, Harry Oliver, Frank Borzage, Fo...   \n",
       "\n",
       "                              winner  \n",
       "39  [True, False, True, False, True]  "
      ]
     },
     "execution_count": 12,
     "metadata": {},
     "output_type": "execute_result"
    }
   ],
   "source": [
    "awards_condensed[awards_condensed['name']=='7th Heaven']"
   ]
  },
  {
   "cell_type": "code",
   "execution_count": 14,
   "metadata": {},
   "outputs": [
    {
     "data": {
      "text/plain": [
       "(array([274., 696., 569., 472., 478., 430., 501., 480., 543., 548.]),\n",
       " array([1927. , 1936.5, 1946. , 1955.5, 1965. , 1974.5, 1984. , 1993.5,\n",
       "        2003. , 2012.5, 2022. ]),\n",
       " [<matplotlib.patches.Polygon at 0x22bd287c3a0>])"
      ]
     },
     "execution_count": 14,
     "metadata": {},
     "output_type": "execute_result"
    },
    {
     "data": {
      "image/png": "[encoded data removed]",
      "text/plain": [
       "<Figure size 640x480 with 1 Axes>"
      ]
     },
     "metadata": {},
     "output_type": "display_data"
    }
   ],
   "source": [
    "plt.hist(awards_condensed.year, histtype='step') "
   ]
  },
  {
   "cell_type": "code",
   "execution_count": null,
   "metadata": {},
   "outputs": [],
   "source": []
  }
 ],
 "metadata": {
  "kernelspec": {
   "display_name": "Python [conda env:ada] *",
   "language": "python",
   "name": "conda-env-ada-py"
  },
  "language_info": {
   "codemirror_mode": {
    "name": "ipython",
    "version": 3
   },
   "file_extension": ".py",
   "mimetype": "text/x-python",
   "name": "python",
   "nbconvert_exporter": "python",
   "pygments_lexer": "ipython3",
   "version": "3.9.18"
  }
 },
 "nbformat": 4,
 "nbformat_minor": 2
}
