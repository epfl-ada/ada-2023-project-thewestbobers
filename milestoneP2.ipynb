{
 "cells": [
  {
   "cell_type": "markdown",
   "metadata": {},
   "source": [
    "# Milestone P2"
   ]
  },
  {
   "cell_type": "markdown",
   "metadata": {},
   "source": [
    "[Milestone P2 briefing](https://epfl-ada.github.io/teaching/fall2023/cs401/projects/#p2-project-proposal-and-initial-analyses)\n",
    "# Milestone Objectives\n",
    "\n",
    "The aims of this milestone are to enhance our familiarity with the dataset to achieve our ultimate goal of identifying pivotal movies. To accomplish this, we will follow a structured approach:\n",
    "\n",
    "- **Data Exploration** : Interact with the dataset to gain insights and explore potential avenues for analyzing movies and identifying trends.\n",
    "\n",
    "- **Data Cleaning** : Clean the dataset to retain only movies that possess the relevant features necessary for our analysis. This step ensures that we work with a refined and focused dataset.\n",
    "\n",
    "- **Dataset Augmentation** : Enhance the dataset by incorporating additional features, as outlined in the ReadMe. Notably, we will include movie ratings, which are important for characterizing the popularity of movies.\n",
    "\n",
    "- **Preliminary Analysis** : Conduct a concise and initial analysis to identify pivotal movies. This analysis will provide valuable insights into the significance of certain movies within the dataset.\n",
    "\n",
    "\n",
    "\n",
    "\n"
   ]
  },
  {
   "cell_type": "markdown",
   "metadata": {},
   "source": [
    "## Configuration"
   ]
  },
  {
   "cell_type": "code",
   "execution_count": 1,
   "metadata": {},
   "outputs": [],
   "source": [
    "import pandas as pd\n",
    "import numpy as np\n",
    "import matplotlib.pyplot as plt\n",
    "import seaborn as sns\n",
    "import ast\n",
    "\n",
    "from implementations import *"
   ]
  },
  {
   "cell_type": "code",
   "execution_count": 2,
   "metadata": {},
   "outputs": [],
   "source": [
    "# Data Path\n",
    "DATA_PATH = '../data/'\n",
    "MOVIES_FOLDER = DATA_PATH+'MovieSummaries/'\n",
    "MOVIES_DATASET = MOVIES_FOLDER+\"movie.metadata.tsv\"\n",
    "\n",
    "# Load Data\n",
    "df = pd.read_csv(MOVIES_DATASET, sep='\\t', names=['id_wiki','id_freebase','name','date',\n",
    "                                                  'box_office','runtime','lang','countries','genres'])"
   ]
  },
  {
   "cell_type": "markdown",
   "metadata": {},
   "source": [
    "# 1) What's in the data?\n",
    "\n",
    "First, let's take a global view of what we have in the CMU movie dataset. We'll explore the dataset's overall structure, key variables, and initial characteristics to better understand the scope and content of the data before delving into specific analyses and preprocessing steps."
   ]
  },
  {
   "cell_type": "markdown",
   "metadata": {},
   "source": [
    "\n"
   ]
  },
  {
   "cell_type": "markdown",
   "metadata": {},
   "source": [
    "### a) Let's analyse how many movie the dataset contain"
   ]
  },
  {
   "cell_type": "code",
   "execution_count": 3,
   "metadata": {},
   "outputs": [
    {
     "name": "stdout",
     "output_type": "stream",
     "text": [
      "We have a total number of 81741 movies in the dataset \n"
     ]
    }
   ],
   "source": [
    "print(\"We have a total number of {} movies in the dataset \".format(len(df)))\n"
   ]
  },
  {
   "cell_type": "markdown",
   "metadata": {},
   "source": [
    "### b) But what features do we have ?\n"
   ]
  },
  {
   "cell_type": "code",
   "execution_count": 4,
   "metadata": {},
   "outputs": [
    {
     "name": "stdout",
     "output_type": "stream",
     "text": [
      "Index(['id_wiki', 'id_freebase', 'name', 'date', 'box_office', 'runtime',\n",
      "       'lang', 'countries', 'genres'],\n",
      "      dtype='object')\n"
     ]
    }
   ],
   "source": [
    "print(df.columns)"
   ]
  },
  {
   "cell_type": "markdown",
   "metadata": {},
   "source": [
    "- **id_wiki:** This is a unique identifier associated with each movie on Wikipedia.\n",
    "\n",
    "- **id_freebase:** This is a unique identifier associated with each movie on Freebase. This feature provides no useful information, as databases from Freebase were merged with Wikipedia in 2014.\n",
    "\n",
    "- **name:** Title of the movie.\n",
    "\n",
    "- **date:** Date of release of the movie.\n",
    "\n",
    "- **box_office:** Contains the box office revenue in dollars.\n",
    "\n",
    "- **runtime:** Duration of the film in minutes.\n",
    "\n",
    "- **lang:** This column indicates the languages used in the original (VO) movie.\n",
    "\n",
    "- **countries:** This column is associated with the country of production of the movie.\n",
    "\n",
    "- **genres:** Genres associated with the film.\n"
   ]
  },
  {
   "cell_type": "markdown",
   "metadata": {},
   "source": [
    "Let's see an example with our favorite movie saga: *Twilight*.\n",
    "\n",
    "But where are our precious movies? As the dataframe contains 80,000 movies, we need to find which ones contain the word \"Twilight\" in the title name.\n"
   ]
  },
  {
   "cell_type": "code",
   "execution_count": 5,
   "metadata": {},
   "outputs": [
    {
     "data": {
      "text/plain": [
       "' Movie title that contains Twilight \\n'"
      ]
     },
     "metadata": {},
     "output_type": "display_data"
    },
    {
     "data": {
      "text/plain": [
       "2673                                     Women of Twilight\n",
       "3241                              Twilight's Last Gleaming\n",
       "7447                           Twilight of the Dark Master\n",
       "9863                                      Twilight Dancers\n",
       "9912             The Twilight Saga: Breaking Dawn - Part 1\n",
       "13863    Memories of Berlin: The Twilight of Weimar Cul...\n",
       "14223                                             Twilight\n",
       "18376                                       Tokyo Twilight\n",
       "19856                             Twilight Zone: The Movie\n",
       "27507                              The Kingdom of Twilight\n",
       "33617                          Twilight of the Cockroaches\n",
       "33659                                             Twilight\n",
       "35389                                     Twilight Theater\n",
       "41159                                    Twilight of Honor\n",
       "41604                                 The Twilight Samurai\n",
       "42224                              Sir Galahad of Twilight\n",
       "42881                                 Twilight of the Gods\n",
       "53101                                      Before Twilight\n",
       "55482                                      In the Twilight\n",
       "57375                           Twilight of the Ice Nymphs\n",
       "58739                                      Bloody Twilight\n",
       "59864                                Twilight for the Gods\n",
       "62372              Dragonlance: Dragons of Autumn Twilight\n",
       "69180                                       Twilight Train\n",
       "70683                              Twilight in the Sierras\n",
       "74552                                           Twilight Q\n",
       "74914                                Twilight: Los Angeles\n",
       "79563                                   Dubrovnik Twilight\n",
       "80373                                   Alias Mr. Twilight\n",
       "Name: name, dtype: object"
      ]
     },
     "metadata": {},
     "output_type": "display_data"
    }
   ],
   "source": [
    "\n",
    "result = df[df['name'].str.contains('twilight', case=False, na=False)]\n",
    "display(' Movie title that contains Twilight \\n', result['name'] )"
   ]
  },
  {
   "cell_type": "code",
   "execution_count": 6,
   "metadata": {},
   "outputs": [
    {
     "name": "stdout",
     "output_type": "stream",
     "text": [
      "We have a total of 29 movie that contain Twilight in their title\n"
     ]
    }
   ],
   "source": [
    "print( 'We have a total of {} movie that contain Twilight in their title'.format(len(result)))"
   ]
  },
  {
   "cell_type": "markdown",
   "metadata": {},
   "source": [
    "That's more than we expected! Anyway, I see my favorite one: *The Twilight Saga: Breaking Dawn - Part 1*. Let's analyze the features of this movie.\n"
   ]
  },
  {
   "cell_type": "code",
   "execution_count": 7,
   "metadata": {},
   "outputs": [
    {
     "name": "stdout",
     "output_type": "stream",
     "text": [
      "Released date: 2011-11-16 \n",
      "\n",
      "Genres: {\"/m/07s9rl0\": \"Drama\", \"/m/01hmnh\": \"Fantasy\", \"/m/03k9fj\": \"Adventure\", \"/m/02b5_l\": \"Teen\", \"/m/03rzvv\": \"Romantic fantasy\"} \n",
      "\n",
      "Countries of production: {\"/m/09c7w0\": \"United States of America\"} \n",
      "\n",
      "Box office revenues : 705,058,657$ \n",
      "\n",
      "Duration : 117 minutes \n",
      "\n",
      "Language adaptation :{\"/m/02h40lc\": \"English Language\"}\n"
     ]
    }
   ],
   "source": [
    "FILM_NAME='The Twilight Saga: Breaking Dawn - Part 1'\n",
    "\n",
    "print('Released date: {} \\n' .format(df[\n",
    "    df['name']==FILM_NAME]['date'].values[0]))\n",
    "\n",
    "print('Genres: {} \\n'.format(df[\n",
    "    df['name']==FILM_NAME]['genres'].values[0]))\n",
    "\n",
    "print('Countries of production: {} \\n'.format(df[\n",
    "    df['name']==FILM_NAME]['countries'].values[0]))\n",
    "\n",
    "\n",
    "print('Box office revenues : {:,.0f}$ \\n'.format(df[\n",
    "    df['name']==FILM_NAME]['box_office'].values[0]))\n",
    "\n",
    "print('Duration : {:.0f} minutes \\n'.format(df[\n",
    "    df['name']==FILM_NAME]['runtime'].values[0]))\n",
    "\n",
    "print('Language adaptation :{}' .format(df[\n",
    "    df['name']==FILM_NAME]['lang'].values[0]))"
   ]
  },
  {
   "cell_type": "markdown",
   "metadata": {},
   "source": [
    "As we can see, some features are not that clean, like **genre, countries, and language adaptation**. These features will need to be treated in the second part.\n"
   ]
  },
  {
   "cell_type": "markdown",
   "metadata": {},
   "source": [
    "### c) Overall Overview\n"
   ]
  },
  {
   "cell_type": "markdown",
   "metadata": {},
   "source": [
    "After examining the features for the film *The Twilight Saga: Breaking Dawn - Part 1*, let's delve into a broader understanding of the dataset. Now, shifting our focus to the entire dataset, we aim to provide a comprehensive overview.\n"
   ]
  },
  {
   "cell_type": "code",
   "execution_count": 8,
   "metadata": {},
   "outputs": [
    {
     "data": {
      "image/png": "[encoded data removed]",
      "text/plain": [
       "<Figure size 720x720 with 4 Axes>"
      ]
     },
     "metadata": {
      "needs_background": "light"
     },
     "output_type": "display_data"
    }
   ],
   "source": [
    "data_viz(df, israw=True)"
   ]
  },
  {
   "cell_type": "markdown",
   "metadata": {},
   "source": [
    "# 2) Cleaning the data\n"
   ]
  },
  {
   "cell_type": "markdown",
   "metadata": {},
   "source": [
    "This part focuses on cleaning the data. Indeed, cleaning data is an important step for accurate data analysis. It ensures the integrity of results, reduces the risk of errors, and promotes consistency in reporting. Clean data enhances data understanding, uncovering valuable insights and patterns. Moreover, it facilitates compatibility with other datasets, mitigates bias, and ensures compliance with industry regulations. In essence, data cleaning is an essential step that contributes to the overall quality and effectiveness of data-driven processes. But first things first, let's make a deep copy of the dataset before filtering.\n"
   ]
  },
  {
   "cell_type": "code",
   "execution_count": 9,
   "metadata": {},
   "outputs": [],
   "source": [
    "movies = df.copy()"
   ]
  },
  {
   "cell_type": "markdown",
   "metadata": {},
   "source": [
    "### a) Removing missing data :\n",
    "\n",
    "First let's have a look at what is missing in the original dataframe *'df'*"
   ]
  },
  {
   "cell_type": "code",
   "execution_count": 10,
   "metadata": {},
   "outputs": [
    {
     "data": {
      "text/html": [
       "<div>\n",
       "<style scoped>\n",
       "    .dataframe tbody tr th:only-of-type {\n",
       "        vertical-align: middle;\n",
       "    }\n",
       "\n",
       "    .dataframe tbody tr th {\n",
       "        vertical-align: top;\n",
       "    }\n",
       "\n",
       "    .dataframe thead th {\n",
       "        text-align: right;\n",
       "    }\n",
       "</style>\n",
       "<table border=\"1\" class=\"dataframe\">\n",
       "  <thead>\n",
       "    <tr style=\"text-align: right;\">\n",
       "      <th></th>\n",
       "      <th>Missing Data (%)</th>\n",
       "    </tr>\n",
       "    <tr>\n",
       "      <th>Column</th>\n",
       "      <th></th>\n",
       "    </tr>\n",
       "  </thead>\n",
       "  <tbody>\n",
       "    <tr>\n",
       "      <th>id_wiki</th>\n",
       "      <td>0.00</td>\n",
       "    </tr>\n",
       "    <tr>\n",
       "      <th>id_freebase</th>\n",
       "      <td>0.00</td>\n",
       "    </tr>\n",
       "    <tr>\n",
       "      <th>name</th>\n",
       "      <td>0.00</td>\n",
       "    </tr>\n",
       "    <tr>\n",
       "      <th>date</th>\n",
       "      <td>8.44</td>\n",
       "    </tr>\n",
       "    <tr>\n",
       "      <th>box_office</th>\n",
       "      <td>89.72</td>\n",
       "    </tr>\n",
       "    <tr>\n",
       "      <th>runtime</th>\n",
       "      <td>25.02</td>\n",
       "    </tr>\n",
       "    <tr>\n",
       "      <th>lang</th>\n",
       "      <td>0.00</td>\n",
       "    </tr>\n",
       "    <tr>\n",
       "      <th>countries</th>\n",
       "      <td>0.00</td>\n",
       "    </tr>\n",
       "    <tr>\n",
       "      <th>genres</th>\n",
       "      <td>0.00</td>\n",
       "    </tr>\n",
       "  </tbody>\n",
       "</table>\n",
       "</div>"
      ],
      "text/plain": [
       "             Missing Data (%)\n",
       "Column                       \n",
       "id_wiki                  0.00\n",
       "id_freebase              0.00\n",
       "name                     0.00\n",
       "date                     8.44\n",
       "box_office              89.72\n",
       "runtime                 25.02\n",
       "lang                     0.00\n",
       "countries                0.00\n",
       "genres                   0.00"
      ]
     },
     "execution_count": 10,
     "metadata": {},
     "output_type": "execute_result"
    }
   ],
   "source": [
    "generate_missing_info(df)"
   ]
  },
  {
   "cell_type": "markdown",
   "metadata": {},
   "source": [
    "In order to identify pivotal movies, some features of data are crucial. First is data linked to trend identification. To identify trends for movies, we need two features: the **date of release** and the **genres** of the movie. Then, we remove all movies that have either a missing date feature or a missing genres feature.\n"
   ]
  },
  {
   "cell_type": "code",
   "execution_count": 11,
   "metadata": {},
   "outputs": [],
   "source": [
    "# Handle missing values\n",
    "movies = data_missing(movies)"
   ]
  },
  {
   "cell_type": "markdown",
   "metadata": {},
   "source": [
    "Now let's check if there are any duplicates. We define a duplicate pair as movies with the same name, release year, and runtime.\n"
   ]
  },
  {
   "cell_type": "code",
   "execution_count": 12,
   "metadata": {},
   "outputs": [
    {
     "name": "stdout",
     "output_type": "stream",
     "text": [
      "Rows with real duplicates: \n",
      "                                     name        date  runtime\n",
      "1412                       Landspeed: CKY        1999      NaN\n",
      "4856   Indiana Jones and the Last Crusade  1989-05-24    127.0\n",
      "5356                       Landspeed: CKY        1999      NaN\n",
      "5872                    Secrets of Nature        1950      NaN\n",
      "9965                      Little Big Horn  1951-06-15     86.0\n",
      "13458                    Jeepers Creepers        1939      NaN\n",
      "16448                 Moscow Strikes Back  1942-02-23     55.0\n",
      "24940                   Secrets of Nature        1950      NaN\n",
      "31701                    Facing the Music  1941-10-18     79.0\n",
      "45846                 Moscow Strikes Back  1942-02-23     55.0\n",
      "46001                    Jeepers Creepers        1939      NaN\n",
      "49203  Indiana Jones and the Last Crusade  1989-05-24    127.0\n",
      "51505                Yours, Mine and Ours  2005-11-23     88.0\n",
      "61322                     Little Big Horn  1951-06-15     86.0\n",
      "62250                             Durango  1999-04-25     98.0\n",
      "66518                    Facing the Music  1941-10-18     79.0\n",
      "74548                             Durango  1999-04-25     98.0\n",
      "80080                Yours, Mine and Ours  2005-11-23     88.0\n",
      "--------------------------------------------------------------------------------\n"
     ]
    }
   ],
   "source": [
    "check_doublons(movies,['name'],'date','runtime')"
   ]
  },
  {
   "cell_type": "markdown",
   "metadata": {},
   "source": [
    "Interesting! Looks like we have some duplicates. We'll merge them so that we keep all the relevant information. For example, let's look at the Indiana Jones movie.\n"
   ]
  },
  {
   "cell_type": "code",
   "execution_count": 13,
   "metadata": {},
   "outputs": [
    {
     "data": {
      "text/html": [
       "<div>\n",
       "<style scoped>\n",
       "    .dataframe tbody tr th:only-of-type {\n",
       "        vertical-align: middle;\n",
       "    }\n",
       "\n",
       "    .dataframe tbody tr th {\n",
       "        vertical-align: top;\n",
       "    }\n",
       "\n",
       "    .dataframe thead th {\n",
       "        text-align: right;\n",
       "    }\n",
       "</style>\n",
       "<table border=\"1\" class=\"dataframe\">\n",
       "  <thead>\n",
       "    <tr style=\"text-align: right;\">\n",
       "      <th></th>\n",
       "      <th>id_wiki</th>\n",
       "      <th>id_freebase</th>\n",
       "      <th>name</th>\n",
       "      <th>date</th>\n",
       "      <th>box_office</th>\n",
       "      <th>runtime</th>\n",
       "      <th>lang</th>\n",
       "      <th>countries</th>\n",
       "      <th>genres</th>\n",
       "    </tr>\n",
       "  </thead>\n",
       "  <tbody>\n",
       "    <tr>\n",
       "      <th>4856</th>\n",
       "      <td>3184269</td>\n",
       "      <td>/m/0dnqr</td>\n",
       "      <td>Indiana Jones and the Last Crusade</td>\n",
       "      <td>1989-05-24</td>\n",
       "      <td>NaN</td>\n",
       "      <td>127.0</td>\n",
       "      <td>{\"/m/0349s\": \"Greek Language\", \"/m/04306rv\": \"...</td>\n",
       "      <td>{\"/m/09c7w0\": \"United States of America\"}</td>\n",
       "      <td>{\"/m/0hj3m_6\": \"Costume Adventure\", \"/m/02kdv5...</td>\n",
       "    </tr>\n",
       "    <tr>\n",
       "      <th>49203</th>\n",
       "      <td>51888</td>\n",
       "      <td>/m/0h_b6x1</td>\n",
       "      <td>Indiana Jones and the Last Crusade</td>\n",
       "      <td>1989-05-24</td>\n",
       "      <td>474171806.0</td>\n",
       "      <td>127.0</td>\n",
       "      <td>{}</td>\n",
       "      <td>{}</td>\n",
       "      <td>{\"/m/03k9fj\": \"Adventure\"}</td>\n",
       "    </tr>\n",
       "  </tbody>\n",
       "</table>\n",
       "</div>"
      ],
      "text/plain": [
       "       id_wiki id_freebase                                name        date  \\\n",
       "4856   3184269    /m/0dnqr  Indiana Jones and the Last Crusade  1989-05-24   \n",
       "49203    51888  /m/0h_b6x1  Indiana Jones and the Last Crusade  1989-05-24   \n",
       "\n",
       "        box_office  runtime  \\\n",
       "4856           NaN    127.0   \n",
       "49203  474171806.0    127.0   \n",
       "\n",
       "                                                    lang  \\\n",
       "4856   {\"/m/0349s\": \"Greek Language\", \"/m/04306rv\": \"...   \n",
       "49203                                                 {}   \n",
       "\n",
       "                                       countries  \\\n",
       "4856   {\"/m/09c7w0\": \"United States of America\"}   \n",
       "49203                                         {}   \n",
       "\n",
       "                                                  genres  \n",
       "4856   {\"/m/0hj3m_6\": \"Costume Adventure\", \"/m/02kdv5...  \n",
       "49203                         {\"/m/03k9fj\": \"Adventure\"}  "
      ]
     },
     "metadata": {},
     "output_type": "display_data"
    }
   ],
   "source": [
    "display(movies[movies['name'] == 'Indiana Jones and the Last Crusade'])"
   ]
  },
  {
   "cell_type": "markdown",
   "metadata": {},
   "source": [
    "After merging :"
   ]
  },
  {
   "cell_type": "code",
   "execution_count": 14,
   "metadata": {},
   "outputs": [
    {
     "name": "stdout",
     "output_type": "stream",
     "text": [
      "Fusing duplicates: \n",
      "Duplicates fused successfully.\n",
      "--------------------------------------------------------------------------------\n"
     ]
    },
    {
     "data": {
      "text/html": [
       "<div>\n",
       "<style scoped>\n",
       "    .dataframe tbody tr th:only-of-type {\n",
       "        vertical-align: middle;\n",
       "    }\n",
       "\n",
       "    .dataframe tbody tr th {\n",
       "        vertical-align: top;\n",
       "    }\n",
       "\n",
       "    .dataframe thead th {\n",
       "        text-align: right;\n",
       "    }\n",
       "</style>\n",
       "<table border=\"1\" class=\"dataframe\">\n",
       "  <thead>\n",
       "    <tr style=\"text-align: right;\">\n",
       "      <th></th>\n",
       "      <th>id_wiki</th>\n",
       "      <th>id_freebase</th>\n",
       "      <th>name</th>\n",
       "      <th>date</th>\n",
       "      <th>box_office</th>\n",
       "      <th>runtime</th>\n",
       "      <th>lang</th>\n",
       "      <th>countries</th>\n",
       "      <th>genres</th>\n",
       "    </tr>\n",
       "  </thead>\n",
       "  <tbody>\n",
       "    <tr>\n",
       "      <th>4452</th>\n",
       "      <td>3184269</td>\n",
       "      <td>/m/0dnqr</td>\n",
       "      <td>Indiana Jones and the Last Crusade</td>\n",
       "      <td>1989-05-24</td>\n",
       "      <td>474171806.0</td>\n",
       "      <td>127.0</td>\n",
       "      <td>{\"/m/0349s\": \"Greek Language\", \"/m/04306rv\": \"...</td>\n",
       "      <td>{\"/m/09c7w0\": \"United States of America\"}</td>\n",
       "      <td>{\"/m/0hj3m_6\": \"Costume Adventure\", \"/m/02kdv5...</td>\n",
       "    </tr>\n",
       "  </tbody>\n",
       "</table>\n",
       "</div>"
      ],
      "text/plain": [
       "      id_wiki id_freebase                                name        date  \\\n",
       "4452  3184269    /m/0dnqr  Indiana Jones and the Last Crusade  1989-05-24   \n",
       "\n",
       "       box_office runtime                                               lang  \\\n",
       "4452  474171806.0   127.0  {\"/m/0349s\": \"Greek Language\", \"/m/04306rv\": \"...   \n",
       "\n",
       "                                      countries  \\\n",
       "4452  {\"/m/09c7w0\": \"United States of America\"}   \n",
       "\n",
       "                                                 genres  \n",
       "4452  {\"/m/0hj3m_6\": \"Costume Adventure\", \"/m/02kdv5...  "
      ]
     },
     "metadata": {},
     "output_type": "display_data"
    }
   ],
   "source": [
    "movies = fuse_duplicates(movies, col_check=['name'], year='date', runtime='runtime',\n",
    "                         col_len=['lang', 'countries', 'genres'], col_null=['box_office', 'runtime'])\n",
    "display(movies[movies['name']=='Indiana Jones and the Last Crusade'])\n"
   ]
  },
  {
   "cell_type": "code",
   "execution_count": 15,
   "metadata": {},
   "outputs": [
    {
     "name": "stdout",
     "output_type": "stream",
     "text": [
      "The remaining values of movies after this step is 74830\n"
     ]
    }
   ],
   "source": [
    "print('The remaining values of movies after this step is {}'.format(len(movies)))\n"
   ]
  },
  {
   "cell_type": "markdown",
   "metadata": {},
   "source": [
    "### b) Changing the features format\n",
    "\n",
    "Now that the missing data has been dropped, we will address unclear features in the dataset. Building on the example of 'Twilight' from part 1, we observed that the presentation of languages, countries, and genres needed improvement. Let's reorganize and standardize these features for better clarity. Additionally, we'll modify the date format to establish a consistent basis for every film in the dataset.\n"
   ]
  },
  {
   "cell_type": "code",
   "execution_count": 16,
   "metadata": {},
   "outputs": [],
   "source": [
    "# Format data types\n",
    "movies = data_format(movies)"
   ]
  },
  {
   "cell_type": "markdown",
   "metadata": {},
   "source": [
    "Let's take a look to the refresh features"
   ]
  },
  {
   "cell_type": "code",
   "execution_count": 17,
   "metadata": {},
   "outputs": [
    {
     "name": "stdout",
     "output_type": "stream",
     "text": [
      "Released date: 2011 \n",
      "\n",
      "Genres: ['Drama', 'Fantasy', 'Adventure', 'Teen', 'Romantic fantasy'] \n",
      "\n",
      "Countries of production: ['USA'] \n",
      "\n",
      "Language adaptation :['English Language']\n"
     ]
    }
   ],
   "source": [
    "print('Released date: {} \\n' .format( movies[\n",
    "    movies['name']==FILM_NAME]['date'].values[0]))\n",
    "\n",
    "print('Genres: {} \\n'.format( movies[\n",
    "    movies['name']==FILM_NAME]['genres'].values[0]))\n",
    "\n",
    "print('Countries of production: {} \\n'.format(    movies[\n",
    "       movies['name']==FILM_NAME]['countries'].values[0]))\n",
    "  \n",
    "\n",
    "print('Language adaptation :{}' .format(movies[\n",
    "        movies['name']==FILM_NAME]['lang'].values[0]))"
   ]
  },
  {
   "cell_type": "markdown",
   "metadata": {},
   "source": [
    "Nice! Now we see clearly the genre, countries of production, and language adaptation. Furthermore, we only keep the year the film has been released for our further analysis."
   ]
  },
  {
   "cell_type": "markdown",
   "metadata": {},
   "source": [
    "For the sake of simplicity, we rename the column 'date' to 'year' and the column 'box_office' to 'revenue'.\n"
   ]
  },
  {
   "cell_type": "code",
   "execution_count": 18,
   "metadata": {},
   "outputs": [],
   "source": [
    "movies.rename(columns={'box_office': 'revenue'}, inplace=True)\n",
    "movies.rename(columns={'date': 'year'}, inplace=True)\n"
   ]
  },
  {
   "cell_type": "markdown",
   "metadata": {},
   "source": [
    "### c) Boundary definition\n",
    "\n",
    "To ensure the accuracy of our data for analysis, it is crucial to define boundaries within the 'date' feature. Occasionally, incorrect data may be present, leading to inconsistencies. Let's identify and rectify such errors to maintain data integrity and ensure meaningful analysis.\n"
   ]
  },
  {
   "cell_type": "code",
   "execution_count": 19,
   "metadata": {},
   "outputs": [
    {
     "data": {
      "text/html": [
       "<div>\n",
       "<style scoped>\n",
       "    .dataframe tbody tr th:only-of-type {\n",
       "        vertical-align: middle;\n",
       "    }\n",
       "\n",
       "    .dataframe tbody tr th {\n",
       "        vertical-align: top;\n",
       "    }\n",
       "\n",
       "    .dataframe thead th {\n",
       "        text-align: right;\n",
       "    }\n",
       "</style>\n",
       "<table border=\"1\" class=\"dataframe\">\n",
       "  <thead>\n",
       "    <tr style=\"text-align: right;\">\n",
       "      <th></th>\n",
       "      <th>name</th>\n",
       "      <th>year</th>\n",
       "    </tr>\n",
       "  </thead>\n",
       "  <tbody>\n",
       "    <tr>\n",
       "      <th>57565</th>\n",
       "      <td>Hunting Season</td>\n",
       "      <td>1010</td>\n",
       "    </tr>\n",
       "  </tbody>\n",
       "</table>\n",
       "</div>"
      ],
      "text/plain": [
       "                 name  year\n",
       "57565  Hunting Season  1010"
      ]
     },
     "metadata": {},
     "output_type": "display_data"
    }
   ],
   "source": [
    "display(movies[movies['year']<1800][['name','year']])"
   ]
  },
  {
   "cell_type": "markdown",
   "metadata": {},
   "source": [
    "Turns out the Middle Ages had more drama than we thought, the first medieval blockbusters are here! But all jokes aside, let's clean it.\n"
   ]
  },
  {
   "cell_type": "code",
   "execution_count": 20,
   "metadata": {},
   "outputs": [],
   "source": [
    "# Clean data, outliers and features\n",
    "movies = data_clean(movies)\n"
   ]
  },
  {
   "cell_type": "markdown",
   "metadata": {},
   "source": [
    "### d) Filtering data\n",
    "\n",
    "The last step is to filter our data. Indeed, we want to focus our analysis only on movies produced in the USA and in the English language.\n"
   ]
  },
  {
   "cell_type": "code",
   "execution_count": 21,
   "metadata": {},
   "outputs": [],
   "source": [
    "movies_all= movies.copy()\n",
    "# Filter data\n",
    "movies = data_filter(movies)"
   ]
  },
  {
   "cell_type": "markdown",
   "metadata": {},
   "source": [
    "Let's look at what is remaining and what distributions look likes"
   ]
  },
  {
   "cell_type": "code",
   "execution_count": 22,
   "metadata": {},
   "outputs": [
    {
     "data": {
      "text/html": [
       "<div>\n",
       "<style scoped>\n",
       "    .dataframe tbody tr th:only-of-type {\n",
       "        vertical-align: middle;\n",
       "    }\n",
       "\n",
       "    .dataframe tbody tr th {\n",
       "        vertical-align: top;\n",
       "    }\n",
       "\n",
       "    .dataframe thead th {\n",
       "        text-align: right;\n",
       "    }\n",
       "</style>\n",
       "<table border=\"1\" class=\"dataframe\">\n",
       "  <thead>\n",
       "    <tr style=\"text-align: right;\">\n",
       "      <th></th>\n",
       "      <th>Missing Data (%)</th>\n",
       "    </tr>\n",
       "    <tr>\n",
       "      <th>Column</th>\n",
       "      <th></th>\n",
       "    </tr>\n",
       "  </thead>\n",
       "  <tbody>\n",
       "    <tr>\n",
       "      <th>id_wiki</th>\n",
       "      <td>0.00</td>\n",
       "    </tr>\n",
       "    <tr>\n",
       "      <th>id_freebase</th>\n",
       "      <td>0.00</td>\n",
       "    </tr>\n",
       "    <tr>\n",
       "      <th>name</th>\n",
       "      <td>0.00</td>\n",
       "    </tr>\n",
       "    <tr>\n",
       "      <th>year</th>\n",
       "      <td>0.00</td>\n",
       "    </tr>\n",
       "    <tr>\n",
       "      <th>revenue</th>\n",
       "      <td>77.27</td>\n",
       "    </tr>\n",
       "    <tr>\n",
       "      <th>runtime</th>\n",
       "      <td>11.37</td>\n",
       "    </tr>\n",
       "    <tr>\n",
       "      <th>lang</th>\n",
       "      <td>0.00</td>\n",
       "    </tr>\n",
       "    <tr>\n",
       "      <th>countries</th>\n",
       "      <td>0.00</td>\n",
       "    </tr>\n",
       "    <tr>\n",
       "      <th>genres</th>\n",
       "      <td>0.00</td>\n",
       "    </tr>\n",
       "  </tbody>\n",
       "</table>\n",
       "</div>"
      ],
      "text/plain": [
       "             Missing Data (%)\n",
       "Column                       \n",
       "id_wiki                  0.00\n",
       "id_freebase              0.00\n",
       "name                     0.00\n",
       "year                     0.00\n",
       "revenue                 77.27\n",
       "runtime                 11.37\n",
       "lang                     0.00\n",
       "countries                0.00\n",
       "genres                   0.00"
      ]
     },
     "execution_count": 22,
     "metadata": {},
     "output_type": "execute_result"
    }
   ],
   "source": [
    "generate_missing_info(movies)"
   ]
  },
  {
   "cell_type": "code",
   "execution_count": 23,
   "metadata": {},
   "outputs": [
    {
     "name": "stdout",
     "output_type": "stream",
     "text": [
      "<class 'pandas.core.frame.DataFrame'>\n",
      "Int64Index: 29828 entries, 0 to 74827\n",
      "Data columns (total 9 columns):\n",
      " #   Column       Non-Null Count  Dtype  \n",
      "---  ------       --------------  -----  \n",
      " 0   id_wiki      29828 non-null  int64  \n",
      " 1   id_freebase  29828 non-null  object \n",
      " 2   name         29828 non-null  object \n",
      " 3   year         29828 non-null  int32  \n",
      " 4   revenue      6779 non-null   float64\n",
      " 5   runtime      26436 non-null  object \n",
      " 6   lang         29828 non-null  object \n",
      " 7   countries    29828 non-null  object \n",
      " 8   genres       29828 non-null  object \n",
      "dtypes: float64(1), int32(1), int64(1), object(6)\n",
      "memory usage: 2.2+ MB\n"
     ]
    },
    {
     "data": {
      "text/plain": [
       "None"
      ]
     },
     "metadata": {},
     "output_type": "display_data"
    }
   ],
   "source": [
    "display(movies.info())"
   ]
  },
  {
   "cell_type": "code",
   "execution_count": 24,
   "metadata": {},
   "outputs": [
    {
     "data": {
      "image/png": "[encoded data removed]",
      "text/plain": [
       "<Figure size 720x432 with 1 Axes>"
      ]
     },
     "metadata": {
      "needs_background": "light"
     },
     "output_type": "display_data"
    }
   ],
   "source": [
    "# Looking at distribution of release years\n",
    "\n",
    "plt.figure(figsize=(10, 6))\n",
    "plt.hist(movies_all['year'], bins=1000, color='skyblue', edgecolor='skyblue', label='World')\n",
    "plt.hist(movies['year'], bins=1000, color='red', edgecolor='red', label='USA')\n",
    "plt.xlabel(\"Release Year\")\n",
    "plt.xlim(1900, 2016)\n",
    "plt.ylabel(\"Frequency\")\n",
    "plt.title(\"Distribution of Release Years\")\n",
    "plt.grid(axis='y', alpha=0.75)\n",
    "plt.legend()\n",
    "plt.show()\n"
   ]
  },
  {
   "cell_type": "markdown",
   "metadata": {},
   "source": [
    "It seems that a lot of revenue data is missing. Let's examine the distribution along the years.\n",
    "\n"
   ]
  },
  {
   "cell_type": "code",
   "execution_count": 25,
   "metadata": {},
   "outputs": [
    {
     "data": {
      "image/png": "[encoded data removed]",
      "text/plain": [
       "<Figure size 1008x432 with 1 Axes>"
      ]
     },
     "metadata": {
      "needs_background": "light"
     },
     "output_type": "display_data"
    }
   ],
   "source": [
    "# Let's compare missing revenue data for some countries\n",
    "\n",
    "missing_revenue_all = calculate_missing_percentage(movies_all, 'year', 'revenue')\n",
    "missing_revenue_USA = calculate_missing_percentage(movies, 'year', 'revenue')\n",
    "\n",
    "\n",
    "plt.figure(figsize=(14, 6))\n",
    "\n",
    "plt.plot(missing_revenue_all.index, missing_revenue_all[\"revenue\"], linestyle='-', color='skyblue', label='World')\n",
    "plt.plot(missing_revenue_USA.index, missing_revenue_USA[\"revenue\"], linestyle='--', color='r', label='USA')\n",
    "\n",
    "plt.xlabel(\"Release Year\")\n",
    "plt.ylabel(\"Missing Revenue Percentage\")\n",
    "plt.title(\"Missing Revenue Percentage Over the Years\")\n",
    "plt.grid()\n",
    "plt.legend()\n",
    "plt.show()\n"
   ]
  },
  {
   "cell_type": "markdown",
   "metadata": {},
   "source": [
    "As seen in the graph above, the missing value percentage for revenue is relatively high across all years (although the USA-only data is cleaner). We will try to address this using additional datasets (cf README).\n"
   ]
  },
  {
   "cell_type": "markdown",
   "metadata": {},
   "source": [
    "# 3) Enrich Data\n"
   ]
  },
  {
   "cell_type": "markdown",
   "metadata": {},
   "source": [
    "As seen in the previous part a lot data is missing for the revenue column. Furthermore, for future analysis of pivotal movies (cf README), we would like to have a review feature. This feature will take value from 0 to 10 and will be linked to another feature : number of reviews available."
   ]
  },
  {
   "cell_type": "code",
   "execution_count": 26,
   "metadata": {},
   "outputs": [],
   "source": [
    "MOVIE_STATS = DATA_PATH + 'movie-stats/movies_stats.csv'\n",
    "MOVIE_LENS = DATA_PATH +'movie_lens/movies_lens.csv'\n"
   ]
  },
  {
   "cell_type": "markdown",
   "metadata": {},
   "source": [
    "### a) Loading and cleaning movie-stats"
   ]
  },
  {
   "cell_type": "code",
   "execution_count": 27,
   "metadata": {},
   "outputs": [
    {
     "data": {
      "text/html": [
       "<div>\n",
       "<style scoped>\n",
       "    .dataframe tbody tr th:only-of-type {\n",
       "        vertical-align: middle;\n",
       "    }\n",
       "\n",
       "    .dataframe tbody tr th {\n",
       "        vertical-align: top;\n",
       "    }\n",
       "\n",
       "    .dataframe thead th {\n",
       "        text-align: right;\n",
       "    }\n",
       "</style>\n",
       "<table border=\"1\" class=\"dataframe\">\n",
       "  <thead>\n",
       "    <tr style=\"text-align: right;\">\n",
       "      <th></th>\n",
       "      <th>name</th>\n",
       "      <th>year</th>\n",
       "      <th>review</th>\n",
       "      <th>nbr_review</th>\n",
       "      <th>countries</th>\n",
       "      <th>revenue</th>\n",
       "      <th>runtime</th>\n",
       "    </tr>\n",
       "  </thead>\n",
       "  <tbody>\n",
       "    <tr>\n",
       "      <th>5209</th>\n",
       "      <td>Charlie Bartlett</td>\n",
       "      <td>2007</td>\n",
       "      <td>7.0</td>\n",
       "      <td>64000.0</td>\n",
       "      <td>United States</td>\n",
       "      <td>5254986.0</td>\n",
       "      <td>97.0</td>\n",
       "    </tr>\n",
       "    <tr>\n",
       "      <th>6841</th>\n",
       "      <td>Dragon Blade</td>\n",
       "      <td>2015</td>\n",
       "      <td>6.0</td>\n",
       "      <td>19000.0</td>\n",
       "      <td>China</td>\n",
       "      <td>122606884.0</td>\n",
       "      <td>127.0</td>\n",
       "    </tr>\n",
       "    <tr>\n",
       "      <th>3454</th>\n",
       "      <td>Austin Powers: the Spy Who Shagged Me</td>\n",
       "      <td>1999</td>\n",
       "      <td>6.6</td>\n",
       "      <td>221000.0</td>\n",
       "      <td>United States</td>\n",
       "      <td>312016928.0</td>\n",
       "      <td>95.0</td>\n",
       "    </tr>\n",
       "    <tr>\n",
       "      <th>2710</th>\n",
       "      <td>Mr. Holland's Opus</td>\n",
       "      <td>1995</td>\n",
       "      <td>7.3</td>\n",
       "      <td>36000.0</td>\n",
       "      <td>United States</td>\n",
       "      <td>106269971.0</td>\n",
       "      <td>143.0</td>\n",
       "    </tr>\n",
       "    <tr>\n",
       "      <th>3462</th>\n",
       "      <td>Girl, Interrupted</td>\n",
       "      <td>1999</td>\n",
       "      <td>7.3</td>\n",
       "      <td>169000.0</td>\n",
       "      <td>Germany</td>\n",
       "      <td>48350205.0</td>\n",
       "      <td>127.0</td>\n",
       "    </tr>\n",
       "  </tbody>\n",
       "</table>\n",
       "</div>"
      ],
      "text/plain": [
       "                                       name  year  review  nbr_review  \\\n",
       "5209                       Charlie Bartlett  2007     7.0     64000.0   \n",
       "6841                           Dragon Blade  2015     6.0     19000.0   \n",
       "3454  Austin Powers: the Spy Who Shagged Me  1999     6.6    221000.0   \n",
       "2710                     Mr. Holland's Opus  1995     7.3     36000.0   \n",
       "3462                      Girl, Interrupted  1999     7.3    169000.0   \n",
       "\n",
       "          countries      revenue  runtime  \n",
       "5209  United States    5254986.0     97.0  \n",
       "6841          China  122606884.0    127.0  \n",
       "3454  United States  312016928.0     95.0  \n",
       "2710  United States  106269971.0    143.0  \n",
       "3462        Germany   48350205.0    127.0  "
      ]
     },
     "metadata": {},
     "output_type": "display_data"
    },
    {
     "data": {
      "text/plain": [
       "(7668, 7)"
      ]
     },
     "metadata": {},
     "output_type": "display_data"
    },
    {
     "name": "stdout",
     "output_type": "stream",
     "text": [
      "<class 'pandas.core.frame.DataFrame'>\n",
      "RangeIndex: 7668 entries, 0 to 7667\n",
      "Data columns (total 7 columns):\n",
      " #   Column      Non-Null Count  Dtype  \n",
      "---  ------      --------------  -----  \n",
      " 0   name        7668 non-null   object \n",
      " 1   year        7668 non-null   int64  \n",
      " 2   review      7665 non-null   float64\n",
      " 3   nbr_review  7665 non-null   float64\n",
      " 4   countries   7665 non-null   object \n",
      " 5   revenue     7479 non-null   float64\n",
      " 6   runtime     7664 non-null   float64\n",
      "dtypes: float64(4), int64(1), object(2)\n",
      "memory usage: 419.5+ KB\n"
     ]
    },
    {
     "data": {
      "text/plain": [
       "None"
      ]
     },
     "metadata": {},
     "output_type": "display_data"
    },
    {
     "data": {
      "text/html": [
       "<div>\n",
       "<style scoped>\n",
       "    .dataframe tbody tr th:only-of-type {\n",
       "        vertical-align: middle;\n",
       "    }\n",
       "\n",
       "    .dataframe tbody tr th {\n",
       "        vertical-align: top;\n",
       "    }\n",
       "\n",
       "    .dataframe thead th {\n",
       "        text-align: right;\n",
       "    }\n",
       "</style>\n",
       "<table border=\"1\" class=\"dataframe\">\n",
       "  <thead>\n",
       "    <tr style=\"text-align: right;\">\n",
       "      <th></th>\n",
       "      <th>Missing Data (%)</th>\n",
       "    </tr>\n",
       "    <tr>\n",
       "      <th>Column</th>\n",
       "      <th></th>\n",
       "    </tr>\n",
       "  </thead>\n",
       "  <tbody>\n",
       "    <tr>\n",
       "      <th>name</th>\n",
       "      <td>0.00</td>\n",
       "    </tr>\n",
       "    <tr>\n",
       "      <th>year</th>\n",
       "      <td>0.00</td>\n",
       "    </tr>\n",
       "    <tr>\n",
       "      <th>review</th>\n",
       "      <td>0.04</td>\n",
       "    </tr>\n",
       "    <tr>\n",
       "      <th>nbr_review</th>\n",
       "      <td>0.04</td>\n",
       "    </tr>\n",
       "    <tr>\n",
       "      <th>countries</th>\n",
       "      <td>0.04</td>\n",
       "    </tr>\n",
       "    <tr>\n",
       "      <th>revenue</th>\n",
       "      <td>2.46</td>\n",
       "    </tr>\n",
       "    <tr>\n",
       "      <th>runtime</th>\n",
       "      <td>0.05</td>\n",
       "    </tr>\n",
       "  </tbody>\n",
       "</table>\n",
       "</div>"
      ],
      "text/plain": [
       "            Missing Data (%)\n",
       "Column                      \n",
       "name                    0.00\n",
       "year                    0.00\n",
       "review                  0.04\n",
       "nbr_review              0.04\n",
       "countries               0.04\n",
       "revenue                 2.46\n",
       "runtime                 0.05"
      ]
     },
     "execution_count": 27,
     "metadata": {},
     "output_type": "execute_result"
    }
   ],
   "source": [
    "# Loading MovieStats movies df\n",
    "\n",
    "movies_stats_vanilla = pd.read_csv(MOVIE_STATS)\n",
    "movies_stats_vanilla.drop(columns=\n",
    "                          ['genre', 'released', 'director', 'writer',\n",
    "                           'star', 'company', 'rating', 'budget'], \n",
    "                          inplace=True)\n",
    "movies_stats_vanilla = movies_stats_vanilla.rename(columns={\n",
    "                                                   'gross': 'revenue',\n",
    "                                                   'country': 'countries',\n",
    "                                                   'score': 'review',\n",
    "                                                   'votes': 'nbr_review'})\n",
    "display(movies_stats_vanilla.sample(5))\n",
    "display(movies_stats_vanilla.shape)\n",
    "display(movies_stats_vanilla.info())\n",
    "generate_missing_info(movies_stats_vanilla)\n"
   ]
  },
  {
   "cell_type": "markdown",
   "metadata": {},
   "source": [
    "- Checking release year distribution and country representation"
   ]
  },
  {
   "cell_type": "code",
   "execution_count": 28,
   "metadata": {},
   "outputs": [
    {
     "data": {
      "image/png": "[encoded data removed]",
      "text/plain": [
       "<Figure size 720x432 with 1 Axes>"
      ]
     },
     "metadata": {
      "needs_background": "light"
     },
     "output_type": "display_data"
    },
    {
     "data": {
      "text/plain": [
       "United States     5475\n",
       "United Kingdom     816\n",
       "France             279\n",
       "Canada             190\n",
       "Germany            117\n",
       "Australia           92\n",
       "Japan               81\n",
       "India               62\n",
       "Italy               61\n",
       "Spain               47\n",
       "Name: countries, dtype: int64"
      ]
     },
     "metadata": {},
     "output_type": "display_data"
    }
   ],
   "source": [
    "plt.figure(figsize=(10, 6))\n",
    "plt.hist(movies_stats_vanilla['year'], color='skyblue', edgecolor='skyblue')\n",
    "plt.xlabel(\"Release Year\")\n",
    "plt.ylabel(\"Frequency\")\n",
    "plt.title(\"Distribution of Release Years\")\n",
    "plt.grid(axis='y', alpha=0.75)\n",
    "plt.show()\n",
    "\n",
    "display(movies_stats_vanilla['countries'].value_counts().head(10))\n",
    "\n"
   ]
  },
  {
   "cell_type": "markdown",
   "metadata": {},
   "source": [
    "- Keep only relevant rows: positive box office and USA only, checking date and runtime.\n"
   ]
  },
  {
   "cell_type": "code",
   "execution_count": 29,
   "metadata": {},
   "outputs": [
    {
     "data": {
      "text/html": [
       "<div>\n",
       "<style scoped>\n",
       "    .dataframe tbody tr th:only-of-type {\n",
       "        vertical-align: middle;\n",
       "    }\n",
       "\n",
       "    .dataframe tbody tr th {\n",
       "        vertical-align: top;\n",
       "    }\n",
       "\n",
       "    .dataframe thead th {\n",
       "        text-align: right;\n",
       "    }\n",
       "</style>\n",
       "<table border=\"1\" class=\"dataframe\">\n",
       "  <thead>\n",
       "    <tr style=\"text-align: right;\">\n",
       "      <th></th>\n",
       "      <th>name</th>\n",
       "      <th>year</th>\n",
       "      <th>review</th>\n",
       "      <th>nbr_review</th>\n",
       "      <th>countries</th>\n",
       "      <th>revenue</th>\n",
       "      <th>runtime</th>\n",
       "    </tr>\n",
       "  </thead>\n",
       "  <tbody>\n",
       "    <tr>\n",
       "      <th>539</th>\n",
       "      <td>The Muppets Take Manhattan</td>\n",
       "      <td>1984</td>\n",
       "      <td>6.9</td>\n",
       "      <td>20000.0</td>\n",
       "      <td>United States</td>\n",
       "      <td>25534703.0</td>\n",
       "      <td>94.0</td>\n",
       "    </tr>\n",
       "    <tr>\n",
       "      <th>5252</th>\n",
       "      <td>The Strangers</td>\n",
       "      <td>2008</td>\n",
       "      <td>6.2</td>\n",
       "      <td>121000.0</td>\n",
       "      <td>United States</td>\n",
       "      <td>82410456.0</td>\n",
       "      <td>86.0</td>\n",
       "    </tr>\n",
       "    <tr>\n",
       "      <th>6094</th>\n",
       "      <td>Project X</td>\n",
       "      <td>2012</td>\n",
       "      <td>6.6</td>\n",
       "      <td>193000.0</td>\n",
       "      <td>United States</td>\n",
       "      <td>102731865.0</td>\n",
       "      <td>88.0</td>\n",
       "    </tr>\n",
       "    <tr>\n",
       "      <th>1682</th>\n",
       "      <td>Child's Play 2</td>\n",
       "      <td>1990</td>\n",
       "      <td>5.9</td>\n",
       "      <td>47000.0</td>\n",
       "      <td>United States</td>\n",
       "      <td>35763605.0</td>\n",
       "      <td>84.0</td>\n",
       "    </tr>\n",
       "    <tr>\n",
       "      <th>5717</th>\n",
       "      <td>Killers</td>\n",
       "      <td>2010</td>\n",
       "      <td>5.5</td>\n",
       "      <td>89000.0</td>\n",
       "      <td>United States</td>\n",
       "      <td>98159963.0</td>\n",
       "      <td>100.0</td>\n",
       "    </tr>\n",
       "  </tbody>\n",
       "</table>\n",
       "</div>"
      ],
      "text/plain": [
       "                            name  year  review  nbr_review      countries  \\\n",
       "539   The Muppets Take Manhattan  1984     6.9     20000.0  United States   \n",
       "5252               The Strangers  2008     6.2    121000.0  United States   \n",
       "6094                   Project X  2012     6.6    193000.0  United States   \n",
       "1682              Child's Play 2  1990     5.9     47000.0  United States   \n",
       "5717                     Killers  2010     5.5     89000.0  United States   \n",
       "\n",
       "          revenue  runtime  \n",
       "539    25534703.0     94.0  \n",
       "5252   82410456.0     86.0  \n",
       "6094  102731865.0     88.0  \n",
       "1682   35763605.0     84.0  \n",
       "5717   98159963.0    100.0  "
      ]
     },
     "metadata": {},
     "output_type": "display_data"
    },
    {
     "data": {
      "text/plain": [
       "(5377, 7)"
      ]
     },
     "metadata": {},
     "output_type": "display_data"
    },
    {
     "name": "stdout",
     "output_type": "stream",
     "text": [
      "<class 'pandas.core.frame.DataFrame'>\n",
      "Int64Index: 5377 entries, 1 to 7659\n",
      "Data columns (total 7 columns):\n",
      " #   Column      Non-Null Count  Dtype  \n",
      "---  ------      --------------  -----  \n",
      " 0   name        5377 non-null   object \n",
      " 1   year        5377 non-null   int64  \n",
      " 2   review      5377 non-null   float64\n",
      " 3   nbr_review  5377 non-null   float64\n",
      " 4   countries   5377 non-null   object \n",
      " 5   revenue     5377 non-null   float64\n",
      " 6   runtime     5376 non-null   float64\n",
      "dtypes: float64(4), int64(1), object(2)\n",
      "memory usage: 336.1+ KB\n"
     ]
    },
    {
     "data": {
      "text/plain": [
       "None"
      ]
     },
     "metadata": {},
     "output_type": "display_data"
    },
    {
     "data": {
      "text/html": [
       "<div>\n",
       "<style scoped>\n",
       "    .dataframe tbody tr th:only-of-type {\n",
       "        vertical-align: middle;\n",
       "    }\n",
       "\n",
       "    .dataframe tbody tr th {\n",
       "        vertical-align: top;\n",
       "    }\n",
       "\n",
       "    .dataframe thead th {\n",
       "        text-align: right;\n",
       "    }\n",
       "</style>\n",
       "<table border=\"1\" class=\"dataframe\">\n",
       "  <thead>\n",
       "    <tr style=\"text-align: right;\">\n",
       "      <th></th>\n",
       "      <th>Missing Data (%)</th>\n",
       "    </tr>\n",
       "    <tr>\n",
       "      <th>Column</th>\n",
       "      <th></th>\n",
       "    </tr>\n",
       "  </thead>\n",
       "  <tbody>\n",
       "    <tr>\n",
       "      <th>name</th>\n",
       "      <td>0.00</td>\n",
       "    </tr>\n",
       "    <tr>\n",
       "      <th>year</th>\n",
       "      <td>0.00</td>\n",
       "    </tr>\n",
       "    <tr>\n",
       "      <th>review</th>\n",
       "      <td>0.00</td>\n",
       "    </tr>\n",
       "    <tr>\n",
       "      <th>nbr_review</th>\n",
       "      <td>0.00</td>\n",
       "    </tr>\n",
       "    <tr>\n",
       "      <th>countries</th>\n",
       "      <td>0.00</td>\n",
       "    </tr>\n",
       "    <tr>\n",
       "      <th>revenue</th>\n",
       "      <td>0.00</td>\n",
       "    </tr>\n",
       "    <tr>\n",
       "      <th>runtime</th>\n",
       "      <td>0.02</td>\n",
       "    </tr>\n",
       "  </tbody>\n",
       "</table>\n",
       "</div>"
      ],
      "text/plain": [
       "            Missing Data (%)\n",
       "Column                      \n",
       "name                    0.00\n",
       "year                    0.00\n",
       "review                  0.00\n",
       "nbr_review              0.00\n",
       "countries               0.00\n",
       "revenue                 0.00\n",
       "runtime                 0.02"
      ]
     },
     "execution_count": 29,
     "metadata": {},
     "output_type": "execute_result"
    }
   ],
   "source": [
    "\n",
    "\n",
    "movies_stats = movies_stats_vanilla.copy(deep=True)\n",
    "\n",
    "movies_stats = movies_stats.drop(movies_stats.index[movies_stats['year']<1800])\n",
    "movies_stats.loc[movies_stats['runtime'] < 0, 'runtime'] = 0\n",
    "movies_stats['runtime'] = movies_stats['runtime'].replace(0, pd.NA)\n",
    "\n",
    "zero_data = movies_stats[(movies_stats.revenue <= 0)|(movies_stats.revenue.isna())|(movies_stats['countries']!='United States')]\n",
    "movies_stats.drop(zero_data.index,inplace=True)\n",
    "display(movies_stats.sample(5))\n",
    "display(movies_stats.shape)\n",
    "display(movies_stats.info())\n",
    "generate_missing_info(movies_stats)\n"
   ]
  },
  {
   "cell_type": "markdown",
   "metadata": {},
   "source": [
    "- Check if there are any duplicates"
   ]
  },
  {
   "cell_type": "code",
   "execution_count": 30,
   "metadata": {},
   "outputs": [
    {
     "name": "stdout",
     "output_type": "stream",
     "text": [
      "No duplicates\n",
      "--------------------------------------------------------------------------------\n"
     ]
    },
    {
     "data": {
      "text/plain": [
       "None"
      ]
     },
     "metadata": {},
     "output_type": "display_data"
    }
   ],
   "source": [
    "display(check_doublons(movies_stats, ['name'], 'year', 'runtime'))\n"
   ]
  },
  {
   "cell_type": "markdown",
   "metadata": {},
   "source": [
    "Perfect now the first additional dataset is clean(er) !"
   ]
  },
  {
   "cell_type": "markdown",
   "metadata": {},
   "source": [
    "### b) Loading and cleaning movie lens dataset"
   ]
  },
  {
   "cell_type": "markdown",
   "metadata": {},
   "source": [
    "- Loading Lens movies df"
   ]
  },
  {
   "cell_type": "code",
   "execution_count": 31,
   "metadata": {},
   "outputs": [
    {
     "data": {
      "text/html": [
       "<div>\n",
       "<style scoped>\n",
       "    .dataframe tbody tr th:only-of-type {\n",
       "        vertical-align: middle;\n",
       "    }\n",
       "\n",
       "    .dataframe tbody tr th {\n",
       "        vertical-align: top;\n",
       "    }\n",
       "\n",
       "    .dataframe thead th {\n",
       "        text-align: right;\n",
       "    }\n",
       "</style>\n",
       "<table border=\"1\" class=\"dataframe\">\n",
       "  <thead>\n",
       "    <tr style=\"text-align: right;\">\n",
       "      <th></th>\n",
       "      <th>countries</th>\n",
       "      <th>release_date</th>\n",
       "      <th>revenue</th>\n",
       "      <th>runtime</th>\n",
       "      <th>name</th>\n",
       "      <th>review</th>\n",
       "      <th>nbr_review</th>\n",
       "    </tr>\n",
       "  </thead>\n",
       "  <tbody>\n",
       "    <tr>\n",
       "      <th>21315</th>\n",
       "      <td>[{'iso_3166_1': 'ZA', 'name': 'South Africa'},...</td>\n",
       "      <td>2013-03-07</td>\n",
       "      <td>0.0</td>\n",
       "      <td>85.0</td>\n",
       "      <td>Vehicle 19</td>\n",
       "      <td>5.0</td>\n",
       "      <td>229.0</td>\n",
       "    </tr>\n",
       "    <tr>\n",
       "      <th>9902</th>\n",
       "      <td>[{'iso_3166_1': 'CA', 'name': 'Canada'}, {'iso...</td>\n",
       "      <td>1977-08-11</td>\n",
       "      <td>110.0</td>\n",
       "      <td>110.0</td>\n",
       "      <td>A Special Day</td>\n",
       "      <td>7.7</td>\n",
       "      <td>79.0</td>\n",
       "    </tr>\n",
       "    <tr>\n",
       "      <th>26540</th>\n",
       "      <td>[{'iso_3166_1': 'US', 'name': 'United States o...</td>\n",
       "      <td>1951-12-14</td>\n",
       "      <td>0.0</td>\n",
       "      <td>103.0</td>\n",
       "      <td>Starlift</td>\n",
       "      <td>5.8</td>\n",
       "      <td>2.0</td>\n",
       "    </tr>\n",
       "    <tr>\n",
       "      <th>34542</th>\n",
       "      <td>[{'iso_3166_1': 'IT', 'name': 'Italy'}, {'iso_...</td>\n",
       "      <td>1965-03-22</td>\n",
       "      <td>0.0</td>\n",
       "      <td>91.0</td>\n",
       "      <td>Six Days a Week</td>\n",
       "      <td>0.0</td>\n",
       "      <td>0.0</td>\n",
       "    </tr>\n",
       "    <tr>\n",
       "      <th>12155</th>\n",
       "      <td>[{'iso_3166_1': 'US', 'name': 'United States o...</td>\n",
       "      <td>1949-12-29</td>\n",
       "      <td>0.0</td>\n",
       "      <td>82.0</td>\n",
       "      <td>The Reckless Moment</td>\n",
       "      <td>6.9</td>\n",
       "      <td>21.0</td>\n",
       "    </tr>\n",
       "  </tbody>\n",
       "</table>\n",
       "</div>"
      ],
      "text/plain": [
       "                                               countries release_date  \\\n",
       "21315  [{'iso_3166_1': 'ZA', 'name': 'South Africa'},...   2013-03-07   \n",
       "9902   [{'iso_3166_1': 'CA', 'name': 'Canada'}, {'iso...   1977-08-11   \n",
       "26540  [{'iso_3166_1': 'US', 'name': 'United States o...   1951-12-14   \n",
       "34542  [{'iso_3166_1': 'IT', 'name': 'Italy'}, {'iso_...   1965-03-22   \n",
       "12155  [{'iso_3166_1': 'US', 'name': 'United States o...   1949-12-29   \n",
       "\n",
       "       revenue  runtime                 name  review  nbr_review  \n",
       "21315      0.0     85.0           Vehicle 19     5.0       229.0  \n",
       "9902     110.0    110.0        A Special Day     7.7        79.0  \n",
       "26540      0.0    103.0             Starlift     5.8         2.0  \n",
       "34542      0.0     91.0      Six Days a Week     0.0         0.0  \n",
       "12155      0.0     82.0  The Reckless Moment     6.9        21.0  "
      ]
     },
     "metadata": {},
     "output_type": "display_data"
    },
    {
     "data": {
      "text/plain": [
       "(45466, 7)"
      ]
     },
     "metadata": {},
     "output_type": "display_data"
    },
    {
     "name": "stdout",
     "output_type": "stream",
     "text": [
      "<class 'pandas.core.frame.DataFrame'>\n",
      "RangeIndex: 45466 entries, 0 to 45465\n",
      "Data columns (total 7 columns):\n",
      " #   Column        Non-Null Count  Dtype  \n",
      "---  ------        --------------  -----  \n",
      " 0   countries     45463 non-null  object \n",
      " 1   release_date  45379 non-null  object \n",
      " 2   revenue       45460 non-null  float64\n",
      " 3   runtime       45203 non-null  float64\n",
      " 4   name          45460 non-null  object \n",
      " 5   review        45460 non-null  float64\n",
      " 6   nbr_review    45460 non-null  float64\n",
      "dtypes: float64(4), object(3)\n",
      "memory usage: 2.4+ MB\n"
     ]
    },
    {
     "data": {
      "text/plain": [
       "None"
      ]
     },
     "metadata": {},
     "output_type": "display_data"
    }
   ],
   "source": [
    "movies_lens_vanilla = pd.read_csv(MOVIE_LENS, usecols=['title', 'release_date', 'production_countries', 'revenue', 'runtime',\n",
    "                                                      'vote_average', 'vote_count'])\n",
    "movies_lens_vanilla = movies_lens_vanilla.rename(columns={'production_countries': 'countries',                                                     \n",
    "                                                         'title': 'name',\n",
    "                                                         'vote_average': 'review',\n",
    "                                                         'vote_count': 'nbr_review'})\n",
    "display(movies_lens_vanilla.sample(5))\n",
    "display(movies_lens_vanilla.shape)\n",
    "display(movies_lens_vanilla.info())\n"
   ]
  },
  {
   "cell_type": "markdown",
   "metadata": {},
   "source": [
    "- Keep only relevant columns, check budget and runtime"
   ]
  },
  {
   "cell_type": "code",
   "execution_count": 32,
   "metadata": {},
   "outputs": [
    {
     "data": {
      "text/html": [
       "<div>\n",
       "<style scoped>\n",
       "    .dataframe tbody tr th:only-of-type {\n",
       "        vertical-align: middle;\n",
       "    }\n",
       "\n",
       "    .dataframe tbody tr th {\n",
       "        vertical-align: top;\n",
       "    }\n",
       "\n",
       "    .dataframe thead th {\n",
       "        text-align: right;\n",
       "    }\n",
       "</style>\n",
       "<table border=\"1\" class=\"dataframe\">\n",
       "  <thead>\n",
       "    <tr style=\"text-align: right;\">\n",
       "      <th></th>\n",
       "      <th>countries</th>\n",
       "      <th>revenue</th>\n",
       "      <th>runtime</th>\n",
       "      <th>name</th>\n",
       "      <th>review</th>\n",
       "      <th>nbr_review</th>\n",
       "      <th>year</th>\n",
       "    </tr>\n",
       "  </thead>\n",
       "  <tbody>\n",
       "    <tr>\n",
       "      <th>4516</th>\n",
       "      <td>[{'iso_3166_1': 'DK', 'name': 'Denmark'}]</td>\n",
       "      <td>5405313.0</td>\n",
       "      <td>106.0</td>\n",
       "      <td>The One and Only</td>\n",
       "      <td>6.2</td>\n",
       "      <td>18.0</td>\n",
       "      <td>1999</td>\n",
       "    </tr>\n",
       "    <tr>\n",
       "      <th>938</th>\n",
       "      <td>[{'iso_3166_1': 'US', 'name': 'United States o...</td>\n",
       "      <td>27281507.0</td>\n",
       "      <td>85.0</td>\n",
       "      <td>The Muppet Christmas Carol</td>\n",
       "      <td>7.2</td>\n",
       "      <td>217.0</td>\n",
       "      <td>1992</td>\n",
       "    </tr>\n",
       "    <tr>\n",
       "      <th>2399</th>\n",
       "      <td>[{'iso_3166_1': 'US', 'name': 'United States o...</td>\n",
       "      <td>2955917.0</td>\n",
       "      <td>92.0</td>\n",
       "      <td>976-EVIL</td>\n",
       "      <td>4.9</td>\n",
       "      <td>33.0</td>\n",
       "      <td>1988</td>\n",
       "    </tr>\n",
       "    <tr>\n",
       "      <th>5056</th>\n",
       "      <td>[{'iso_3166_1': 'US', 'name': 'United States o...</td>\n",
       "      <td>559852396.0</td>\n",
       "      <td>106.0</td>\n",
       "      <td>Cars 2</td>\n",
       "      <td>5.8</td>\n",
       "      <td>2088.0</td>\n",
       "      <td>2011</td>\n",
       "    </tr>\n",
       "    <tr>\n",
       "      <th>983</th>\n",
       "      <td>[{'iso_3166_1': 'ZA', 'name': 'South Africa'},...</td>\n",
       "      <td>60000000.0</td>\n",
       "      <td>109.0</td>\n",
       "      <td>The Gods Must Be Crazy</td>\n",
       "      <td>7.1</td>\n",
       "      <td>251.0</td>\n",
       "      <td>1980</td>\n",
       "    </tr>\n",
       "  </tbody>\n",
       "</table>\n",
       "</div>"
      ],
      "text/plain": [
       "                                              countries      revenue  runtime  \\\n",
       "4516          [{'iso_3166_1': 'DK', 'name': 'Denmark'}]    5405313.0    106.0   \n",
       "938   [{'iso_3166_1': 'US', 'name': 'United States o...   27281507.0     85.0   \n",
       "2399  [{'iso_3166_1': 'US', 'name': 'United States o...    2955917.0     92.0   \n",
       "5056  [{'iso_3166_1': 'US', 'name': 'United States o...  559852396.0    106.0   \n",
       "983   [{'iso_3166_1': 'ZA', 'name': 'South Africa'},...   60000000.0    109.0   \n",
       "\n",
       "                            name  review  nbr_review  year  \n",
       "4516            The One and Only     6.2        18.0  1999  \n",
       "938   The Muppet Christmas Carol     7.2       217.0  1992  \n",
       "2399                    976-EVIL     4.9        33.0  1988  \n",
       "5056                      Cars 2     5.8      2088.0  2011  \n",
       "983       The Gods Must Be Crazy     7.1       251.0  1980  "
      ]
     },
     "metadata": {},
     "output_type": "display_data"
    },
    {
     "data": {
      "text/plain": [
       "(7407, 7)"
      ]
     },
     "metadata": {},
     "output_type": "display_data"
    },
    {
     "name": "stdout",
     "output_type": "stream",
     "text": [
      "<class 'pandas.core.frame.DataFrame'>\n",
      "RangeIndex: 7407 entries, 0 to 7406\n",
      "Data columns (total 7 columns):\n",
      " #   Column      Non-Null Count  Dtype  \n",
      "---  ------      --------------  -----  \n",
      " 0   countries   7407 non-null   object \n",
      " 1   revenue     7407 non-null   float64\n",
      " 2   runtime     7380 non-null   float64\n",
      " 3   name        7407 non-null   object \n",
      " 4   review      7407 non-null   float64\n",
      " 5   nbr_review  7407 non-null   float64\n",
      " 6   year        7407 non-null   int32  \n",
      "dtypes: float64(4), int32(1), object(2)\n",
      "memory usage: 376.3+ KB\n"
     ]
    },
    {
     "data": {
      "text/plain": [
       "None"
      ]
     },
     "metadata": {},
     "output_type": "display_data"
    }
   ],
   "source": [
    "movies_lens = movies_lens_vanilla.copy(deep=True)\n",
    "zero_data = movies_lens[(movies_lens.revenue <= 0)|(movies_lens.revenue.isna()|movies_lens.release_date.isna())]\n",
    "movies_lens.drop(zero_data.index,inplace=True)\n",
    "movies_lens.reset_index(drop=True, inplace=True)\n",
    "\n",
    "movies_lens.loc[:, 'year'] = movies_lens['release_date'].str.split('-', expand=True)[0]\n",
    "movies_lens.loc[:, 'year'] = movies_lens['year'].astype(int)\n",
    "movies_lens = movies_lens.drop(columns='release_date')\n",
    "\n",
    "\n",
    "movies_lens.loc[movies_lens['runtime'] < 0, 'runtime'] = 0\n",
    "movies_lens['runtime'] = movies_lens['runtime'].replace(0, pd.NA)\n",
    "\n",
    "movies_lens['year'] = movies_lens['year'].astype(int)\n",
    "movies_lens['runtime'] = pd.to_numeric(movies_lens['runtime'], errors='coerce')\n",
    "\n",
    "\n",
    "\n",
    "display(movies_lens.sample(5))\n",
    "display(movies_lens.shape)\n",
    "display(movies_lens.info())\n",
    "\n"
   ]
  },
  {
   "cell_type": "code",
   "execution_count": 33,
   "metadata": {},
   "outputs": [
    {
     "data": {
      "text/html": [
       "<div>\n",
       "<style scoped>\n",
       "    .dataframe tbody tr th:only-of-type {\n",
       "        vertical-align: middle;\n",
       "    }\n",
       "\n",
       "    .dataframe tbody tr th {\n",
       "        vertical-align: top;\n",
       "    }\n",
       "\n",
       "    .dataframe thead th {\n",
       "        text-align: right;\n",
       "    }\n",
       "</style>\n",
       "<table border=\"1\" class=\"dataframe\">\n",
       "  <thead>\n",
       "    <tr style=\"text-align: right;\">\n",
       "      <th></th>\n",
       "      <th>countries</th>\n",
       "      <th>revenue</th>\n",
       "      <th>runtime</th>\n",
       "      <th>name</th>\n",
       "      <th>review</th>\n",
       "      <th>nbr_review</th>\n",
       "      <th>year</th>\n",
       "    </tr>\n",
       "  </thead>\n",
       "  <tbody>\n",
       "    <tr>\n",
       "      <th>5801</th>\n",
       "      <td>United States of America</td>\n",
       "      <td>1.274219e+09</td>\n",
       "      <td>102.0</td>\n",
       "      <td>Frozen</td>\n",
       "      <td>7.3</td>\n",
       "      <td>5440.0</td>\n",
       "      <td>2013</td>\n",
       "    </tr>\n",
       "    <tr>\n",
       "      <th>3265</th>\n",
       "      <td>France</td>\n",
       "      <td>3.938800e+04</td>\n",
       "      <td>95.0</td>\n",
       "      <td>Au Hasard Balthazar</td>\n",
       "      <td>7.8</td>\n",
       "      <td>74.0</td>\n",
       "      <td>1966</td>\n",
       "    </tr>\n",
       "    <tr>\n",
       "      <th>1009</th>\n",
       "      <td>United States of America</td>\n",
       "      <td>4.500000e+06</td>\n",
       "      <td>99.0</td>\n",
       "      <td>Suspicion</td>\n",
       "      <td>7.1</td>\n",
       "      <td>140.0</td>\n",
       "      <td>1941</td>\n",
       "    </tr>\n",
       "    <tr>\n",
       "      <th>2</th>\n",
       "      <td>United States of America</td>\n",
       "      <td>8.145216e+07</td>\n",
       "      <td>127.0</td>\n",
       "      <td>Waiting to Exhale</td>\n",
       "      <td>6.1</td>\n",
       "      <td>34.0</td>\n",
       "      <td>1995</td>\n",
       "    </tr>\n",
       "    <tr>\n",
       "      <th>745</th>\n",
       "      <td>United States of America</td>\n",
       "      <td>3.161122e+07</td>\n",
       "      <td>115.0</td>\n",
       "      <td>For Richer or Poorer</td>\n",
       "      <td>5.6</td>\n",
       "      <td>43.0</td>\n",
       "      <td>1997</td>\n",
       "    </tr>\n",
       "  </tbody>\n",
       "</table>\n",
       "</div>"
      ],
      "text/plain": [
       "                     countries       revenue  runtime                  name  \\\n",
       "5801  United States of America  1.274219e+09    102.0                Frozen   \n",
       "3265                    France  3.938800e+04     95.0   Au Hasard Balthazar   \n",
       "1009  United States of America  4.500000e+06     99.0             Suspicion   \n",
       "2     United States of America  8.145216e+07    127.0     Waiting to Exhale   \n",
       "745   United States of America  3.161122e+07    115.0  For Richer or Poorer   \n",
       "\n",
       "      review  nbr_review  year  \n",
       "5801     7.3      5440.0  2013  \n",
       "3265     7.8        74.0  1966  \n",
       "1009     7.1       140.0  1941  \n",
       "2        6.1        34.0  1995  \n",
       "745      5.6        43.0  1997  "
      ]
     },
     "metadata": {},
     "output_type": "display_data"
    },
    {
     "data": {
      "text/plain": [
       "(7407, 7)"
      ]
     },
     "metadata": {},
     "output_type": "display_data"
    },
    {
     "name": "stdout",
     "output_type": "stream",
     "text": [
      "<class 'pandas.core.frame.DataFrame'>\n",
      "RangeIndex: 7407 entries, 0 to 7406\n",
      "Data columns (total 7 columns):\n",
      " #   Column      Non-Null Count  Dtype  \n",
      "---  ------      --------------  -----  \n",
      " 0   countries   7255 non-null   object \n",
      " 1   revenue     7407 non-null   float64\n",
      " 2   runtime     7380 non-null   float64\n",
      " 3   name        7407 non-null   object \n",
      " 4   review      7407 non-null   float64\n",
      " 5   nbr_review  7407 non-null   float64\n",
      " 6   year        7407 non-null   int32  \n",
      "dtypes: float64(4), int32(1), object(2)\n",
      "memory usage: 376.3+ KB\n"
     ]
    },
    {
     "data": {
      "text/plain": [
       "None"
      ]
     },
     "metadata": {},
     "output_type": "display_data"
    }
   ],
   "source": [
    "# Handling format\n",
    "movies_lens['countries'] = movies_lens['countries'].apply(lambda x: [country['name'] for country in ast.literal_eval(x)] if pd.notna(x) else [])\n",
    "\n",
    "# Handle multi-countries movies to keep only one country per movie (prioritize USA above others)\n",
    "movies_lens = separate_values_biased(movies_lens, 'countries', 'United States of America')\n",
    "\n",
    "display(movies_lens.sample(5))\n",
    "display(movies_lens.shape)\n",
    "display(movies_lens.info())\n"
   ]
  },
  {
   "cell_type": "markdown",
   "metadata": {},
   "source": [
    "- Keep only the USA"
   ]
  },
  {
   "cell_type": "code",
   "execution_count": 34,
   "metadata": {},
   "outputs": [
    {
     "data": {
      "text/html": [
       "<div>\n",
       "<style scoped>\n",
       "    .dataframe tbody tr th:only-of-type {\n",
       "        vertical-align: middle;\n",
       "    }\n",
       "\n",
       "    .dataframe tbody tr th {\n",
       "        vertical-align: top;\n",
       "    }\n",
       "\n",
       "    .dataframe thead th {\n",
       "        text-align: right;\n",
       "    }\n",
       "</style>\n",
       "<table border=\"1\" class=\"dataframe\">\n",
       "  <thead>\n",
       "    <tr style=\"text-align: right;\">\n",
       "      <th></th>\n",
       "      <th>revenue</th>\n",
       "      <th>runtime</th>\n",
       "      <th>name</th>\n",
       "      <th>review</th>\n",
       "      <th>nbr_review</th>\n",
       "      <th>year</th>\n",
       "    </tr>\n",
       "  </thead>\n",
       "  <tbody>\n",
       "    <tr>\n",
       "      <th>1652</th>\n",
       "      <td>28900000.0</td>\n",
       "      <td>158.0</td>\n",
       "      <td>The Guns of Navarone</td>\n",
       "      <td>7.3</td>\n",
       "      <td>191.0</td>\n",
       "      <td>1961</td>\n",
       "    </tr>\n",
       "    <tr>\n",
       "      <th>5456</th>\n",
       "      <td>161772375.0</td>\n",
       "      <td>138.0</td>\n",
       "      <td>Flight</td>\n",
       "      <td>6.5</td>\n",
       "      <td>2449.0</td>\n",
       "      <td>2012</td>\n",
       "    </tr>\n",
       "    <tr>\n",
       "      <th>5814</th>\n",
       "      <td>149295601.0</td>\n",
       "      <td>121.0</td>\n",
       "      <td>Lone Survivor</td>\n",
       "      <td>7.4</td>\n",
       "      <td>1549.0</td>\n",
       "      <td>2013</td>\n",
       "    </tr>\n",
       "    <tr>\n",
       "      <th>3672</th>\n",
       "      <td>57231524.0</td>\n",
       "      <td>110.0</td>\n",
       "      <td>Madea's Family Reunion</td>\n",
       "      <td>6.0</td>\n",
       "      <td>77.0</td>\n",
       "      <td>2006</td>\n",
       "    </tr>\n",
       "    <tr>\n",
       "      <th>3011</th>\n",
       "      <td>7897645.0</td>\n",
       "      <td>96.0</td>\n",
       "      <td>Coffee and Cigarettes</td>\n",
       "      <td>6.9</td>\n",
       "      <td>216.0</td>\n",
       "      <td>2003</td>\n",
       "    </tr>\n",
       "  </tbody>\n",
       "</table>\n",
       "</div>"
      ],
      "text/plain": [
       "          revenue  runtime                    name  review  nbr_review  year\n",
       "1652   28900000.0    158.0    The Guns of Navarone     7.3       191.0  1961\n",
       "5456  161772375.0    138.0                  Flight     6.5      2449.0  2012\n",
       "5814  149295601.0    121.0           Lone Survivor     7.4      1549.0  2013\n",
       "3672   57231524.0    110.0  Madea's Family Reunion     6.0        77.0  2006\n",
       "3011    7897645.0     96.0   Coffee and Cigarettes     6.9       216.0  2003"
      ]
     },
     "metadata": {},
     "output_type": "display_data"
    },
    {
     "data": {
      "text/plain": [
       "(5623, 6)"
      ]
     },
     "metadata": {},
     "output_type": "display_data"
    },
    {
     "name": "stdout",
     "output_type": "stream",
     "text": [
      "<class 'pandas.core.frame.DataFrame'>\n",
      "Int64Index: 5623 entries, 0 to 7396\n",
      "Data columns (total 6 columns):\n",
      " #   Column      Non-Null Count  Dtype  \n",
      "---  ------      --------------  -----  \n",
      " 0   revenue     5623 non-null   float64\n",
      " 1   runtime     5623 non-null   float64\n",
      " 2   name        5623 non-null   object \n",
      " 3   review      5623 non-null   float64\n",
      " 4   nbr_review  5623 non-null   float64\n",
      " 5   year        5623 non-null   int32  \n",
      "dtypes: float64(4), int32(1), object(1)\n",
      "memory usage: 285.5+ KB\n"
     ]
    },
    {
     "data": {
      "text/plain": [
       "None"
      ]
     },
     "metadata": {},
     "output_type": "display_data"
    }
   ],
   "source": [
    "movies_lens = movies_lens[movies_lens['countries']=='United States of America'].drop(\n",
    "columns='countries')\n",
    "\n",
    "display(movies_lens.sample(5))\n",
    "display(movies_lens.shape)\n",
    "display(movies_lens.info())\n",
    "\n"
   ]
  },
  {
   "cell_type": "markdown",
   "metadata": {},
   "source": [
    "- Check if there are any duplicates"
   ]
  },
  {
   "cell_type": "code",
   "execution_count": 35,
   "metadata": {},
   "outputs": [
    {
     "name": "stdout",
     "output_type": "stream",
     "text": [
      "Rows with real duplicates: \n",
      "                                             name  year  runtime\n",
      "415                            A Farewell to Arms  1932     89.0\n",
      "2301                                Clockstoppers  2002     94.0\n",
      "2444  Pokémon 4Ever: Celebi - Voice of the Forest  2001     75.0\n",
      "2548              Confessions of a Dangerous Mind  2002    113.0\n",
      "4721                           A Farewell to Arms  1932     89.0\n",
      "6692                                Clockstoppers  2002     94.0\n",
      "6695              Confessions of a Dangerous Mind  2002    113.0\n",
      "7381  Pokémon 4Ever: Celebi - Voice of the Forest  2001     75.0\n",
      "--------------------------------------------------------------------------------\n"
     ]
    },
    {
     "data": {
      "text/plain": [
       "None"
      ]
     },
     "metadata": {},
     "output_type": "display_data"
    }
   ],
   "source": [
    "display(check_doublons(movies_lens, ['name'], 'year', 'runtime'))\n"
   ]
  },
  {
   "cell_type": "code",
   "execution_count": 36,
   "metadata": {},
   "outputs": [
    {
     "name": "stdout",
     "output_type": "stream",
     "text": [
      "Fusing duplicates: \n",
      "Duplicates fused successfully.\n",
      "--------------------------------------------------------------------------------\n",
      "No duplicates\n",
      "--------------------------------------------------------------------------------\n"
     ]
    }
   ],
   "source": [
    "movies_lens = fuse_duplicates(movies_lens, col_check=['name'], year='year', runtime='runtime',\n",
    "                         col_len=[], col_null=['revenue', 'review', 'nbr_review'])\n",
    "check_doublons(movies_lens, ['name'], 'year', 'runtime')\n"
   ]
  },
  {
   "cell_type": "markdown",
   "metadata": {},
   "source": [
    "- Check release year distribution"
   ]
  },
  {
   "cell_type": "code",
   "execution_count": 37,
   "metadata": {},
   "outputs": [
    {
     "data": {
      "image/png": "[encoded data removed]",
      "text/plain": [
       "<Figure size 720x432 with 1 Axes>"
      ]
     },
     "metadata": {
      "needs_background": "light"
     },
     "output_type": "display_data"
    }
   ],
   "source": [
    "plt.figure(figsize=(10, 6))\n",
    "plt.hist(movies_lens['year'], color='skyblue', edgecolor='skyblue')\n",
    "plt.xlabel(\"Release Year\")\n",
    "plt.ylabel(\"Frequency\")\n",
    "plt.title(\"Distribution of Release Years\")\n",
    "plt.grid(axis='y', alpha=0.75)\n",
    "plt.show()\n"
   ]
  },
  {
   "cell_type": "markdown",
   "metadata": {},
   "source": [
    "### c) Merging the two extra dataframes"
   ]
  },
  {
   "cell_type": "markdown",
   "metadata": {},
   "source": [
    "Now that the two extra datasets are clean, let's merge them into the annex dataframe."
   ]
  },
  {
   "cell_type": "code",
   "execution_count": 38,
   "metadata": {},
   "outputs": [
    {
     "data": {
      "text/html": [
       "<div>\n",
       "<style scoped>\n",
       "    .dataframe tbody tr th:only-of-type {\n",
       "        vertical-align: middle;\n",
       "    }\n",
       "\n",
       "    .dataframe tbody tr th {\n",
       "        vertical-align: top;\n",
       "    }\n",
       "\n",
       "    .dataframe thead th {\n",
       "        text-align: right;\n",
       "    }\n",
       "</style>\n",
       "<table border=\"1\" class=\"dataframe\">\n",
       "  <thead>\n",
       "    <tr style=\"text-align: right;\">\n",
       "      <th></th>\n",
       "      <th>name</th>\n",
       "      <th>year</th>\n",
       "      <th>review_x</th>\n",
       "      <th>nbr_review_x</th>\n",
       "      <th>countries</th>\n",
       "      <th>revenue_x</th>\n",
       "      <th>runtime</th>\n",
       "      <th>revenue_y</th>\n",
       "      <th>review_y</th>\n",
       "      <th>nbr_review_y</th>\n",
       "    </tr>\n",
       "  </thead>\n",
       "  <tbody>\n",
       "    <tr>\n",
       "      <th>3960</th>\n",
       "      <td>The Taking of Pelham 123</td>\n",
       "      <td>2009</td>\n",
       "      <td>6.4</td>\n",
       "      <td>189000.0</td>\n",
       "      <td>United States</td>\n",
       "      <td>150166126.0</td>\n",
       "      <td>106.0</td>\n",
       "      <td>NaN</td>\n",
       "      <td>NaN</td>\n",
       "      <td>NaN</td>\n",
       "    </tr>\n",
       "    <tr>\n",
       "      <th>187</th>\n",
       "      <td>Tex</td>\n",
       "      <td>1982</td>\n",
       "      <td>6.5</td>\n",
       "      <td>2000.0</td>\n",
       "      <td>United States</td>\n",
       "      <td>7400000.0</td>\n",
       "      <td>103.0</td>\n",
       "      <td>NaN</td>\n",
       "      <td>NaN</td>\n",
       "      <td>NaN</td>\n",
       "    </tr>\n",
       "    <tr>\n",
       "      <th>2421</th>\n",
       "      <td>Great Expectations</td>\n",
       "      <td>1998</td>\n",
       "      <td>6.8</td>\n",
       "      <td>52000.0</td>\n",
       "      <td>United States</td>\n",
       "      <td>55494066.0</td>\n",
       "      <td>111.0</td>\n",
       "      <td>55494066.0</td>\n",
       "      <td>6.4</td>\n",
       "      <td>131.0</td>\n",
       "    </tr>\n",
       "    <tr>\n",
       "      <th>3668</th>\n",
       "      <td>Teeth</td>\n",
       "      <td>2007</td>\n",
       "      <td>5.4</td>\n",
       "      <td>42000.0</td>\n",
       "      <td>United States</td>\n",
       "      <td>2340110.0</td>\n",
       "      <td>94.0</td>\n",
       "      <td>NaN</td>\n",
       "      <td>NaN</td>\n",
       "      <td>NaN</td>\n",
       "    </tr>\n",
       "    <tr>\n",
       "      <th>2429</th>\n",
       "      <td>BASEketball</td>\n",
       "      <td>1998</td>\n",
       "      <td>6.5</td>\n",
       "      <td>58000.0</td>\n",
       "      <td>United States</td>\n",
       "      <td>7027290.0</td>\n",
       "      <td>103.0</td>\n",
       "      <td>7027290.0</td>\n",
       "      <td>5.9</td>\n",
       "      <td>150.0</td>\n",
       "    </tr>\n",
       "  </tbody>\n",
       "</table>\n",
       "</div>"
      ],
      "text/plain": [
       "                          name  year  review_x  nbr_review_x      countries  \\\n",
       "3960  The Taking of Pelham 123  2009       6.4      189000.0  United States   \n",
       "187                        Tex  1982       6.5        2000.0  United States   \n",
       "2421        Great Expectations  1998       6.8       52000.0  United States   \n",
       "3668                     Teeth  2007       5.4       42000.0  United States   \n",
       "2429               BASEketball  1998       6.5       58000.0  United States   \n",
       "\n",
       "        revenue_x  runtime   revenue_y  review_y  nbr_review_y  \n",
       "3960  150166126.0    106.0         NaN       NaN           NaN  \n",
       "187     7400000.0    103.0         NaN       NaN           NaN  \n",
       "2421   55494066.0    111.0  55494066.0       6.4         131.0  \n",
       "3668    2340110.0     94.0         NaN       NaN           NaN  \n",
       "2429    7027290.0    103.0   7027290.0       5.9         150.0  "
      ]
     },
     "metadata": {},
     "output_type": "display_data"
    },
    {
     "data": {
      "text/plain": [
       "(8136, 10)"
      ]
     },
     "metadata": {},
     "output_type": "display_data"
    },
    {
     "name": "stdout",
     "output_type": "stream",
     "text": [
      "<class 'pandas.core.frame.DataFrame'>\n",
      "Int64Index: 8136 entries, 0 to 8135\n",
      "Data columns (total 10 columns):\n",
      " #   Column        Non-Null Count  Dtype  \n",
      "---  ------        --------------  -----  \n",
      " 0   name          8136 non-null   object \n",
      " 1   year          8136 non-null   int64  \n",
      " 2   review_x      5377 non-null   float64\n",
      " 3   nbr_review_x  5377 non-null   float64\n",
      " 4   countries     5377 non-null   object \n",
      " 5   revenue_x     5377 non-null   float64\n",
      " 6   runtime       8135 non-null   float64\n",
      " 7   revenue_y     5619 non-null   float64\n",
      " 8   review_y      5619 non-null   float64\n",
      " 9   nbr_review_y  5619 non-null   float64\n",
      "dtypes: float64(7), int64(1), object(2)\n",
      "memory usage: 699.2+ KB\n"
     ]
    },
    {
     "data": {
      "text/plain": [
       "None"
      ]
     },
     "metadata": {},
     "output_type": "display_data"
    }
   ],
   "source": [
    "annex = pd.merge(movies_stats, movies_lens, how='outer', on=['name', 'year', 'runtime'])\n",
    "\n",
    "display(annex.sample(5))\n",
    "display(annex.shape)\n",
    "display(annex.info())\n"
   ]
  },
  {
   "cell_type": "markdown",
   "metadata": {},
   "source": [
    "- Let's merge the revenues columns"
   ]
  },
  {
   "cell_type": "code",
   "execution_count": 39,
   "metadata": {},
   "outputs": [
    {
     "data": {
      "text/html": [
       "<div>\n",
       "<style scoped>\n",
       "    .dataframe tbody tr th:only-of-type {\n",
       "        vertical-align: middle;\n",
       "    }\n",
       "\n",
       "    .dataframe tbody tr th {\n",
       "        vertical-align: top;\n",
       "    }\n",
       "\n",
       "    .dataframe thead th {\n",
       "        text-align: right;\n",
       "    }\n",
       "</style>\n",
       "<table border=\"1\" class=\"dataframe\">\n",
       "  <thead>\n",
       "    <tr style=\"text-align: right;\">\n",
       "      <th></th>\n",
       "      <th>name</th>\n",
       "      <th>year</th>\n",
       "      <th>review_x</th>\n",
       "      <th>nbr_review_x</th>\n",
       "      <th>runtime</th>\n",
       "      <th>review_y</th>\n",
       "      <th>nbr_review_y</th>\n",
       "      <th>revenue</th>\n",
       "    </tr>\n",
       "  </thead>\n",
       "  <tbody>\n",
       "    <tr>\n",
       "      <th>6715</th>\n",
       "      <td>What the #$*! Do We (K)now!?</td>\n",
       "      <td>2004</td>\n",
       "      <td>NaN</td>\n",
       "      <td>NaN</td>\n",
       "      <td>109.0</td>\n",
       "      <td>5.8</td>\n",
       "      <td>34.0</td>\n",
       "      <td>10000000.0</td>\n",
       "    </tr>\n",
       "    <tr>\n",
       "      <th>1495</th>\n",
       "      <td>Encino Man</td>\n",
       "      <td>1992</td>\n",
       "      <td>5.8</td>\n",
       "      <td>38000.0</td>\n",
       "      <td>88.0</td>\n",
       "      <td>5.6</td>\n",
       "      <td>197.0</td>\n",
       "      <td>40693477.0</td>\n",
       "    </tr>\n",
       "    <tr>\n",
       "      <th>7074</th>\n",
       "      <td>Towelhead</td>\n",
       "      <td>2008</td>\n",
       "      <td>NaN</td>\n",
       "      <td>NaN</td>\n",
       "      <td>111.0</td>\n",
       "      <td>6.5</td>\n",
       "      <td>45.0</td>\n",
       "      <td>367638.0</td>\n",
       "    </tr>\n",
       "    <tr>\n",
       "      <th>6049</th>\n",
       "      <td>Shaft</td>\n",
       "      <td>2000</td>\n",
       "      <td>NaN</td>\n",
       "      <td>NaN</td>\n",
       "      <td>99.0</td>\n",
       "      <td>5.5</td>\n",
       "      <td>316.0</td>\n",
       "      <td>107196498.0</td>\n",
       "    </tr>\n",
       "    <tr>\n",
       "      <th>7090</th>\n",
       "      <td>Nick and Norah's Infinite Playlist</td>\n",
       "      <td>2008</td>\n",
       "      <td>NaN</td>\n",
       "      <td>NaN</td>\n",
       "      <td>89.0</td>\n",
       "      <td>6.4</td>\n",
       "      <td>387.0</td>\n",
       "      <td>32973937.0</td>\n",
       "    </tr>\n",
       "  </tbody>\n",
       "</table>\n",
       "</div>"
      ],
      "text/plain": [
       "                                    name  year  review_x  nbr_review_x  \\\n",
       "6715        What the #$*! Do We (K)now!?  2004       NaN           NaN   \n",
       "1495                          Encino Man  1992       5.8       38000.0   \n",
       "7074                           Towelhead  2008       NaN           NaN   \n",
       "6049                               Shaft  2000       NaN           NaN   \n",
       "7090  Nick and Norah's Infinite Playlist  2008       NaN           NaN   \n",
       "\n",
       "      runtime  review_y  nbr_review_y      revenue  \n",
       "6715    109.0       5.8          34.0   10000000.0  \n",
       "1495     88.0       5.6         197.0   40693477.0  \n",
       "7074    111.0       6.5          45.0     367638.0  \n",
       "6049     99.0       5.5         316.0  107196498.0  \n",
       "7090     89.0       6.4         387.0   32973937.0  "
      ]
     },
     "metadata": {},
     "output_type": "display_data"
    },
    {
     "data": {
      "text/plain": [
       "(8136, 8)"
      ]
     },
     "metadata": {},
     "output_type": "display_data"
    },
    {
     "name": "stdout",
     "output_type": "stream",
     "text": [
      "<class 'pandas.core.frame.DataFrame'>\n",
      "Int64Index: 8136 entries, 0 to 8135\n",
      "Data columns (total 8 columns):\n",
      " #   Column        Non-Null Count  Dtype  \n",
      "---  ------        --------------  -----  \n",
      " 0   name          8136 non-null   object \n",
      " 1   year          8136 non-null   int64  \n",
      " 2   review_x      5377 non-null   float64\n",
      " 3   nbr_review_x  5377 non-null   float64\n",
      " 4   runtime       8135 non-null   float64\n",
      " 5   review_y      5619 non-null   float64\n",
      " 6   nbr_review_y  5619 non-null   float64\n",
      " 7   revenue       8136 non-null   float64\n",
      "dtypes: float64(6), int64(1), object(1)\n",
      "memory usage: 572.1+ KB\n"
     ]
    },
    {
     "data": {
      "text/plain": [
       "None"
      ]
     },
     "metadata": {},
     "output_type": "display_data"
    }
   ],
   "source": [
    "annex['revenue'] = annex.apply(lambda row: fuse_columns(row[f'revenue_x'], row[f'revenue_y'], 'revenue'), axis=1)\n",
    "\n",
    "annex = annex.drop(columns=['revenue_x', 'revenue_y', 'countries'])\n",
    "display(annex.sample(5))\n",
    "display(annex.shape)\n",
    "display(annex.info())\n"
   ]
  },
  {
   "cell_type": "markdown",
   "metadata": {},
   "source": [
    "- Let's merge the reviews columns."
   ]
  },
  {
   "cell_type": "code",
   "execution_count": 40,
   "metadata": {},
   "outputs": [
    {
     "data": {
      "text/html": [
       "<div>\n",
       "<style scoped>\n",
       "    .dataframe tbody tr th:only-of-type {\n",
       "        vertical-align: middle;\n",
       "    }\n",
       "\n",
       "    .dataframe tbody tr th {\n",
       "        vertical-align: top;\n",
       "    }\n",
       "\n",
       "    .dataframe thead th {\n",
       "        text-align: right;\n",
       "    }\n",
       "</style>\n",
       "<table border=\"1\" class=\"dataframe\">\n",
       "  <thead>\n",
       "    <tr style=\"text-align: right;\">\n",
       "      <th></th>\n",
       "      <th>name</th>\n",
       "      <th>year</th>\n",
       "      <th>runtime</th>\n",
       "      <th>revenue</th>\n",
       "      <th>review</th>\n",
       "      <th>nbr_review</th>\n",
       "    </tr>\n",
       "  </thead>\n",
       "  <tbody>\n",
       "    <tr>\n",
       "      <th>6650</th>\n",
       "      <td>The Machinist</td>\n",
       "      <td>2004</td>\n",
       "      <td>101.0</td>\n",
       "      <td>8203235.0</td>\n",
       "      <td>7.300000</td>\n",
       "      <td>1280.0</td>\n",
       "    </tr>\n",
       "    <tr>\n",
       "      <th>4370</th>\n",
       "      <td>Chronicle</td>\n",
       "      <td>2012</td>\n",
       "      <td>84.0</td>\n",
       "      <td>135818048.5</td>\n",
       "      <td>6.996791</td>\n",
       "      <td>244965.0</td>\n",
       "    </tr>\n",
       "    <tr>\n",
       "      <th>7070</th>\n",
       "      <td>The Unholy Three</td>\n",
       "      <td>1925</td>\n",
       "      <td>86.0</td>\n",
       "      <td>704000.0</td>\n",
       "      <td>5.800000</td>\n",
       "      <td>11.0</td>\n",
       "    </tr>\n",
       "    <tr>\n",
       "      <th>6714</th>\n",
       "      <td>When Will I Be Loved</td>\n",
       "      <td>2004</td>\n",
       "      <td>81.0</td>\n",
       "      <td>159429.0</td>\n",
       "      <td>4.200000</td>\n",
       "      <td>12.0</td>\n",
       "    </tr>\n",
       "    <tr>\n",
       "      <th>693</th>\n",
       "      <td>Brighton Beach Memoirs</td>\n",
       "      <td>1986</td>\n",
       "      <td>108.0</td>\n",
       "      <td>11957943.0</td>\n",
       "      <td>6.800000</td>\n",
       "      <td>3400.0</td>\n",
       "    </tr>\n",
       "  </tbody>\n",
       "</table>\n",
       "</div>"
      ],
      "text/plain": [
       "                        name  year  runtime      revenue    review  nbr_review\n",
       "6650           The Machinist  2004    101.0    8203235.0  7.300000      1280.0\n",
       "4370               Chronicle  2012     84.0  135818048.5  6.996791    244965.0\n",
       "7070        The Unholy Three  1925     86.0     704000.0  5.800000        11.0\n",
       "6714    When Will I Be Loved  2004     81.0     159429.0  4.200000        12.0\n",
       "693   Brighton Beach Memoirs  1986    108.0   11957943.0  6.800000      3400.0"
      ]
     },
     "metadata": {},
     "output_type": "display_data"
    },
    {
     "data": {
      "text/plain": [
       "(8136, 6)"
      ]
     },
     "metadata": {},
     "output_type": "display_data"
    },
    {
     "name": "stdout",
     "output_type": "stream",
     "text": [
      "<class 'pandas.core.frame.DataFrame'>\n",
      "Int64Index: 8136 entries, 0 to 8135\n",
      "Data columns (total 6 columns):\n",
      " #   Column      Non-Null Count  Dtype  \n",
      "---  ------      --------------  -----  \n",
      " 0   name        8136 non-null   object \n",
      " 1   year        8136 non-null   int64  \n",
      " 2   runtime     8135 non-null   float64\n",
      " 3   revenue     8136 non-null   float64\n",
      " 4   review      8122 non-null   float64\n",
      " 5   nbr_review  8122 non-null   float64\n",
      "dtypes: float64(4), int64(1), object(1)\n",
      "memory usage: 444.9+ KB\n"
     ]
    },
    {
     "data": {
      "text/plain": [
       "None"
      ]
     },
     "metadata": {},
     "output_type": "display_data"
    },
    {
     "data": {
      "text/html": [
       "<div>\n",
       "<style scoped>\n",
       "    .dataframe tbody tr th:only-of-type {\n",
       "        vertical-align: middle;\n",
       "    }\n",
       "\n",
       "    .dataframe tbody tr th {\n",
       "        vertical-align: top;\n",
       "    }\n",
       "\n",
       "    .dataframe thead th {\n",
       "        text-align: right;\n",
       "    }\n",
       "</style>\n",
       "<table border=\"1\" class=\"dataframe\">\n",
       "  <thead>\n",
       "    <tr style=\"text-align: right;\">\n",
       "      <th></th>\n",
       "      <th>name</th>\n",
       "      <th>year</th>\n",
       "      <th>runtime</th>\n",
       "      <th>revenue</th>\n",
       "      <th>review</th>\n",
       "      <th>nbr_review</th>\n",
       "    </tr>\n",
       "  </thead>\n",
       "  <tbody>\n",
       "  </tbody>\n",
       "</table>\n",
       "</div>"
      ],
      "text/plain": [
       "Empty DataFrame\n",
       "Columns: [name, year, runtime, revenue, review, nbr_review]\n",
       "Index: []"
      ]
     },
     "metadata": {},
     "output_type": "display_data"
    },
    {
     "data": {
      "text/html": [
       "<div>\n",
       "<style scoped>\n",
       "    .dataframe tbody tr th:only-of-type {\n",
       "        vertical-align: middle;\n",
       "    }\n",
       "\n",
       "    .dataframe tbody tr th {\n",
       "        vertical-align: top;\n",
       "    }\n",
       "\n",
       "    .dataframe thead th {\n",
       "        text-align: right;\n",
       "    }\n",
       "</style>\n",
       "<table border=\"1\" class=\"dataframe\">\n",
       "  <thead>\n",
       "    <tr style=\"text-align: right;\">\n",
       "      <th></th>\n",
       "      <th>name</th>\n",
       "      <th>year</th>\n",
       "      <th>runtime</th>\n",
       "      <th>revenue</th>\n",
       "      <th>review</th>\n",
       "      <th>nbr_review</th>\n",
       "    </tr>\n",
       "  </thead>\n",
       "  <tbody>\n",
       "  </tbody>\n",
       "</table>\n",
       "</div>"
      ],
      "text/plain": [
       "Empty DataFrame\n",
       "Columns: [name, year, runtime, revenue, review, nbr_review]\n",
       "Index: []"
      ]
     },
     "metadata": {},
     "output_type": "display_data"
    }
   ],
   "source": [
    "annex = fuse_scores(annex, 'review_x', 'review_y', 'nbr_review_x', 'nbr_review_y')\n",
    "display(annex.sample(5))\n",
    "display(annex.shape)\n",
    "display(annex.info())\n",
    "display(annex[annex['review']<=0])\n",
    "display(annex[annex['nbr_review']<=0])\n"
   ]
  },
  {
   "cell_type": "markdown",
   "metadata": {},
   "source": [
    "- Check if there are any duplicates."
   ]
  },
  {
   "cell_type": "code",
   "execution_count": 41,
   "metadata": {},
   "outputs": [
    {
     "name": "stdout",
     "output_type": "stream",
     "text": [
      "No duplicates\n",
      "--------------------------------------------------------------------------------\n"
     ]
    }
   ],
   "source": [
    "check_doublons(annex, ['name'], 'year', 'runtime')\n"
   ]
  },
  {
   "cell_type": "code",
   "execution_count": 42,
   "metadata": {},
   "outputs": [
    {
     "name": "stdout",
     "output_type": "stream",
     "text": [
      "<class 'pandas.core.frame.DataFrame'>\n",
      "Int64Index: 8136 entries, 0 to 8135\n",
      "Data columns (total 6 columns):\n",
      " #   Column      Non-Null Count  Dtype  \n",
      "---  ------      --------------  -----  \n",
      " 0   name        8136 non-null   object \n",
      " 1   year        8136 non-null   int64  \n",
      " 2   runtime     8135 non-null   float64\n",
      " 3   revenue     8136 non-null   float64\n",
      " 4   review      8122 non-null   float64\n",
      " 5   nbr_review  8122 non-null   float64\n",
      "dtypes: float64(4), int64(1), object(1)\n",
      "memory usage: 444.9+ KB\n"
     ]
    },
    {
     "data": {
      "text/plain": [
       "None"
      ]
     },
     "metadata": {},
     "output_type": "display_data"
    },
    {
     "name": "stdout",
     "output_type": "stream",
     "text": [
      "<class 'pandas.core.frame.DataFrame'>\n",
      "Int64Index: 29828 entries, 0 to 74827\n",
      "Data columns (total 9 columns):\n",
      " #   Column       Non-Null Count  Dtype  \n",
      "---  ------       --------------  -----  \n",
      " 0   id_wiki      29828 non-null  int64  \n",
      " 1   id_freebase  29828 non-null  object \n",
      " 2   name         29828 non-null  object \n",
      " 3   year         29828 non-null  int32  \n",
      " 4   revenue      6779 non-null   float64\n",
      " 5   runtime      26436 non-null  object \n",
      " 6   lang         29828 non-null  object \n",
      " 7   countries    29828 non-null  object \n",
      " 8   genres       29828 non-null  object \n",
      "dtypes: float64(1), int32(1), int64(1), object(6)\n",
      "memory usage: 2.2+ MB\n"
     ]
    },
    {
     "data": {
      "text/plain": [
       "None"
      ]
     },
     "metadata": {},
     "output_type": "display_data"
    }
   ],
   "source": [
    "display(annex.info())\n",
    "display(movies.info())\n",
    "movies['runtime'] = pd.to_numeric(movies['runtime'], errors='coerce')\n"
   ]
  },
  {
   "cell_type": "markdown",
   "metadata": {},
   "source": [
    "Now that annex is properly merged let's do the final merge with movies dataframe"
   ]
  },
  {
   "cell_type": "code",
   "execution_count": 43,
   "metadata": {},
   "outputs": [
    {
     "data": {
      "text/html": [
       "<div>\n",
       "<style scoped>\n",
       "    .dataframe tbody tr th:only-of-type {\n",
       "        vertical-align: middle;\n",
       "    }\n",
       "\n",
       "    .dataframe tbody tr th {\n",
       "        vertical-align: top;\n",
       "    }\n",
       "\n",
       "    .dataframe thead th {\n",
       "        text-align: right;\n",
       "    }\n",
       "</style>\n",
       "<table border=\"1\" class=\"dataframe\">\n",
       "  <thead>\n",
       "    <tr style=\"text-align: right;\">\n",
       "      <th></th>\n",
       "      <th>id_wiki</th>\n",
       "      <th>id_freebase</th>\n",
       "      <th>name</th>\n",
       "      <th>year</th>\n",
       "      <th>revenue_x</th>\n",
       "      <th>runtime</th>\n",
       "      <th>lang</th>\n",
       "      <th>countries</th>\n",
       "      <th>genres</th>\n",
       "      <th>revenue_y</th>\n",
       "      <th>review</th>\n",
       "      <th>nbr_review</th>\n",
       "    </tr>\n",
       "  </thead>\n",
       "  <tbody>\n",
       "    <tr>\n",
       "      <th>2721</th>\n",
       "      <td>1485962</td>\n",
       "      <td>/m/05567m</td>\n",
       "      <td>The Mask</td>\n",
       "      <td>1994</td>\n",
       "      <td>351583407.0</td>\n",
       "      <td>101.0</td>\n",
       "      <td>[English Language]</td>\n",
       "      <td>[USA]</td>\n",
       "      <td>[Crime Fiction, Romance Film, Action, Fantasy,...</td>\n",
       "      <td>351583407.0</td>\n",
       "      <td>6.897872</td>\n",
       "      <td>359550.0</td>\n",
       "    </tr>\n",
       "    <tr>\n",
       "      <th>27711</th>\n",
       "      <td>3011117</td>\n",
       "      <td>/m/08kf7t</td>\n",
       "      <td>The Adventurer</td>\n",
       "      <td>1917</td>\n",
       "      <td>NaN</td>\n",
       "      <td>20.0</td>\n",
       "      <td>[English Language]</td>\n",
       "      <td>[USA]</td>\n",
       "      <td>[Short Film, Silent film, Comedy, Black-and-wh...</td>\n",
       "      <td>NaN</td>\n",
       "      <td>NaN</td>\n",
       "      <td>NaN</td>\n",
       "    </tr>\n",
       "    <tr>\n",
       "      <th>24479</th>\n",
       "      <td>2833517</td>\n",
       "      <td>/m/085n6q</td>\n",
       "      <td>Two Days</td>\n",
       "      <td>2003</td>\n",
       "      <td>NaN</td>\n",
       "      <td>87.0</td>\n",
       "      <td>[English Language]</td>\n",
       "      <td>[USA]</td>\n",
       "      <td>[Black comedy, Drama, Indie]</td>\n",
       "      <td>NaN</td>\n",
       "      <td>NaN</td>\n",
       "      <td>NaN</td>\n",
       "    </tr>\n",
       "    <tr>\n",
       "      <th>24573</th>\n",
       "      <td>88075</td>\n",
       "      <td>/m/0m313</td>\n",
       "      <td>Shakespeare in Love</td>\n",
       "      <td>1998</td>\n",
       "      <td>289317794.0</td>\n",
       "      <td>137.0</td>\n",
       "      <td>[English Language]</td>\n",
       "      <td>[USA, United Kingdom]</td>\n",
       "      <td>[Romantic comedy, Costume drama, Comedy-drama,...</td>\n",
       "      <td>NaN</td>\n",
       "      <td>NaN</td>\n",
       "      <td>NaN</td>\n",
       "    </tr>\n",
       "    <tr>\n",
       "      <th>21848</th>\n",
       "      <td>13309790</td>\n",
       "      <td>/m/03c1byz</td>\n",
       "      <td>I Passed for White</td>\n",
       "      <td>1960</td>\n",
       "      <td>NaN</td>\n",
       "      <td>92.0</td>\n",
       "      <td>[English Language]</td>\n",
       "      <td>[USA]</td>\n",
       "      <td>[Romantic drama, Romance Film, Melodrama, Dram...</td>\n",
       "      <td>NaN</td>\n",
       "      <td>NaN</td>\n",
       "      <td>NaN</td>\n",
       "    </tr>\n",
       "  </tbody>\n",
       "</table>\n",
       "</div>"
      ],
      "text/plain": [
       "        id_wiki id_freebase                 name  year    revenue_x  runtime  \\\n",
       "2721    1485962   /m/05567m             The Mask  1994  351583407.0    101.0   \n",
       "27711   3011117   /m/08kf7t       The Adventurer  1917          NaN     20.0   \n",
       "24479   2833517   /m/085n6q             Two Days  2003          NaN     87.0   \n",
       "24573     88075    /m/0m313  Shakespeare in Love  1998  289317794.0    137.0   \n",
       "21848  13309790  /m/03c1byz   I Passed for White  1960          NaN     92.0   \n",
       "\n",
       "                     lang              countries  \\\n",
       "2721   [English Language]                  [USA]   \n",
       "27711  [English Language]                  [USA]   \n",
       "24479  [English Language]                  [USA]   \n",
       "24573  [English Language]  [USA, United Kingdom]   \n",
       "21848  [English Language]                  [USA]   \n",
       "\n",
       "                                                  genres    revenue_y  \\\n",
       "2721   [Crime Fiction, Romance Film, Action, Fantasy,...  351583407.0   \n",
       "27711  [Short Film, Silent film, Comedy, Black-and-wh...          NaN   \n",
       "24479                       [Black comedy, Drama, Indie]          NaN   \n",
       "24573  [Romantic comedy, Costume drama, Comedy-drama,...          NaN   \n",
       "21848  [Romantic drama, Romance Film, Melodrama, Dram...          NaN   \n",
       "\n",
       "         review  nbr_review  \n",
       "2721   6.897872    359550.0  \n",
       "27711       NaN         NaN  \n",
       "24479       NaN         NaN  \n",
       "24573       NaN         NaN  \n",
       "21848       NaN         NaN  "
      ]
     },
     "metadata": {},
     "output_type": "display_data"
    },
    {
     "data": {
      "text/plain": [
       "(29828, 12)"
      ]
     },
     "metadata": {},
     "output_type": "display_data"
    },
    {
     "name": "stdout",
     "output_type": "stream",
     "text": [
      "<class 'pandas.core.frame.DataFrame'>\n",
      "Int64Index: 29828 entries, 0 to 29827\n",
      "Data columns (total 12 columns):\n",
      " #   Column       Non-Null Count  Dtype  \n",
      "---  ------       --------------  -----  \n",
      " 0   id_wiki      29828 non-null  int64  \n",
      " 1   id_freebase  29828 non-null  object \n",
      " 2   name         29828 non-null  object \n",
      " 3   year         29828 non-null  int32  \n",
      " 4   revenue_x    6779 non-null   float64\n",
      " 5   runtime      26436 non-null  float64\n",
      " 6   lang         29828 non-null  object \n",
      " 7   countries    29828 non-null  object \n",
      " 8   genres       29828 non-null  object \n",
      " 9   revenue_y    2900 non-null   float64\n",
      " 10  review       2898 non-null   float64\n",
      " 11  nbr_review   2898 non-null   float64\n",
      "dtypes: float64(5), int32(1), int64(1), object(5)\n",
      "memory usage: 2.8+ MB\n"
     ]
    },
    {
     "data": {
      "text/plain": [
       "None"
      ]
     },
     "metadata": {},
     "output_type": "display_data"
    }
   ],
   "source": [
    "movies2 = pd.merge(movies, annex, on=['name', 'year', 'runtime'], how='left')\n",
    "display(movies2.sample(5))\n",
    "display(movies2.shape)\n",
    "display(movies2.info())\n"
   ]
  },
  {
   "cell_type": "markdown",
   "metadata": {},
   "source": [
    "- Fusing the box office data"
   ]
  },
  {
   "cell_type": "code",
   "execution_count": 44,
   "metadata": {},
   "outputs": [
    {
     "data": {
      "text/html": [
       "<div>\n",
       "<style scoped>\n",
       "    .dataframe tbody tr th:only-of-type {\n",
       "        vertical-align: middle;\n",
       "    }\n",
       "\n",
       "    .dataframe tbody tr th {\n",
       "        vertical-align: top;\n",
       "    }\n",
       "\n",
       "    .dataframe thead th {\n",
       "        text-align: right;\n",
       "    }\n",
       "</style>\n",
       "<table border=\"1\" class=\"dataframe\">\n",
       "  <thead>\n",
       "    <tr style=\"text-align: right;\">\n",
       "      <th></th>\n",
       "      <th>id_wiki</th>\n",
       "      <th>id_freebase</th>\n",
       "      <th>name</th>\n",
       "      <th>year</th>\n",
       "      <th>runtime</th>\n",
       "      <th>lang</th>\n",
       "      <th>countries</th>\n",
       "      <th>genres</th>\n",
       "      <th>review</th>\n",
       "      <th>nbr_review</th>\n",
       "      <th>revenue</th>\n",
       "    </tr>\n",
       "  </thead>\n",
       "  <tbody>\n",
       "    <tr>\n",
       "      <th>15122</th>\n",
       "      <td>30474049</td>\n",
       "      <td>/m/0g9y72x</td>\n",
       "      <td>Ticking Clock</td>\n",
       "      <td>2011</td>\n",
       "      <td>101.0</td>\n",
       "      <td>[English Language]</td>\n",
       "      <td>[USA]</td>\n",
       "      <td>[Thriller, Crime Thriller, Action, Suspense, P...</td>\n",
       "      <td>NaN</td>\n",
       "      <td>NaN</td>\n",
       "      <td>&lt;NA&gt;</td>\n",
       "    </tr>\n",
       "    <tr>\n",
       "      <th>27992</th>\n",
       "      <td>728946</td>\n",
       "      <td>/m/03681w</td>\n",
       "      <td>When a Man Loves a Woman</td>\n",
       "      <td>1994</td>\n",
       "      <td>126.0</td>\n",
       "      <td>[English Language, Thai Language]</td>\n",
       "      <td>[USA]</td>\n",
       "      <td>[Romantic drama, Romance Film, Marriage Drama,...</td>\n",
       "      <td>6.597978</td>\n",
       "      <td>21071.0</td>\n",
       "      <td>50021959.0</td>\n",
       "    </tr>\n",
       "    <tr>\n",
       "      <th>17862</th>\n",
       "      <td>3724309</td>\n",
       "      <td>/m/09xchw</td>\n",
       "      <td>Julius Caesar</td>\n",
       "      <td>1950</td>\n",
       "      <td>106.0</td>\n",
       "      <td>[English Language]</td>\n",
       "      <td>[USA]</td>\n",
       "      <td>[Drama]</td>\n",
       "      <td>NaN</td>\n",
       "      <td>NaN</td>\n",
       "      <td>&lt;NA&gt;</td>\n",
       "    </tr>\n",
       "    <tr>\n",
       "      <th>25152</th>\n",
       "      <td>12513889</td>\n",
       "      <td>/m/02w9w0g</td>\n",
       "      <td>Gaydar</td>\n",
       "      <td>2002</td>\n",
       "      <td>20.0</td>\n",
       "      <td>[English Language]</td>\n",
       "      <td>[USA]</td>\n",
       "      <td>[Short Film, Comedy]</td>\n",
       "      <td>NaN</td>\n",
       "      <td>NaN</td>\n",
       "      <td>&lt;NA&gt;</td>\n",
       "    </tr>\n",
       "    <tr>\n",
       "      <th>11969</th>\n",
       "      <td>5026667</td>\n",
       "      <td>/m/0c_gn5</td>\n",
       "      <td>Air Bud: Seventh Inning Fetch</td>\n",
       "      <td>2002</td>\n",
       "      <td>93.0</td>\n",
       "      <td>[English Language]</td>\n",
       "      <td>[USA, Canada]</td>\n",
       "      <td>[Children's/Family, Animal Picture, Sports, Ch...</td>\n",
       "      <td>NaN</td>\n",
       "      <td>NaN</td>\n",
       "      <td>&lt;NA&gt;</td>\n",
       "    </tr>\n",
       "  </tbody>\n",
       "</table>\n",
       "</div>"
      ],
      "text/plain": [
       "        id_wiki id_freebase                           name  year  runtime  \\\n",
       "15122  30474049  /m/0g9y72x                  Ticking Clock  2011    101.0   \n",
       "27992    728946   /m/03681w       When a Man Loves a Woman  1994    126.0   \n",
       "17862   3724309   /m/09xchw                  Julius Caesar  1950    106.0   \n",
       "25152  12513889  /m/02w9w0g                         Gaydar  2002     20.0   \n",
       "11969   5026667   /m/0c_gn5  Air Bud: Seventh Inning Fetch  2002     93.0   \n",
       "\n",
       "                                    lang      countries  \\\n",
       "15122                 [English Language]          [USA]   \n",
       "27992  [English Language, Thai Language]          [USA]   \n",
       "17862                 [English Language]          [USA]   \n",
       "25152                 [English Language]          [USA]   \n",
       "11969                 [English Language]  [USA, Canada]   \n",
       "\n",
       "                                                  genres    review  \\\n",
       "15122  [Thriller, Crime Thriller, Action, Suspense, P...       NaN   \n",
       "27992  [Romantic drama, Romance Film, Marriage Drama,...  6.597978   \n",
       "17862                                            [Drama]       NaN   \n",
       "25152                               [Short Film, Comedy]       NaN   \n",
       "11969  [Children's/Family, Animal Picture, Sports, Ch...       NaN   \n",
       "\n",
       "       nbr_review     revenue  \n",
       "15122         NaN        <NA>  \n",
       "27992     21071.0  50021959.0  \n",
       "17862         NaN        <NA>  \n",
       "25152         NaN        <NA>  \n",
       "11969         NaN        <NA>  "
      ]
     },
     "metadata": {},
     "output_type": "display_data"
    },
    {
     "data": {
      "text/plain": [
       "(29828, 11)"
      ]
     },
     "metadata": {},
     "output_type": "display_data"
    },
    {
     "name": "stdout",
     "output_type": "stream",
     "text": [
      "<class 'pandas.core.frame.DataFrame'>\n",
      "Int64Index: 29828 entries, 0 to 29827\n",
      "Data columns (total 11 columns):\n",
      " #   Column       Non-Null Count  Dtype  \n",
      "---  ------       --------------  -----  \n",
      " 0   id_wiki      29828 non-null  int64  \n",
      " 1   id_freebase  29828 non-null  object \n",
      " 2   name         29828 non-null  object \n",
      " 3   year         29828 non-null  int32  \n",
      " 4   runtime      26436 non-null  float64\n",
      " 5   lang         29828 non-null  object \n",
      " 6   countries    29828 non-null  object \n",
      " 7   genres       29828 non-null  object \n",
      " 8   review       2898 non-null   float64\n",
      " 9   nbr_review   2898 non-null   float64\n",
      " 10  revenue      7285 non-null   object \n",
      "dtypes: float64(3), int32(1), int64(1), object(6)\n",
      "memory usage: 2.6+ MB\n"
     ]
    },
    {
     "data": {
      "text/plain": [
       "None"
      ]
     },
     "metadata": {},
     "output_type": "display_data"
    }
   ],
   "source": [
    "movies2['revenue'] = movies2.apply(lambda row: fuse_columns(row[f'revenue_x'], row[f'revenue_y'], 'revenue'), axis=1)\n",
    "\n",
    "movies2 = movies2.drop(columns=['revenue_x', 'revenue_y'])\n",
    "\n",
    "display(movies2.sample(5))\n",
    "display(movies2.shape)\n",
    "display(movies2.info())\n",
    "\n"
   ]
  },
  {
   "cell_type": "markdown",
   "metadata": {},
   "source": [
    "- Vizualize improvements on missing revenue data post-merge"
   ]
  },
  {
   "cell_type": "code",
   "execution_count": 45,
   "metadata": {},
   "outputs": [
    {
     "data": {
      "image/png": "[encoded data removed]",
      "text/plain": [
       "<Figure size 1008x432 with 1 Axes>"
      ]
     },
     "metadata": {
      "needs_background": "light"
     },
     "output_type": "display_data"
    }
   ],
   "source": [
    "missing_revenue_USA_merge = calculate_missing_percentage(movies2, 'year', 'revenue')\n",
    "\n",
    "plt.figure(figsize=(14, 6))\n",
    "plt.plot(missing_revenue_all.index, missing_revenue_all[\"revenue\"], linestyle='-', color='skyblue', label='World')\n",
    "plt.plot(missing_revenue_USA.index, missing_revenue_USA[\"revenue\"], linestyle='--', color='r', label='USA pre-merge')\n",
    "plt.plot(missing_revenue_USA_merge.index, missing_revenue_USA_merge[\"revenue\"], linestyle='--', color='g', label='USA post-merge')\n",
    "plt.xlabel(\"Release Year\")\n",
    "plt.ylabel(\"Missing Revenue Percentage\")\n",
    "plt.title(\"Missing Revenue Percentage Over the Years\")\n",
    "plt.grid()\n",
    "plt.legend()\n",
    "plt.show()\n"
   ]
  },
  {
   "cell_type": "markdown",
   "metadata": {},
   "source": [
    "It looks better, less data is missing for the revenue !"
   ]
  },
  {
   "cell_type": "markdown",
   "metadata": {},
   "source": [
    "\n",
    "- Create a dataframe with no missing box office data"
   ]
  },
  {
   "cell_type": "code",
   "execution_count": 46,
   "metadata": {},
   "outputs": [
    {
     "data": {
      "text/html": [
       "<div>\n",
       "<style scoped>\n",
       "    .dataframe tbody tr th:only-of-type {\n",
       "        vertical-align: middle;\n",
       "    }\n",
       "\n",
       "    .dataframe tbody tr th {\n",
       "        vertical-align: top;\n",
       "    }\n",
       "\n",
       "    .dataframe thead th {\n",
       "        text-align: right;\n",
       "    }\n",
       "</style>\n",
       "<table border=\"1\" class=\"dataframe\">\n",
       "  <thead>\n",
       "    <tr style=\"text-align: right;\">\n",
       "      <th></th>\n",
       "      <th>id_wiki</th>\n",
       "      <th>id_freebase</th>\n",
       "      <th>name</th>\n",
       "      <th>year</th>\n",
       "      <th>runtime</th>\n",
       "      <th>lang</th>\n",
       "      <th>countries</th>\n",
       "      <th>genres</th>\n",
       "      <th>review</th>\n",
       "      <th>nbr_review</th>\n",
       "      <th>revenue</th>\n",
       "    </tr>\n",
       "  </thead>\n",
       "  <tbody>\n",
       "    <tr>\n",
       "      <th>6228</th>\n",
       "      <td>4415958</td>\n",
       "      <td>/m/0c13gc</td>\n",
       "      <td>Little Secrets</td>\n",
       "      <td>2001</td>\n",
       "      <td>96.0</td>\n",
       "      <td>[English Language]</td>\n",
       "      <td>[USA]</td>\n",
       "      <td>[Indie, Family Drama, Comedy-drama, Coming of ...</td>\n",
       "      <td>NaN</td>\n",
       "      <td>NaN</td>\n",
       "      <td>405792.0</td>\n",
       "    </tr>\n",
       "    <tr>\n",
       "      <th>4072</th>\n",
       "      <td>2755048</td>\n",
       "      <td>/m/080wgg</td>\n",
       "      <td>Royal Wedding</td>\n",
       "      <td>1951</td>\n",
       "      <td>93.0</td>\n",
       "      <td>[English Language]</td>\n",
       "      <td>[USA]</td>\n",
       "      <td>[Romantic comedy, Romance Film, Musical, Comedy]</td>\n",
       "      <td>NaN</td>\n",
       "      <td>NaN</td>\n",
       "      <td>2600000.0</td>\n",
       "    </tr>\n",
       "    <tr>\n",
       "      <th>2781</th>\n",
       "      <td>10336502</td>\n",
       "      <td>/m/02q8vkz</td>\n",
       "      <td>Bon Voyage!</td>\n",
       "      <td>1962</td>\n",
       "      <td>132.0</td>\n",
       "      <td>[English Language]</td>\n",
       "      <td>[USA]</td>\n",
       "      <td>[Family Film, Drama, Comedy]</td>\n",
       "      <td>NaN</td>\n",
       "      <td>NaN</td>\n",
       "      <td>9230769.0</td>\n",
       "    </tr>\n",
       "    <tr>\n",
       "      <th>605</th>\n",
       "      <td>171559</td>\n",
       "      <td>/m/0170yd</td>\n",
       "      <td>Affliction</td>\n",
       "      <td>1998</td>\n",
       "      <td>115.0</td>\n",
       "      <td>[English Language]</td>\n",
       "      <td>[USA]</td>\n",
       "      <td>[Crime Fiction, Drama, Indie]</td>\n",
       "      <td>NaN</td>\n",
       "      <td>NaN</td>\n",
       "      <td>6330054.0</td>\n",
       "    </tr>\n",
       "    <tr>\n",
       "      <th>2146</th>\n",
       "      <td>4273140</td>\n",
       "      <td>/m/0bth54</td>\n",
       "      <td>Avatar</td>\n",
       "      <td>2009</td>\n",
       "      <td>178.0</td>\n",
       "      <td>[English Language, Spanish Language]</td>\n",
       "      <td>[USA, United Kingdom]</td>\n",
       "      <td>[Thriller, Science Fiction, Adventure, Compute...</td>\n",
       "      <td>NaN</td>\n",
       "      <td>NaN</td>\n",
       "      <td>2782275172.0</td>\n",
       "    </tr>\n",
       "  </tbody>\n",
       "</table>\n",
       "</div>"
      ],
      "text/plain": [
       "       id_wiki id_freebase            name  year  runtime  \\\n",
       "6228   4415958   /m/0c13gc  Little Secrets  2001     96.0   \n",
       "4072   2755048   /m/080wgg   Royal Wedding  1951     93.0   \n",
       "2781  10336502  /m/02q8vkz     Bon Voyage!  1962    132.0   \n",
       "605     171559   /m/0170yd      Affliction  1998    115.0   \n",
       "2146   4273140   /m/0bth54          Avatar  2009    178.0   \n",
       "\n",
       "                                      lang              countries  \\\n",
       "6228                    [English Language]                  [USA]   \n",
       "4072                    [English Language]                  [USA]   \n",
       "2781                    [English Language]                  [USA]   \n",
       "605                     [English Language]                  [USA]   \n",
       "2146  [English Language, Spanish Language]  [USA, United Kingdom]   \n",
       "\n",
       "                                                 genres  review  nbr_review  \\\n",
       "6228  [Indie, Family Drama, Comedy-drama, Coming of ...     NaN         NaN   \n",
       "4072   [Romantic comedy, Romance Film, Musical, Comedy]     NaN         NaN   \n",
       "2781                       [Family Film, Drama, Comedy]     NaN         NaN   \n",
       "605                       [Crime Fiction, Drama, Indie]     NaN         NaN   \n",
       "2146  [Thriller, Science Fiction, Adventure, Compute...     NaN         NaN   \n",
       "\n",
       "           revenue  \n",
       "6228      405792.0  \n",
       "4072     2600000.0  \n",
       "2781     9230769.0  \n",
       "605      6330054.0  \n",
       "2146  2782275172.0  "
      ]
     },
     "metadata": {},
     "output_type": "display_data"
    },
    {
     "data": {
      "text/plain": [
       "(7285, 11)"
      ]
     },
     "metadata": {},
     "output_type": "display_data"
    },
    {
     "name": "stdout",
     "output_type": "stream",
     "text": [
      "<class 'pandas.core.frame.DataFrame'>\n",
      "RangeIndex: 7285 entries, 0 to 7284\n",
      "Data columns (total 11 columns):\n",
      " #   Column       Non-Null Count  Dtype  \n",
      "---  ------       --------------  -----  \n",
      " 0   id_wiki      7285 non-null   int64  \n",
      " 1   id_freebase  7285 non-null   object \n",
      " 2   name         7285 non-null   object \n",
      " 3   year         7285 non-null   int32  \n",
      " 4   runtime      7260 non-null   float64\n",
      " 5   lang         7285 non-null   object \n",
      " 6   countries    7285 non-null   object \n",
      " 7   genres       7285 non-null   object \n",
      " 8   review       2898 non-null   float64\n",
      " 9   nbr_review   2898 non-null   float64\n",
      " 10  revenue      7285 non-null   object \n",
      "dtypes: float64(3), int32(1), int64(1), object(6)\n",
      "memory usage: 597.7+ KB\n"
     ]
    },
    {
     "data": {
      "text/plain": [
       "None"
      ]
     },
     "metadata": {},
     "output_type": "display_data"
    }
   ],
   "source": [
    "movies2_clean = movies2.copy(deep=True)\n",
    "movies2_clean = movies2.dropna(subset=['revenue']).reset_index(drop=True)\n",
    "\n",
    "display(movies2_clean.sample(5))\n",
    "display(movies2_clean.shape)\n",
    "display(movies2_clean.info())\n"
   ]
  },
  {
   "cell_type": "code",
   "execution_count": 47,
   "metadata": {},
   "outputs": [
    {
     "data": {
      "text/html": [
       "<div>\n",
       "<style scoped>\n",
       "    .dataframe tbody tr th:only-of-type {\n",
       "        vertical-align: middle;\n",
       "    }\n",
       "\n",
       "    .dataframe tbody tr th {\n",
       "        vertical-align: top;\n",
       "    }\n",
       "\n",
       "    .dataframe thead th {\n",
       "        text-align: right;\n",
       "    }\n",
       "</style>\n",
       "<table border=\"1\" class=\"dataframe\">\n",
       "  <thead>\n",
       "    <tr style=\"text-align: right;\">\n",
       "      <th></th>\n",
       "      <th>id_wiki</th>\n",
       "      <th>id_freebase</th>\n",
       "      <th>name</th>\n",
       "      <th>year</th>\n",
       "      <th>runtime</th>\n",
       "      <th>lang</th>\n",
       "      <th>countries</th>\n",
       "      <th>genres</th>\n",
       "      <th>review</th>\n",
       "      <th>nbr_review</th>\n",
       "      <th>revenue</th>\n",
       "      <th>revenue_part</th>\n",
       "    </tr>\n",
       "  </thead>\n",
       "  <tbody>\n",
       "    <tr>\n",
       "      <th>4332</th>\n",
       "      <td>4619136</td>\n",
       "      <td>/m/0ccz20</td>\n",
       "      <td>Double Take</td>\n",
       "      <td>2001</td>\n",
       "      <td>91.0</td>\n",
       "      <td>[English Language]</td>\n",
       "      <td>[USA]</td>\n",
       "      <td>[Crime Fiction, Action/Adventure, Action, Comedy]</td>\n",
       "      <td>NaN</td>\n",
       "      <td>NaN</td>\n",
       "      <td>31603059.0</td>\n",
       "      <td>0.002231</td>\n",
       "    </tr>\n",
       "    <tr>\n",
       "      <th>939</th>\n",
       "      <td>2207640</td>\n",
       "      <td>/m/06v_2g</td>\n",
       "      <td>The Astronaut's Wife</td>\n",
       "      <td>1999</td>\n",
       "      <td>110.0</td>\n",
       "      <td>[English Language]</td>\n",
       "      <td>[USA]</td>\n",
       "      <td>[Thriller, Science Fiction, Horror, Indie, Sci...</td>\n",
       "      <td>NaN</td>\n",
       "      <td>NaN</td>\n",
       "      <td>19598588.0</td>\n",
       "      <td>0.001508</td>\n",
       "    </tr>\n",
       "    <tr>\n",
       "      <th>1385</th>\n",
       "      <td>1374201</td>\n",
       "      <td>/m/04xnsh</td>\n",
       "      <td>Saving Silverman</td>\n",
       "      <td>2001</td>\n",
       "      <td>93.0</td>\n",
       "      <td>[English Language, Thai Language]</td>\n",
       "      <td>[USA, Australia]</td>\n",
       "      <td>[Crime Fiction, Romantic comedy, Buddy film, S...</td>\n",
       "      <td>NaN</td>\n",
       "      <td>NaN</td>\n",
       "      <td>26086706.0</td>\n",
       "      <td>0.001842</td>\n",
       "    </tr>\n",
       "    <tr>\n",
       "      <th>5302</th>\n",
       "      <td>724258</td>\n",
       "      <td>/m/035w2k</td>\n",
       "      <td>Mission: Impossible</td>\n",
       "      <td>1996</td>\n",
       "      <td>110.0</td>\n",
       "      <td>[French Language, Czech Language, English Lang...</td>\n",
       "      <td>[USA]</td>\n",
       "      <td>[Thriller, Action/Adventure, Action, Spy]</td>\n",
       "      <td>7.097328</td>\n",
       "      <td>400677.0</td>\n",
       "      <td>457696367.0</td>\n",
       "      <td>0.047556</td>\n",
       "    </tr>\n",
       "    <tr>\n",
       "      <th>3334</th>\n",
       "      <td>7845053</td>\n",
       "      <td>/m/026f__m</td>\n",
       "      <td>Meet Dave</td>\n",
       "      <td>2008</td>\n",
       "      <td>90.0</td>\n",
       "      <td>[English Language]</td>\n",
       "      <td>[USA]</td>\n",
       "      <td>[Science Fiction, Comedy, Slapstick]</td>\n",
       "      <td>5.000967</td>\n",
       "      <td>39381.0</td>\n",
       "      <td>50822451.0</td>\n",
       "      <td>0.002562</td>\n",
       "    </tr>\n",
       "  </tbody>\n",
       "</table>\n",
       "</div>"
      ],
      "text/plain": [
       "      id_wiki id_freebase                  name  year  runtime  \\\n",
       "4332  4619136   /m/0ccz20           Double Take  2001     91.0   \n",
       "939   2207640   /m/06v_2g  The Astronaut's Wife  1999    110.0   \n",
       "1385  1374201   /m/04xnsh      Saving Silverman  2001     93.0   \n",
       "5302   724258   /m/035w2k   Mission: Impossible  1996    110.0   \n",
       "3334  7845053  /m/026f__m             Meet Dave  2008     90.0   \n",
       "\n",
       "                                                   lang         countries  \\\n",
       "4332                                 [English Language]             [USA]   \n",
       "939                                  [English Language]             [USA]   \n",
       "1385                  [English Language, Thai Language]  [USA, Australia]   \n",
       "5302  [French Language, Czech Language, English Lang...             [USA]   \n",
       "3334                                 [English Language]             [USA]   \n",
       "\n",
       "                                                 genres    review  nbr_review  \\\n",
       "4332  [Crime Fiction, Action/Adventure, Action, Comedy]       NaN         NaN   \n",
       "939   [Thriller, Science Fiction, Horror, Indie, Sci...       NaN         NaN   \n",
       "1385  [Crime Fiction, Romantic comedy, Buddy film, S...       NaN         NaN   \n",
       "5302          [Thriller, Action/Adventure, Action, Spy]  7.097328    400677.0   \n",
       "3334               [Science Fiction, Comedy, Slapstick]  5.000967     39381.0   \n",
       "\n",
       "          revenue revenue_part  \n",
       "4332   31603059.0     0.002231  \n",
       "939    19598588.0     0.001508  \n",
       "1385   26086706.0     0.001842  \n",
       "5302  457696367.0     0.047556  \n",
       "3334   50822451.0     0.002562  "
      ]
     },
     "metadata": {},
     "output_type": "display_data"
    },
    {
     "data": {
      "text/plain": [
       "(7285, 12)"
      ]
     },
     "metadata": {},
     "output_type": "display_data"
    },
    {
     "name": "stdout",
     "output_type": "stream",
     "text": [
      "<class 'pandas.core.frame.DataFrame'>\n",
      "RangeIndex: 7285 entries, 0 to 7284\n",
      "Data columns (total 12 columns):\n",
      " #   Column        Non-Null Count  Dtype  \n",
      "---  ------        --------------  -----  \n",
      " 0   id_wiki       7285 non-null   int64  \n",
      " 1   id_freebase   7285 non-null   object \n",
      " 2   name          7285 non-null   object \n",
      " 3   year          7285 non-null   int32  \n",
      " 4   runtime       7260 non-null   float64\n",
      " 5   lang          7285 non-null   object \n",
      " 6   countries     7285 non-null   object \n",
      " 7   genres        7285 non-null   object \n",
      " 8   review        2898 non-null   float64\n",
      " 9   nbr_review    2898 non-null   float64\n",
      " 10  revenue       7285 non-null   object \n",
      " 11  revenue_part  7285 non-null   object \n",
      "dtypes: float64(3), int32(1), int64(1), object(7)\n",
      "memory usage: 654.6+ KB\n"
     ]
    },
    {
     "data": {
      "text/plain": [
       "None"
      ]
     },
     "metadata": {},
     "output_type": "display_data"
    }
   ],
   "source": [
    "movies2_clean['revenue_part'] = movies2_clean.groupby('year')['revenue'].transform(lambda x: x / x.sum())\n",
    " \n",
    "\n",
    "display(movies2_clean.sample(5))\n",
    "display(movies2_clean.shape)\n",
    "display(movies2_clean.info())\n"
   ]
  },
  {
   "cell_type": "markdown",
   "metadata": {
    "tags": []
   },
   "source": [
    "# 4) Pipeline (naive approach)\n",
    "\n",
    "In this section, we will provide an example of how we could identify pivotal movies using a relatively simple approach. This part aims to offer insights into the process of recognizing pivotal movies within a dataset.\n",
    "\n"
   ]
  },
  {
   "cell_type": "markdown",
   "metadata": {},
   "source": [
    "### a) Analysing a trend: first approach\n",
    "\n",
    "To effectively identify the 'hype generator,' it's essential to define 'hype' precisely. We have opted to measure hype as the annual percentage change in the production of various movie genres. This approach accounts for the evolving ease of movie production and the resultant increase in the overall number of films produced each year. By focusing on yearly percentage changes, we can effectively neutralize the impact of the growing volume of movie production, ensuring our analysis remains robust and accurate.\n"
   ]
  },
  {
   "cell_type": "code",
   "execution_count": 48,
   "metadata": {},
   "outputs": [
    {
     "name": "stdout",
     "output_type": "stream",
     "text": [
      "Size subset (Teen) 29828\n"
     ]
    },
    {
     "data": {
      "image/png": "[encoded data removed]",
      "text/plain": [
       "<Figure size 1008x288 with 2 Axes>"
      ]
     },
     "metadata": {
      "needs_background": "light"
     },
     "output_type": "display_data"
    }
   ],
   "source": [
    "# Create a subset to compare to the whole dataset (here: Teen Movies)\n",
    "key = 'Teen'\n",
    "subset = create_subset(movies2, key)\n",
    "print(\"Size subset ({}) {}\".format(key, len(movies2)))\n",
    "\n",
    "# Plot release dates distribution\n",
    "fig, axs = plt.subplots(1, 2, figsize=(14,4))\n",
    "axs = axs.ravel()\n",
    "\n",
    "movies.year.hist(bins=movies2.year.nunique(), ax=axs[0], histtype='step')\n",
    "ax_settings(axs[0], xlabel='Year', ylabel='Nb of movies', title='All movies release year distribution')\n",
    "axs[0].set_xlim((1910,2010))\n",
    "\n",
    "subset.year.hist(bins=subset.year.nunique(), ax=axs[1], histtype='step')\n",
    "ax_settings(axs[1], xlabel='Year', ylabel='Nb of movies', title='Genre {} distribution'.format(key))\n",
    "axs[1].set_xlim((1910,2010))\n",
    "\n",
    "plt.show()"
   ]
  },
  {
   "cell_type": "markdown",
   "metadata": {},
   "source": [
    "This is an early version of the analysis. Here we simply plot the number of movies distribution, but we plan to use the fraction of (subset) movies distribution later for more robust results. However, this already gives us an idea of what we could expect from the data.\n",
    "\n",
    "We display two graphs above. The left plot is the distribution of movie releases over time. The right plot shows the evolution of number of movies releases over time, of the genre \"Teen movie\". We immediately notice several elements. First the shapes of the two curves are markedly different, this confirms us that we choose an interesting subset for analysis, since it differs from the baseline. Now by looking more closely, we see that the genre Teen emerged at a certain point in cinema, because (almost) no data exists before late 70's, and we have no record before late 50's. This is very indicating about the existence of a trend ! But we can extract more, we significantly see two bumps in the Teen plot centered around two different decades. Without going much further here, we can already assume that pivotal movies are hiding here..."
   ]
  },
  {
   "cell_type": "markdown",
   "metadata": {},
   "source": [
    "### b) Evolution of genre between 1990 and 2012"
   ]
  },
  {
   "cell_type": "markdown",
   "metadata": {},
   "source": [
    "After this initial example, let's delve deeper into the evolution of 15 genres (ranked in popularity for the considered time range, from 15th place to 30th place) across 30 years of cinema. In this analysis, we shift our focus from the raw number of films released to the percentage relative to the total number of films released each year. This perspective provides a more nuanced understanding of the genre distribution over the years.\n"
   ]
  },
  {
   "cell_type": "code",
   "execution_count": 49,
   "metadata": {},
   "outputs": [
    {
     "data": {
      "image/png": "[encoded data removed]",
      "text/plain": [
       "<Figure size 1296x576 with 1 Axes>"
      ]
     },
     "metadata": {
      "needs_background": "light"
     },
     "output_type": "display_data"
    }
   ],
   "source": [
    "plot_genres_percentages_per_year(movies2, 1970, 2000, 15,30,30)"
   ]
  },
  {
   "cell_type": "markdown",
   "metadata": {},
   "source": [
    "From the graph above we can for example identify two big varitions in genres 'Biography' in range 1990-1996 and 'Comedy-drama' in range 1978-1983.\n",
    "\n",
    "We will next focus on identifying the movie that ignited this surge in popularity. By examining films in the pertinent genres and identifying the highest-grossing one in the 5 year prior (based on the assumption that it takes 5 years to produce a movie), we aim to pinpoint the film that was instrumental in boosting the genre's appeal."
   ]
  },
  {
   "cell_type": "markdown",
   "metadata": {},
   "source": [
    "- Biography potential hype generator \n"
   ]
  },
  {
   "cell_type": "code",
   "execution_count": 50,
   "metadata": {},
   "outputs": [
    {
     "data": {
      "text/html": [
       "<div>\n",
       "<style scoped>\n",
       "    .dataframe tbody tr th:only-of-type {\n",
       "        vertical-align: middle;\n",
       "    }\n",
       "\n",
       "    .dataframe tbody tr th {\n",
       "        vertical-align: top;\n",
       "    }\n",
       "\n",
       "    .dataframe thead th {\n",
       "        text-align: right;\n",
       "    }\n",
       "</style>\n",
       "<table border=\"1\" class=\"dataframe\">\n",
       "  <thead>\n",
       "    <tr style=\"text-align: right;\">\n",
       "      <th></th>\n",
       "      <th>name</th>\n",
       "      <th>year</th>\n",
       "      <th>revenue</th>\n",
       "    </tr>\n",
       "  </thead>\n",
       "  <tbody>\n",
       "    <tr>\n",
       "      <th>23233</th>\n",
       "      <td>JFK</td>\n",
       "      <td>1991</td>\n",
       "      <td>205400000.0</td>\n",
       "    </tr>\n",
       "    <tr>\n",
       "      <th>17767</th>\n",
       "      <td>Born on the Fourth of July</td>\n",
       "      <td>1989</td>\n",
       "      <td>196672350.0</td>\n",
       "    </tr>\n",
       "    <tr>\n",
       "      <th>27763</th>\n",
       "      <td>The Untouchables</td>\n",
       "      <td>1987</td>\n",
       "      <td>76270454.0</td>\n",
       "    </tr>\n",
       "    <tr>\n",
       "      <th>24589</th>\n",
       "      <td>Empire of the Sun</td>\n",
       "      <td>1987</td>\n",
       "      <td>66240000.0</td>\n",
       "    </tr>\n",
       "  </tbody>\n",
       "</table>\n",
       "</div>"
      ],
      "text/plain": [
       "                             name  year      revenue\n",
       "23233                         JFK  1991  205400000.0\n",
       "17767  Born on the Fourth of July  1989  196672350.0\n",
       "27763            The Untouchables  1987   76270454.0\n",
       "24589           Empire of the Sun  1987   66240000.0"
      ]
     },
     "metadata": {},
     "output_type": "display_data"
    }
   ],
   "source": [
    "biography_film_movies = movies2[movies2['genres'].apply(lambda x: \"Biography\" in x)] # look for genre: biography film\n",
    "\n",
    "biography_films_1990_2000 = biography_film_movies[(biography_film_movies['year'] >= 1986)\n",
    "                                    & (biography_film_movies['year'] <= 1991)]\n",
    "\n",
    "highest_revenue_movie = biography_films_1990_2000[biography_films_1990_2000['revenue'].notna()].sort_values('revenue', ascending=False).head(4)\n",
    "\n",
    "display(highest_revenue_movie[[\"name\",\"year\",\"revenue\"]])"
   ]
  },
  {
   "cell_type": "markdown",
   "metadata": {},
   "source": [
    "- Comedy drama potential hype generator \n"
   ]
  },
  {
   "cell_type": "code",
   "execution_count": 51,
   "metadata": {},
   "outputs": [
    {
     "data": {
      "text/html": [
       "<div>\n",
       "<style scoped>\n",
       "    .dataframe tbody tr th:only-of-type {\n",
       "        vertical-align: middle;\n",
       "    }\n",
       "\n",
       "    .dataframe tbody tr th {\n",
       "        vertical-align: top;\n",
       "    }\n",
       "\n",
       "    .dataframe thead th {\n",
       "        text-align: right;\n",
       "    }\n",
       "</style>\n",
       "<table border=\"1\" class=\"dataframe\">\n",
       "  <thead>\n",
       "    <tr style=\"text-align: right;\">\n",
       "      <th></th>\n",
       "      <th>name</th>\n",
       "      <th>year</th>\n",
       "      <th>revenue</th>\n",
       "    </tr>\n",
       "  </thead>\n",
       "  <tbody>\n",
       "    <tr>\n",
       "      <th>2384</th>\n",
       "      <td>American Graffiti</td>\n",
       "      <td>1973</td>\n",
       "      <td>140000000.0</td>\n",
       "    </tr>\n",
       "    <tr>\n",
       "      <th>17224</th>\n",
       "      <td>One Flew Over the Cuckoo's Nest</td>\n",
       "      <td>1975</td>\n",
       "      <td>108981275.0</td>\n",
       "    </tr>\n",
       "    <tr>\n",
       "      <th>5816</th>\n",
       "      <td>Shampoo</td>\n",
       "      <td>1975</td>\n",
       "      <td>60000000.0</td>\n",
       "    </tr>\n",
       "    <tr>\n",
       "      <th>24916</th>\n",
       "      <td>Semi-Tough</td>\n",
       "      <td>1977</td>\n",
       "      <td>37187139.0</td>\n",
       "    </tr>\n",
       "  </tbody>\n",
       "</table>\n",
       "</div>"
      ],
      "text/plain": [
       "                                  name  year      revenue\n",
       "2384                 American Graffiti  1973  140000000.0\n",
       "17224  One Flew Over the Cuckoo's Nest  1975  108981275.0\n",
       "5816                           Shampoo  1975   60000000.0\n",
       "24916                       Semi-Tough  1977   37187139.0"
      ]
     },
     "metadata": {},
     "output_type": "display_data"
    }
   ],
   "source": [
    "comedy_drama_film_movies = movies2[movies2['genres'].apply(lambda x: \"Comedy-drama\" in x)] # look for genre: comedy_drama film\n",
    "\n",
    "comedy_drama_films_1990_2000 = comedy_drama_film_movies[(comedy_drama_film_movies['year'] >= 1973) & (comedy_drama_film_movies['year'] <= 1978)]\n",
    "\n",
    "highest_revenue_movie = comedy_drama_films_1990_2000[comedy_drama_films_1990_2000['revenue'].notna()].sort_values('revenue', ascending=False).head(4)\n",
    "\n",
    "display(highest_revenue_movie[[\"name\",\"year\",\"revenue\"]])"
   ]
  },
  {
   "cell_type": "markdown",
   "metadata": {},
   "source": [
    "In this approach, we identified potential hype generators by looking at films of the same genre that have been released before the trend and generated significant revenues. If we look only at the most revenue generated, the two pivotal movies would be 'JFK' for Biography and 'American Graffiti' for Comedy-drama. However, we see that other movies have a similar order of magnitude of revenue, which hints at the potential limit of this naive approach.\n"
   ]
  },
  {
   "cell_type": "markdown",
   "metadata": {},
   "source": [
    "### c) Identification of the trend by looking at the percentage change\n",
    "Now we want to automate the process recently done with the art movie in order to predict the hype generators:\n",
    "\n",
    "\n",
    "We will now identify the genre that experienced the highest percentage change in popularity between 1990 and 2013. A significant change in this percentage is indicative of a 'hype' in the genre, revealing shifts in audience and producers preferences and trends during this period.\n",
    "\n",
    "We now shift our focus to identifying movies that sparked a surge in popularity. Our approach involves examining films within relevant genres and determining the highest-grossing one in the 5 years prior (considering the assumption that movie production takes 5 years, as stated in the README). The chosen genre for popularity is crucial, as it can impact our analysis. Top genres are often too broad and mainstream, while those at the bottom tend to be too specialized and niche. By selecting this middle range, we aim to strike a balance, capturing genres that are neither overly generic nor excessively niche. In the following case we only take the top 15 to top 30 most "
   ]
  },
  {
   "cell_type": "code",
   "execution_count": 52,
   "metadata": {},
   "outputs": [
    {
     "name": "stdout",
     "output_type": "stream",
     "text": [
      "Highest change in percentage by genre between 1990 and  2013 (hype))\n",
      " index  year            genres  count  percentage  percentage_change\n",
      " 11269  2011            Action     90    5.747126           0.419290\n",
      " 11109  2010  Action/Adventure     58    2.552817           0.288349\n",
      " 11122  2010 Biographical film     20    0.880282           0.967430\n",
      "  8430  1996            Comedy    147    7.581227           0.272609\n",
      " 11403  2012       Comedy film     51    6.580645           2.220403\n",
      "  8452  1996          Disaster      8    0.412584           7.103146\n",
      "  8118  1994       Documentary     31    1.726058           0.718506\n",
      " 11311  2011             Drama    218   13.920817           0.245201\n",
      " 11320  2011           Fantasy     38    2.426564           0.378289\n",
      "  8667  1997             Indie    118    5.427783           0.547716\n",
      "  8509  1996             Music     10    0.515730           1.025786\n",
      " 11236  2010      Romance Film    104    4.577465           0.314026\n",
      "  8528  1996   Romantic comedy     37    1.908200           0.388039\n",
      "  8029  1993   Science Fiction     39    2.448211           1.109782\n",
      " 11452  2012          Thriller     69    8.903226           0.233845\n",
      "Hype generator by genre: \n",
      "Highest revenue movie in 'Action' genre between 2001 and 2007:\n",
      "Pirates of the Caribbean: At World's End\n",
      "Highest revenue movie in 'Action/Adventure' genre between 2000 and 2006:\n",
      "The Lord of the Rings: The Return of the King\n",
      "Highest revenue movie in 'Biographical film' genre between 2000 and 2006:\n",
      "A Beautiful Mind\n",
      "Highest revenue movie in 'Comedy' genre between 1986 and 1992:\n",
      "Ghost\n",
      "Highest revenue movie in 'Comedy film' genre between 2002 and 2008:\n",
      "Hairspray\n",
      "Highest revenue movie in 'Disaster' genre between 1986 and 1992:\n",
      "Backdraft\n",
      "Highest revenue movie in 'Documentary' genre between 1984 and 1990:\n",
      "Roger & Me\n",
      "Highest revenue movie in 'Drama' genre between 2001 and 2007:\n",
      "The Lord of the Rings: The Return of the King\n",
      "Highest revenue movie in 'Fantasy' genre between 2001 and 2007:\n",
      "The Lord of the Rings: The Return of the King\n",
      "Highest revenue movie in 'Indie' genre between 1987 and 1993:\n",
      "Teenage Mutant Ninja Turtles\n",
      "Highest revenue movie in 'Music' genre between 1986 and 1992:\n",
      "Aladdin\n",
      "Highest revenue movie in 'Romance Film' genre between 2000 and 2006:\n",
      "Star Wars Episode II: Attack of the Clones\n",
      "Highest revenue movie in 'Romantic comedy' genre between 1986 and 1992:\n",
      "Pretty Woman\n",
      "Highest revenue movie in 'Science Fiction' genre between 1983 and 1989:\n",
      "Back to the Future\n",
      "Highest revenue movie in 'Thriller' genre between 2002 and 2008:\n",
      "The Dark Knight\n"
     ]
    }
   ],
   "source": [
    "hype_generators(movies,1990,2013,15,30)\n"
   ]
  },
  {
   "cell_type": "markdown",
   "metadata": {},
   "source": [
    "This assessment leads to interesting results such as 'Fantasy' associated with *'The Lord of the Rings: The Return of the King'* or 'Science Fiction' and *'Back to the Future'*. However, some results are rising questions on this naive method. For instance, 'Romance Film' associated to *Star Wars Episode II: Attack of the Clones* demonstrates the limit of the actual naive method. In the future we aim to identify more clearly the principal genre of the movie."
   ]
  },
  {
   "cell_type": "markdown",
   "metadata": {},
   "source": [
    "<p align=\"center\">\n",
    "  <img src=\"img/StarWars.png\" width=70%>"
   ]
  },
  {
   "cell_type": "markdown",
   "metadata": {},
   "source": [
    "### d) Trope Originators\n",
    "\n",
    "Enclosed is a curated selection of seminal films, each marking the inaugural appearance of a particular trope. These films are esteemed as pivotal within the cinematic world, as they present audiences with the archetype of a character type for the very first time, setting the stage for countless others to follow it.\n",
    "(Disclaimer: it is from the uncomplete trope dataset, from the course given data). "
   ]
  },
  {
   "cell_type": "code",
   "execution_count": 53,
   "metadata": {},
   "outputs": [
    {
     "data": {
      "text/html": [
       "<div>\n",
       "<style scoped>\n",
       "    .dataframe tbody tr th:only-of-type {\n",
       "        vertical-align: middle;\n",
       "    }\n",
       "\n",
       "    .dataframe tbody tr th {\n",
       "        vertical-align: top;\n",
       "    }\n",
       "\n",
       "    .dataframe thead th {\n",
       "        text-align: right;\n",
       "    }\n",
       "</style>\n",
       "<table border=\"1\" class=\"dataframe\">\n",
       "  <thead>\n",
       "    <tr style=\"text-align: right;\">\n",
       "      <th></th>\n",
       "      <th>category</th>\n",
       "      <th>name</th>\n",
       "      <th>date</th>\n",
       "    </tr>\n",
       "  </thead>\n",
       "  <tbody>\n",
       "    <tr>\n",
       "      <th>3</th>\n",
       "      <td>absent_minded_professor</td>\n",
       "      <td>Them!</td>\n",
       "      <td>1954-06-16</td>\n",
       "    </tr>\n",
       "    <tr>\n",
       "      <th>6</th>\n",
       "      <td>adventurer_archaeologist</td>\n",
       "      <td>Indiana Jones and the Raiders of the Lost Ark</td>\n",
       "      <td>1981-06-12</td>\n",
       "    </tr>\n",
       "    <tr>\n",
       "      <th>14</th>\n",
       "      <td>arrogant_kungfu_guy</td>\n",
       "      <td>Rocky</td>\n",
       "      <td>1976-11-21</td>\n",
       "    </tr>\n",
       "    <tr>\n",
       "      <th>26</th>\n",
       "      <td>big_man_on_campus</td>\n",
       "      <td>Can't Hardly Wait</td>\n",
       "      <td>1998-06-12</td>\n",
       "    </tr>\n",
       "    <tr>\n",
       "      <th>28</th>\n",
       "      <td>bounty_hunter</td>\n",
       "      <td>The Outlaw Josey Wales</td>\n",
       "      <td>1976-06-30</td>\n",
       "    </tr>\n",
       "    <tr>\n",
       "      <th>45</th>\n",
       "      <td>brainless_beauty</td>\n",
       "      <td>Roxanne</td>\n",
       "      <td>1987-06-19</td>\n",
       "    </tr>\n",
       "    <tr>\n",
       "      <th>52</th>\n",
       "      <td>broken_bird</td>\n",
       "      <td>Alice in Wonderland</td>\n",
       "      <td>1976-12-10</td>\n",
       "    </tr>\n",
       "    <tr>\n",
       "      <th>58</th>\n",
       "      <td>bromantic_foil</td>\n",
       "      <td>Mallrats</td>\n",
       "      <td>1995-10-20</td>\n",
       "    </tr>\n",
       "    <tr>\n",
       "      <th>63</th>\n",
       "      <td>bruiser_with_a_soft_center</td>\n",
       "      <td>Casino Royale</td>\n",
       "      <td>1967-01-01</td>\n",
       "    </tr>\n",
       "    <tr>\n",
       "      <th>66</th>\n",
       "      <td>bully</td>\n",
       "      <td>A Christmas Story</td>\n",
       "      <td>1983-11-18</td>\n",
       "    </tr>\n",
       "    <tr>\n",
       "      <th>69</th>\n",
       "      <td>byronic_hero</td>\n",
       "      <td>Casino Royale</td>\n",
       "      <td>1967-01-01</td>\n",
       "    </tr>\n",
       "    <tr>\n",
       "      <th>87</th>\n",
       "      <td>casanova</td>\n",
       "      <td>Kids</td>\n",
       "      <td>1995-05-01</td>\n",
       "    </tr>\n",
       "    <tr>\n",
       "      <th>96</th>\n",
       "      <td>chanteuse</td>\n",
       "      <td>Some Like It Hot</td>\n",
       "      <td>1959-03-29</td>\n",
       "    </tr>\n",
       "    <tr>\n",
       "      <th>99</th>\n",
       "      <td>charmer</td>\n",
       "      <td>Casino Royale</td>\n",
       "      <td>1967-01-01</td>\n",
       "    </tr>\n",
       "    <tr>\n",
       "      <th>108</th>\n",
       "      <td>child_prodigy</td>\n",
       "      <td>Real Genius</td>\n",
       "      <td>1985-08-07</td>\n",
       "    </tr>\n",
       "    <tr>\n",
       "      <th>109</th>\n",
       "      <td>classy_cat_burglar</td>\n",
       "      <td>To Catch a Thief</td>\n",
       "      <td>1955-08-03</td>\n",
       "    </tr>\n",
       "    <tr>\n",
       "      <th>113</th>\n",
       "      <td>consummate_professional</td>\n",
       "      <td>Casino</td>\n",
       "      <td>1995-11-14</td>\n",
       "    </tr>\n",
       "    <tr>\n",
       "      <th>125</th>\n",
       "      <td>corrupt_corporate_executive</td>\n",
       "      <td>It's a Wonderful Life</td>\n",
       "      <td>1946-12-20</td>\n",
       "    </tr>\n",
       "    <tr>\n",
       "      <th>140</th>\n",
       "      <td>coward</td>\n",
       "      <td>Aliens</td>\n",
       "      <td>1986-07-18</td>\n",
       "    </tr>\n",
       "    <tr>\n",
       "      <th>145</th>\n",
       "      <td>crazy_jealous_guy</td>\n",
       "      <td>Wuthering Heights</td>\n",
       "      <td>1939-01-01</td>\n",
       "    </tr>\n",
       "    <tr>\n",
       "      <th>168</th>\n",
       "      <td>crazy_survivalist</td>\n",
       "      <td>War of the Worlds</td>\n",
       "      <td>2005-06-13</td>\n",
       "    </tr>\n",
       "    <tr>\n",
       "      <th>171</th>\n",
       "      <td>cultured_badass</td>\n",
       "      <td>Casino Royale</td>\n",
       "      <td>1967-01-01</td>\n",
       "    </tr>\n",
       "    <tr>\n",
       "      <th>180</th>\n",
       "      <td>dean_bitterman</td>\n",
       "      <td>The Breakfast Club</td>\n",
       "      <td>1985-02-07</td>\n",
       "    </tr>\n",
       "    <tr>\n",
       "      <th>185</th>\n",
       "      <td>dirty_cop</td>\n",
       "      <td>Internal Affairs</td>\n",
       "      <td>1990-01-12</td>\n",
       "    </tr>\n",
       "    <tr>\n",
       "      <th>194</th>\n",
       "      <td>ditz</td>\n",
       "      <td>Arthur</td>\n",
       "      <td>1981-07-17</td>\n",
       "    </tr>\n",
       "    <tr>\n",
       "      <th>199</th>\n",
       "      <td>doormat</td>\n",
       "      <td>Back to the Future</td>\n",
       "      <td>1985-07-03</td>\n",
       "    </tr>\n",
       "    <tr>\n",
       "      <th>205</th>\n",
       "      <td>drill_sargeant_nasty</td>\n",
       "      <td>Stripes</td>\n",
       "      <td>1981-06-26</td>\n",
       "    </tr>\n",
       "    <tr>\n",
       "      <th>219</th>\n",
       "      <td>dumb_blonde</td>\n",
       "      <td>Singin' in the Rain</td>\n",
       "      <td>1952-01-01</td>\n",
       "    </tr>\n",
       "    <tr>\n",
       "      <th>220</th>\n",
       "      <td>dumb_muscle</td>\n",
       "      <td>It's a Mad, Mad, Mad, Mad World</td>\n",
       "      <td>1963-11-07</td>\n",
       "    </tr>\n",
       "    <tr>\n",
       "      <th>227</th>\n",
       "      <td>eccentric_mentor</td>\n",
       "      <td>Star Wars Episode V: The Empire Strikes Back</td>\n",
       "      <td>1980-05-21</td>\n",
       "    </tr>\n",
       "    <tr>\n",
       "      <th>236</th>\n",
       "      <td>egomaniac_hunter</td>\n",
       "      <td>Predator</td>\n",
       "      <td>1987-06-12</td>\n",
       "    </tr>\n",
       "    <tr>\n",
       "      <th>245</th>\n",
       "      <td>evil_prince</td>\n",
       "      <td>Sheena</td>\n",
       "      <td>1984-08-17</td>\n",
       "    </tr>\n",
       "    <tr>\n",
       "      <th>252</th>\n",
       "      <td>fastest_gun_in_the_west</td>\n",
       "      <td>3:10 to Yuma</td>\n",
       "      <td>1957-08-07</td>\n",
       "    </tr>\n",
       "    <tr>\n",
       "      <th>260</th>\n",
       "      <td>father_to_his_men</td>\n",
       "      <td>Apocalypse Now</td>\n",
       "      <td>1979-05-10</td>\n",
       "    </tr>\n",
       "    <tr>\n",
       "      <th>276</th>\n",
       "      <td>final_girl</td>\n",
       "      <td>Halloween</td>\n",
       "      <td>1978-10-25</td>\n",
       "    </tr>\n",
       "    <tr>\n",
       "      <th>284</th>\n",
       "      <td>gadgeteer_genius</td>\n",
       "      <td>Star Wars Episode I: The Phantom Menace</td>\n",
       "      <td>1999-05-19</td>\n",
       "    </tr>\n",
       "    <tr>\n",
       "      <th>287</th>\n",
       "      <td>gentleman_thief</td>\n",
       "      <td>To Catch a Thief</td>\n",
       "      <td>1955-08-03</td>\n",
       "    </tr>\n",
       "    <tr>\n",
       "      <th>298</th>\n",
       "      <td>granola_person</td>\n",
       "      <td>Hocus Pocus</td>\n",
       "      <td>1993-07-16</td>\n",
       "    </tr>\n",
       "    <tr>\n",
       "      <th>308</th>\n",
       "      <td>grumpy_old_man</td>\n",
       "      <td>Caddyshack</td>\n",
       "      <td>1980-07-25</td>\n",
       "    </tr>\n",
       "    <tr>\n",
       "      <th>311</th>\n",
       "      <td>hardboiled_detective</td>\n",
       "      <td>The Enforcer</td>\n",
       "      <td>1951-01-25</td>\n",
       "    </tr>\n",
       "    <tr>\n",
       "      <th>321</th>\n",
       "      <td>heartbroken_badass</td>\n",
       "      <td>The Outlaw Josey Wales</td>\n",
       "      <td>1976-06-30</td>\n",
       "    </tr>\n",
       "    <tr>\n",
       "      <th>328</th>\n",
       "      <td>henpecked_husband</td>\n",
       "      <td>What's Up, Doc?</td>\n",
       "      <td>1972-03-09</td>\n",
       "    </tr>\n",
       "    <tr>\n",
       "      <th>331</th>\n",
       "      <td>hitman_with_a_heart</td>\n",
       "      <td>Ghost Dog: The Way of the Samurai</td>\n",
       "      <td>1999-05-18</td>\n",
       "    </tr>\n",
       "    <tr>\n",
       "      <th>341</th>\n",
       "      <td>jerk_jock</td>\n",
       "      <td>The Karate Kid</td>\n",
       "      <td>1984-06-22</td>\n",
       "    </tr>\n",
       "    <tr>\n",
       "      <th>350</th>\n",
       "      <td>junkie_prophet</td>\n",
       "      <td>Minority Report</td>\n",
       "      <td>2002-06-17</td>\n",
       "    </tr>\n",
       "    <tr>\n",
       "      <th>353</th>\n",
       "      <td>klutz</td>\n",
       "      <td>Little Shop of Horrors</td>\n",
       "      <td>1986-12-19</td>\n",
       "    </tr>\n",
       "    <tr>\n",
       "      <th>359</th>\n",
       "      <td>loser_protagonist</td>\n",
       "      <td>High Fidelity</td>\n",
       "      <td>2000-03-17</td>\n",
       "    </tr>\n",
       "    <tr>\n",
       "      <th>363</th>\n",
       "      <td>loveable_rogue</td>\n",
       "      <td>Casablanca</td>\n",
       "      <td>1942-11-26</td>\n",
       "    </tr>\n",
       "    <tr>\n",
       "      <th>371</th>\n",
       "      <td>master_swordsman</td>\n",
       "      <td>Star Wars Episode V: The Empire Strikes Back</td>\n",
       "      <td>1980-05-21</td>\n",
       "    </tr>\n",
       "    <tr>\n",
       "      <th>385</th>\n",
       "      <td>morally_bankrupt_banker</td>\n",
       "      <td>It's a Wonderful Life</td>\n",
       "      <td>1946-12-20</td>\n",
       "    </tr>\n",
       "    <tr>\n",
       "      <th>387</th>\n",
       "      <td>officer_and_a_gentleman</td>\n",
       "      <td>Glory</td>\n",
       "      <td>1989-01-01</td>\n",
       "    </tr>\n",
       "    <tr>\n",
       "      <th>393</th>\n",
       "      <td>ophelia</td>\n",
       "      <td>Scarface</td>\n",
       "      <td>1983-12-01</td>\n",
       "    </tr>\n",
       "    <tr>\n",
       "      <th>395</th>\n",
       "      <td>playful_hacker</td>\n",
       "      <td>Tron</td>\n",
       "      <td>1982-07-09</td>\n",
       "    </tr>\n",
       "    <tr>\n",
       "      <th>404</th>\n",
       "      <td>prima_donna</td>\n",
       "      <td>All About Eve</td>\n",
       "      <td>1950-01-01</td>\n",
       "    </tr>\n",
       "    <tr>\n",
       "      <th>421</th>\n",
       "      <td>psycho_for_hire</td>\n",
       "      <td>Shane</td>\n",
       "      <td>1953-04-23</td>\n",
       "    </tr>\n",
       "    <tr>\n",
       "      <th>425</th>\n",
       "      <td>pupil_turned_to_evil</td>\n",
       "      <td>The Hunted</td>\n",
       "      <td>1995-02-24</td>\n",
       "    </tr>\n",
       "    <tr>\n",
       "      <th>429</th>\n",
       "      <td>retired_outlaw</td>\n",
       "      <td>Butch Cassidy and the Sundance Kid</td>\n",
       "      <td>1969-09-23</td>\n",
       "    </tr>\n",
       "    <tr>\n",
       "      <th>437</th>\n",
       "      <td>revenge</td>\n",
       "      <td>Once Upon a Time in the West</td>\n",
       "      <td>1968-12-21</td>\n",
       "    </tr>\n",
       "    <tr>\n",
       "      <th>443</th>\n",
       "      <td>romantic_runnerup</td>\n",
       "      <td>Reality Bites</td>\n",
       "      <td>1994-02-18</td>\n",
       "    </tr>\n",
       "    <tr>\n",
       "      <th>445</th>\n",
       "      <td>self_made_man</td>\n",
       "      <td>The Philadelphia Story</td>\n",
       "      <td>1940-12-23</td>\n",
       "    </tr>\n",
       "    <tr>\n",
       "      <th>456</th>\n",
       "      <td>slacker</td>\n",
       "      <td>Stripes</td>\n",
       "      <td>1981-06-26</td>\n",
       "    </tr>\n",
       "    <tr>\n",
       "      <th>462</th>\n",
       "      <td>stoner</td>\n",
       "      <td>Fast Times at Ridgemont High</td>\n",
       "      <td>1982-08-13</td>\n",
       "    </tr>\n",
       "    <tr>\n",
       "      <th>475</th>\n",
       "      <td>storyteller</td>\n",
       "      <td>Peter Pan</td>\n",
       "      <td>1953-02-05</td>\n",
       "    </tr>\n",
       "    <tr>\n",
       "      <th>481</th>\n",
       "      <td>stupid_crooks</td>\n",
       "      <td>Pulp Fiction</td>\n",
       "      <td>1994-05-01</td>\n",
       "    </tr>\n",
       "    <tr>\n",
       "      <th>490</th>\n",
       "      <td>surfer_dude</td>\n",
       "      <td>Apocalypse Now</td>\n",
       "      <td>1979-05-10</td>\n",
       "    </tr>\n",
       "    <tr>\n",
       "      <th>491</th>\n",
       "      <td>the_chief</td>\n",
       "      <td>The Pink Panther</td>\n",
       "      <td>1963-12-19</td>\n",
       "    </tr>\n",
       "    <tr>\n",
       "      <th>495</th>\n",
       "      <td>the_editor</td>\n",
       "      <td>All the President's Men</td>\n",
       "      <td>1976-04-04</td>\n",
       "    </tr>\n",
       "    <tr>\n",
       "      <th>501</th>\n",
       "      <td>tranquil_fury</td>\n",
       "      <td>Straw Dogs</td>\n",
       "      <td>1971-11-03</td>\n",
       "    </tr>\n",
       "    <tr>\n",
       "      <th>505</th>\n",
       "      <td>trickster</td>\n",
       "      <td>Star Wars Episode V: The Empire Strikes Back</td>\n",
       "      <td>1980-05-21</td>\n",
       "    </tr>\n",
       "    <tr>\n",
       "      <th>510</th>\n",
       "      <td>valley_girl</td>\n",
       "      <td>Valley Girl</td>\n",
       "      <td>1983-04-29</td>\n",
       "    </tr>\n",
       "    <tr>\n",
       "      <th>521</th>\n",
       "      <td>warrior_poet</td>\n",
       "      <td>Apocalypse Now</td>\n",
       "      <td>1979-05-10</td>\n",
       "    </tr>\n",
       "    <tr>\n",
       "      <th>531</th>\n",
       "      <td>young_gun</td>\n",
       "      <td>Silverado</td>\n",
       "      <td>1985-07-10</td>\n",
       "    </tr>\n",
       "  </tbody>\n",
       "</table>\n",
       "</div>"
      ],
      "text/plain": [
       "                        category  \\\n",
       "3        absent_minded_professor   \n",
       "6       adventurer_archaeologist   \n",
       "14           arrogant_kungfu_guy   \n",
       "26             big_man_on_campus   \n",
       "28                 bounty_hunter   \n",
       "45              brainless_beauty   \n",
       "52                   broken_bird   \n",
       "58                bromantic_foil   \n",
       "63    bruiser_with_a_soft_center   \n",
       "66                         bully   \n",
       "69                  byronic_hero   \n",
       "87                      casanova   \n",
       "96                     chanteuse   \n",
       "99                       charmer   \n",
       "108                child_prodigy   \n",
       "109           classy_cat_burglar   \n",
       "113      consummate_professional   \n",
       "125  corrupt_corporate_executive   \n",
       "140                       coward   \n",
       "145            crazy_jealous_guy   \n",
       "168            crazy_survivalist   \n",
       "171              cultured_badass   \n",
       "180               dean_bitterman   \n",
       "185                    dirty_cop   \n",
       "194                         ditz   \n",
       "199                      doormat   \n",
       "205         drill_sargeant_nasty   \n",
       "219                  dumb_blonde   \n",
       "220                  dumb_muscle   \n",
       "227             eccentric_mentor   \n",
       "236             egomaniac_hunter   \n",
       "245                  evil_prince   \n",
       "252      fastest_gun_in_the_west   \n",
       "260            father_to_his_men   \n",
       "276                   final_girl   \n",
       "284             gadgeteer_genius   \n",
       "287              gentleman_thief   \n",
       "298               granola_person   \n",
       "308               grumpy_old_man   \n",
       "311         hardboiled_detective   \n",
       "321           heartbroken_badass   \n",
       "328            henpecked_husband   \n",
       "331          hitman_with_a_heart   \n",
       "341                    jerk_jock   \n",
       "350               junkie_prophet   \n",
       "353                        klutz   \n",
       "359            loser_protagonist   \n",
       "363               loveable_rogue   \n",
       "371             master_swordsman   \n",
       "385      morally_bankrupt_banker   \n",
       "387      officer_and_a_gentleman   \n",
       "393                      ophelia   \n",
       "395               playful_hacker   \n",
       "404                  prima_donna   \n",
       "421              psycho_for_hire   \n",
       "425         pupil_turned_to_evil   \n",
       "429               retired_outlaw   \n",
       "437                      revenge   \n",
       "443            romantic_runnerup   \n",
       "445                self_made_man   \n",
       "456                      slacker   \n",
       "462                       stoner   \n",
       "475                  storyteller   \n",
       "481                stupid_crooks   \n",
       "490                  surfer_dude   \n",
       "491                    the_chief   \n",
       "495                   the_editor   \n",
       "501                tranquil_fury   \n",
       "505                    trickster   \n",
       "510                  valley_girl   \n",
       "521                 warrior_poet   \n",
       "531                    young_gun   \n",
       "\n",
       "                                              name       date  \n",
       "3                                            Them! 1954-06-16  \n",
       "6    Indiana Jones and the Raiders of the Lost Ark 1981-06-12  \n",
       "14                                           Rocky 1976-11-21  \n",
       "26                               Can't Hardly Wait 1998-06-12  \n",
       "28                          The Outlaw Josey Wales 1976-06-30  \n",
       "45                                         Roxanne 1987-06-19  \n",
       "52                             Alice in Wonderland 1976-12-10  \n",
       "58                                        Mallrats 1995-10-20  \n",
       "63                                   Casino Royale 1967-01-01  \n",
       "66                               A Christmas Story 1983-11-18  \n",
       "69                                   Casino Royale 1967-01-01  \n",
       "87                                            Kids 1995-05-01  \n",
       "96                                Some Like It Hot 1959-03-29  \n",
       "99                                   Casino Royale 1967-01-01  \n",
       "108                                    Real Genius 1985-08-07  \n",
       "109                               To Catch a Thief 1955-08-03  \n",
       "113                                         Casino 1995-11-14  \n",
       "125                          It's a Wonderful Life 1946-12-20  \n",
       "140                                         Aliens 1986-07-18  \n",
       "145                              Wuthering Heights 1939-01-01  \n",
       "168                              War of the Worlds 2005-06-13  \n",
       "171                                  Casino Royale 1967-01-01  \n",
       "180                             The Breakfast Club 1985-02-07  \n",
       "185                               Internal Affairs 1990-01-12  \n",
       "194                                         Arthur 1981-07-17  \n",
       "199                             Back to the Future 1985-07-03  \n",
       "205                                        Stripes 1981-06-26  \n",
       "219                            Singin' in the Rain 1952-01-01  \n",
       "220                It's a Mad, Mad, Mad, Mad World 1963-11-07  \n",
       "227   Star Wars Episode V: The Empire Strikes Back 1980-05-21  \n",
       "236                                       Predator 1987-06-12  \n",
       "245                                         Sheena 1984-08-17  \n",
       "252                                   3:10 to Yuma 1957-08-07  \n",
       "260                                 Apocalypse Now 1979-05-10  \n",
       "276                                      Halloween 1978-10-25  \n",
       "284        Star Wars Episode I: The Phantom Menace 1999-05-19  \n",
       "287                               To Catch a Thief 1955-08-03  \n",
       "298                                    Hocus Pocus 1993-07-16  \n",
       "308                                     Caddyshack 1980-07-25  \n",
       "311                                   The Enforcer 1951-01-25  \n",
       "321                         The Outlaw Josey Wales 1976-06-30  \n",
       "328                                What's Up, Doc? 1972-03-09  \n",
       "331              Ghost Dog: The Way of the Samurai 1999-05-18  \n",
       "341                                 The Karate Kid 1984-06-22  \n",
       "350                                Minority Report 2002-06-17  \n",
       "353                         Little Shop of Horrors 1986-12-19  \n",
       "359                                  High Fidelity 2000-03-17  \n",
       "363                                     Casablanca 1942-11-26  \n",
       "371   Star Wars Episode V: The Empire Strikes Back 1980-05-21  \n",
       "385                          It's a Wonderful Life 1946-12-20  \n",
       "387                                          Glory 1989-01-01  \n",
       "393                                       Scarface 1983-12-01  \n",
       "395                                           Tron 1982-07-09  \n",
       "404                                  All About Eve 1950-01-01  \n",
       "421                                          Shane 1953-04-23  \n",
       "425                                     The Hunted 1995-02-24  \n",
       "429             Butch Cassidy and the Sundance Kid 1969-09-23  \n",
       "437                   Once Upon a Time in the West 1968-12-21  \n",
       "443                                  Reality Bites 1994-02-18  \n",
       "445                         The Philadelphia Story 1940-12-23  \n",
       "456                                        Stripes 1981-06-26  \n",
       "462                   Fast Times at Ridgemont High 1982-08-13  \n",
       "475                                      Peter Pan 1953-02-05  \n",
       "481                                   Pulp Fiction 1994-05-01  \n",
       "490                                 Apocalypse Now 1979-05-10  \n",
       "491                               The Pink Panther 1963-12-19  \n",
       "495                        All the President's Men 1976-04-04  \n",
       "501                                     Straw Dogs 1971-11-03  \n",
       "505   Star Wars Episode V: The Empire Strikes Back 1980-05-21  \n",
       "510                                    Valley Girl 1983-04-29  \n",
       "521                                 Apocalypse Now 1979-05-10  \n",
       "531                                      Silverado 1985-07-10  "
      ]
     },
     "metadata": {},
     "output_type": "display_data"
    }
   ],
   "source": [
    "summaries, characters, tvtropes, movies_initial_subset = get_initial_data(MOVIES_FOLDER)\n",
    "trope_originators(tvtropes, movies_initial_subset)"
   ]
  }
 ],
 "metadata": {
  "kernelspec": {
   "display_name": "Python 3 (ipykernel)",
   "language": "python",
   "name": "python3"
  },
  "language_info": {
   "codemirror_mode": {
    "name": "ipython",
    "version": 3
   },
   "file_extension": ".py",
   "mimetype": "text/x-python",
   "name": "python",
   "nbconvert_exporter": "python",
   "pygments_lexer": "ipython3",
   "version": "3.9.12"
  }
 },
 "nbformat": 4,
 "nbformat_minor": 4
}
