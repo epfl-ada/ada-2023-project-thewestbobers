{
 "cells": [
  {
   "cell_type": "markdown",
   "metadata": {},
   "source": [
    "# Milestone P2"
   ]
  },
  {
   "cell_type": "markdown",
   "metadata": {},
   "source": [
    "[Milestone P2 briefing](https://epfl-ada.github.io/teaching/fall2023/cs401/projects/#p2-project-proposal-and-initial-analyses)\n",
    "# Milestone Objectives\n",
    "\n",
    "The aims of this milestone are to enhance our familiarity with the dataset to achieve our ultimate goal of identifying pivotal movies. To accomplish this, we will follow a structured approach:\n",
    "\n",
    "- **Data Exploration** : Interact with the dataset to gain insights and explore potential avenues for analyzing movies and identifying trends.\n",
    "\n",
    "- **Data Cleaning** : Clean the dataset to retain only movies that possess the relevant features necessary for our analysis. This step ensures that we work with a refined and focused dataset.\n",
    "\n",
    "- **Dataset Augmentation** : Enhance the dataset by incorporating additional features, as outlined in the ReadMe. Notably, we will include movie ratings, which are important for characterizing the popularity of movies.\n",
    "\n",
    "- **Preliminary Analysis** : Conduct a concise and initial analysis to identify pivotal movies. This analysis will provide valuable insights into the significance of certain movies within the dataset.\n",
    "\n",
    "\n",
    "\n",
    "\n"
   ]
  },
  {
   "cell_type": "markdown",
   "metadata": {},
   "source": [
    "## Configuration"
   ]
  },
  {
   "cell_type": "code",
   "execution_count": 1,
   "metadata": {},
   "outputs": [],
   "source": [
    "import pandas as pd\n",
    "import numpy as np\n",
    "import matplotlib.pyplot as plt\n",
    "import seaborn as sns\n",
    "import ast\n",
    "\n",
    "from implementations import *"
   ]
  },
  {
   "cell_type": "code",
   "execution_count": 2,
   "metadata": {},
   "outputs": [],
   "source": [
    "# Data Path\n",
    "DATA_PATH = '../data/'\n",
    "MOVIES_FOLDER = DATA_PATH+'MovieSummaries/'\n",
    "MOVIES_DATASET = MOVIES_FOLDER+\"movie.metadata.tsv\"\n",
    "\n",
    "# Load Data\n",
    "df = pd.read_csv(MOVIES_DATASET, sep='\\t', names=['id_wiki','id_freebase','name','date',\n",
    "                                                  'box_office','runtime','lang','countries','genres'])"
   ]
  },
  {
   "cell_type": "markdown",
   "metadata": {},
   "source": [
    "# 1) What's in the data?\n",
    "\n",
    "First, let's take a global view of what we have in the CMU movie dataset. We'll explore the dataset's overall structure, key variables, and initial characteristics to better understand the scope and content of the data before delving into specific analyses and preprocessing steps."
   ]
  },
  {
   "cell_type": "markdown",
   "metadata": {},
   "source": [
    "\n"
   ]
  },
  {
   "cell_type": "markdown",
   "metadata": {},
   "source": [
    "### a) Let's analyse how many movie the dataset contain"
   ]
  },
  {
   "cell_type": "code",
   "execution_count": 3,
   "metadata": {},
   "outputs": [
    {
     "name": "stdout",
     "output_type": "stream",
     "text": [
      "We have a total number of 81741 movies in the dataset \n"
     ]
    }
   ],
   "source": [
    "print(\"We have a total number of {} movies in the dataset \".format(len(df)))\n"
   ]
  },
  {
   "cell_type": "markdown",
   "metadata": {},
   "source": [
    "### b) But what features do we have ?\n"
   ]
  },
  {
   "cell_type": "code",
   "execution_count": 4,
   "metadata": {},
   "outputs": [
    {
     "name": "stdout",
     "output_type": "stream",
     "text": [
      "Index(['id_wiki', 'id_freebase', 'name', 'date', 'box_office', 'runtime',\n",
      "       'lang', 'countries', 'genres'],\n",
      "      dtype='object')\n"
     ]
    }
   ],
   "source": [
    "print(df.columns)"
   ]
  },
  {
   "cell_type": "markdown",
   "metadata": {},
   "source": [
    "- **id_wiki:** This is a unique identifier associated with each movie on Wikipedia.\n",
    "\n",
    "- **id_freebase:** This is a unique identifier associated with each movie on Freebase. This features provide no usefull information as database from Freebase were merged with Wikipedia in 2014. \n",
    "\n",
    "- **name:** Title of the movie.\n",
    "\n",
    "- **date:** Date of release of the movie. \n",
    "\n",
    "- **box_office:** Contains the box office revenue in dollars.\n",
    "\n",
    "- **runtime:** Duration if the film in minutes.\n",
    "\n",
    "- **lang:**  This column indicates the languages used in the VO movie.\n",
    "\n",
    "- **countries:** This column is associated with country of the production of the movie.\n",
    "\n",
    "- **genres:** Genres associated with the film."
   ]
  },
  {
   "cell_type": "markdown",
   "metadata": {},
   "source": [
    "Let's see an example with our favorite movie saga: *Twilight*. \n",
    "\n",
    "But where are our precious movie ? As the dataframe contains 80,000 movies we need to find which one contain the word Twilight in the title name"
   ]
  },
  {
   "cell_type": "code",
   "execution_count": 5,
   "metadata": {},
   "outputs": [
    {
     "data": {
      "text/plain": [
       "' Movie title that contains Twilight \\n'"
      ]
     },
     "metadata": {},
     "output_type": "display_data"
    },
    {
     "data": {
      "text/plain": [
       "2673                                     Women of Twilight\n",
       "3241                              Twilight's Last Gleaming\n",
       "7447                           Twilight of the Dark Master\n",
       "9863                                      Twilight Dancers\n",
       "9912             The Twilight Saga: Breaking Dawn - Part 1\n",
       "13863    Memories of Berlin: The Twilight of Weimar Cul...\n",
       "14223                                             Twilight\n",
       "18376                                       Tokyo Twilight\n",
       "19856                             Twilight Zone: The Movie\n",
       "27507                              The Kingdom of Twilight\n",
       "33617                          Twilight of the Cockroaches\n",
       "33659                                             Twilight\n",
       "35389                                     Twilight Theater\n",
       "41159                                    Twilight of Honor\n",
       "41604                                 The Twilight Samurai\n",
       "42224                              Sir Galahad of Twilight\n",
       "42881                                 Twilight of the Gods\n",
       "53101                                      Before Twilight\n",
       "55482                                      In the Twilight\n",
       "57375                           Twilight of the Ice Nymphs\n",
       "58739                                      Bloody Twilight\n",
       "59864                                Twilight for the Gods\n",
       "62372              Dragonlance: Dragons of Autumn Twilight\n",
       "69180                                       Twilight Train\n",
       "70683                              Twilight in the Sierras\n",
       "74552                                           Twilight Q\n",
       "74914                                Twilight: Los Angeles\n",
       "79563                                   Dubrovnik Twilight\n",
       "80373                                   Alias Mr. Twilight\n",
       "Name: name, dtype: object"
      ]
     },
     "metadata": {},
     "output_type": "display_data"
    }
   ],
   "source": [
    "\n",
    "result = df[df['name'].str.contains('twilight', case=False, na=False)]\n",
    "display(' Movie title that contains Twilight \\n', result['name'] )"
   ]
  },
  {
   "cell_type": "code",
   "execution_count": 6,
   "metadata": {},
   "outputs": [
    {
     "name": "stdout",
     "output_type": "stream",
     "text": [
      "We have a total of 29 movie that contain Twilight in their title\n"
     ]
    }
   ],
   "source": [
    "print( 'We have a total of {} movie that contain Twilight in their title'.format(len(result)))"
   ]
  },
  {
   "cell_type": "markdown",
   "metadata": {},
   "source": [
    "That's more than we expected ! Anyway, I see my favorite one *The Twilight Saga: Breaking Dawn - Part 1*. Let's analyse the feature of this movie.\n",
    "\n"
   ]
  },
  {
   "cell_type": "code",
   "execution_count": 7,
   "metadata": {},
   "outputs": [
    {
     "name": "stdout",
     "output_type": "stream",
     "text": [
      "Released date: 2011-11-16 \n",
      "\n",
      "Genres: {\"/m/07s9rl0\": \"Drama\", \"/m/01hmnh\": \"Fantasy\", \"/m/03k9fj\": \"Adventure\", \"/m/02b5_l\": \"Teen\", \"/m/03rzvv\": \"Romantic fantasy\"} \n",
      "\n",
      "Countries of production: {\"/m/09c7w0\": \"United States of America\"} \n",
      "\n",
      "Box office revenues : 705,058,657$ \n",
      "\n",
      "Duration : 117 minutes \n",
      "\n",
      "Language adaptation :{\"/m/02h40lc\": \"English Language\"}\n"
     ]
    }
   ],
   "source": [
    "FILM_NAME='The Twilight Saga: Breaking Dawn - Part 1'\n",
    "\n",
    "print('Released date: {} \\n' .format(df[\n",
    "    df['name']==FILM_NAME]['date'].values[0]))\n",
    "\n",
    "print('Genres: {} \\n'.format(df[\n",
    "    df['name']==FILM_NAME]['genres'].values[0]))\n",
    "\n",
    "print('Countries of production: {} \\n'.format(df[\n",
    "    df['name']==FILM_NAME]['countries'].values[0]))\n",
    "\n",
    "\n",
    "print('Box office revenues : {:,.0f}$ \\n'.format(df[\n",
    "    df['name']==FILM_NAME]['box_office'].values[0]))\n",
    "\n",
    "print('Duration : {:.0f} minutes \\n'.format(df[\n",
    "    df['name']==FILM_NAME]['runtime'].values[0]))\n",
    "\n",
    "print('Language adaptation :{}' .format(df[\n",
    "    df['name']==FILM_NAME]['lang'].values[0]))"
   ]
  },
  {
   "cell_type": "markdown",
   "metadata": {},
   "source": [
    "As we can see some features are not that clean like **genre, countries and language adaptation**.These features will need to be treated in the second part "
   ]
  },
  {
   "cell_type": "markdown",
   "metadata": {},
   "source": [
    "### c) Overall Overview\n"
   ]
  },
  {
   "cell_type": "markdown",
   "metadata": {},
   "source": [
    "After examining the feature for the film *The Twilight Saga: Breaking Dawn - Part 1* let's delve into a broader understanding of the dataset.  Now, shifting our focus to the entire dataset, we aim to provide a comprehensive overview. "
   ]
  },
  {
   "cell_type": "code",
   "execution_count": 8,
   "metadata": {},
   "outputs": [
    {
     "data": {
      "image/png": "[encoded data removed]",
      "text/plain": [
       "<Figure size 720x720 with 6 Axes>"
      ]
     },
     "metadata": {
      "needs_background": "light"
     },
     "output_type": "display_data"
    },
    {
     "data": {
      "image/png": "[encoded data removed]",
      "text/plain": [
       "<Figure size 864x216 with 1 Axes>"
      ]
     },
     "metadata": {
      "needs_background": "light"
     },
     "output_type": "display_data"
    }
   ],
   "source": [
    "\n",
    "data_viz(df, israw=True)"
   ]
  },
  {
   "cell_type": "markdown",
   "metadata": {},
   "source": []
  },
  {
   "cell_type": "markdown",
   "metadata": {},
   "source": [
    "# 2) Cleaning the data\n"
   ]
  },
  {
   "cell_type": "markdown",
   "metadata": {},
   "source": [
    "This part focus on cleaning the data. Indeed, cleaning data is an important step for accurate data analysis. It ensures the integrity of results, reduces the risk of errors, and promotes consistency in reporting. Clean data enhances data understanding, uncovering valuable insights and patterns. Moreover, it facilitates compatibility with other datasets, mitigates bias, and ensures compliance with industry regulations. In essence, data cleaning is an essential step that contributes to the overall quality and effectiveness of data-driven processes. But first thing first let's make a deep copy of the dataset before filtering"
   ]
  },
  {
   "cell_type": "code",
   "execution_count": 9,
   "metadata": {},
   "outputs": [],
   "source": [
    "movies = df.copy()"
   ]
  },
  {
   "cell_type": "markdown",
   "metadata": {},
   "source": [
    "### a) Removing missing data :\n",
    "\n",
    "First let's have a look at what is missing in the original dataframe *'df'*"
   ]
  },
  {
   "cell_type": "code",
   "execution_count": 10,
   "metadata": {},
   "outputs": [
    {
     "data": {
      "text/html": [
       "<div>\n",
       "<style scoped>\n",
       "    .dataframe tbody tr th:only-of-type {\n",
       "        vertical-align: middle;\n",
       "    }\n",
       "\n",
       "    .dataframe tbody tr th {\n",
       "        vertical-align: top;\n",
       "    }\n",
       "\n",
       "    .dataframe thead th {\n",
       "        text-align: right;\n",
       "    }\n",
       "</style>\n",
       "<table border=\"1\" class=\"dataframe\">\n",
       "  <thead>\n",
       "    <tr style=\"text-align: right;\">\n",
       "      <th></th>\n",
       "      <th>Missing Data (%)</th>\n",
       "    </tr>\n",
       "    <tr>\n",
       "      <th>Column</th>\n",
       "      <th></th>\n",
       "    </tr>\n",
       "  </thead>\n",
       "  <tbody>\n",
       "    <tr>\n",
       "      <th>id_wiki</th>\n",
       "      <td>0.00</td>\n",
       "    </tr>\n",
       "    <tr>\n",
       "      <th>id_freebase</th>\n",
       "      <td>0.00</td>\n",
       "    </tr>\n",
       "    <tr>\n",
       "      <th>name</th>\n",
       "      <td>0.00</td>\n",
       "    </tr>\n",
       "    <tr>\n",
       "      <th>date</th>\n",
       "      <td>8.44</td>\n",
       "    </tr>\n",
       "    <tr>\n",
       "      <th>box_office</th>\n",
       "      <td>89.72</td>\n",
       "    </tr>\n",
       "    <tr>\n",
       "      <th>runtime</th>\n",
       "      <td>25.02</td>\n",
       "    </tr>\n",
       "    <tr>\n",
       "      <th>lang</th>\n",
       "      <td>0.00</td>\n",
       "    </tr>\n",
       "    <tr>\n",
       "      <th>countries</th>\n",
       "      <td>0.00</td>\n",
       "    </tr>\n",
       "    <tr>\n",
       "      <th>genres</th>\n",
       "      <td>0.00</td>\n",
       "    </tr>\n",
       "  </tbody>\n",
       "</table>\n",
       "</div>"
      ],
      "text/plain": [
       "             Missing Data (%)\n",
       "Column                       \n",
       "id_wiki                  0.00\n",
       "id_freebase              0.00\n",
       "name                     0.00\n",
       "date                     8.44\n",
       "box_office              89.72\n",
       "runtime                 25.02\n",
       "lang                     0.00\n",
       "countries                0.00\n",
       "genres                   0.00"
      ]
     },
     "execution_count": 10,
     "metadata": {},
     "output_type": "execute_result"
    }
   ],
   "source": [
    "generate_missing_info(df)"
   ]
  },
  {
   "cell_type": "markdown",
   "metadata": {},
   "source": [
    "\n",
    "In order to identify pivotal movie, some future of data are crucial. First is data linked to trend identification. To identify trends for movie we need two features : the **date of release** and the **genres** of the movie. Then we remove all movie that have either missing date feature or missing genres feature."
   ]
  },
  {
   "cell_type": "code",
   "execution_count": 11,
   "metadata": {},
   "outputs": [],
   "source": [
    "# Handle missing values\n",
    "movies = data_missing(movies)"
   ]
  },
  {
   "cell_type": "markdown",
   "metadata": {},
   "source": [
    "Now let's check if there are any duplicates. We define a duplicate pair as movies with the same name, release year and runtime."
   ]
  },
  {
   "cell_type": "code",
   "execution_count": 12,
   "metadata": {},
   "outputs": [
    {
     "name": "stdout",
     "output_type": "stream",
     "text": [
      "Rows with real duplicates: \n",
      "                                     name        date  runtime\n",
      "1412                       Landspeed: CKY        1999      NaN\n",
      "4856   Indiana Jones and the Last Crusade  1989-05-24    127.0\n",
      "5356                       Landspeed: CKY        1999      NaN\n",
      "5872                    Secrets of Nature        1950      NaN\n",
      "9965                      Little Big Horn  1951-06-15     86.0\n",
      "13458                    Jeepers Creepers        1939      NaN\n",
      "16448                 Moscow Strikes Back  1942-02-23     55.0\n",
      "24940                   Secrets of Nature        1950      NaN\n",
      "31701                    Facing the Music  1941-10-18     79.0\n",
      "45846                 Moscow Strikes Back  1942-02-23     55.0\n",
      "46001                    Jeepers Creepers        1939      NaN\n",
      "49203  Indiana Jones and the Last Crusade  1989-05-24    127.0\n",
      "51505                Yours, Mine and Ours  2005-11-23     88.0\n",
      "61322                     Little Big Horn  1951-06-15     86.0\n",
      "62250                             Durango  1999-04-25     98.0\n",
      "66518                    Facing the Music  1941-10-18     79.0\n",
      "74548                             Durango  1999-04-25     98.0\n",
      "80080                Yours, Mine and Ours  2005-11-23     88.0\n",
      "--------------------------------------------------------------------------------\n"
     ]
    }
   ],
   "source": [
    "check_doublons(movies,['name'],'date','runtime')"
   ]
  },
  {
   "cell_type": "markdown",
   "metadata": {},
   "source": [
    "Interesting ! Looks like we have some duplicates. We'll merge them such that we keep all the relevant informations. For example let's look at the Indiana Jones movie."
   ]
  },
  {
   "cell_type": "code",
   "execution_count": 13,
   "metadata": {},
   "outputs": [
    {
     "data": {
      "text/html": [
       "<div>\n",
       "<style scoped>\n",
       "    .dataframe tbody tr th:only-of-type {\n",
       "        vertical-align: middle;\n",
       "    }\n",
       "\n",
       "    .dataframe tbody tr th {\n",
       "        vertical-align: top;\n",
       "    }\n",
       "\n",
       "    .dataframe thead th {\n",
       "        text-align: right;\n",
       "    }\n",
       "</style>\n",
       "<table border=\"1\" class=\"dataframe\">\n",
       "  <thead>\n",
       "    <tr style=\"text-align: right;\">\n",
       "      <th></th>\n",
       "      <th>id_wiki</th>\n",
       "      <th>id_freebase</th>\n",
       "      <th>name</th>\n",
       "      <th>date</th>\n",
       "      <th>box_office</th>\n",
       "      <th>runtime</th>\n",
       "      <th>lang</th>\n",
       "      <th>countries</th>\n",
       "      <th>genres</th>\n",
       "    </tr>\n",
       "  </thead>\n",
       "  <tbody>\n",
       "    <tr>\n",
       "      <th>4856</th>\n",
       "      <td>3184269</td>\n",
       "      <td>/m/0dnqr</td>\n",
       "      <td>Indiana Jones and the Last Crusade</td>\n",
       "      <td>1989-05-24</td>\n",
       "      <td>NaN</td>\n",
       "      <td>127.0</td>\n",
       "      <td>{\"/m/0349s\": \"Greek Language\", \"/m/04306rv\": \"...</td>\n",
       "      <td>{\"/m/09c7w0\": \"United States of America\"}</td>\n",
       "      <td>{\"/m/0hj3m_6\": \"Costume Adventure\", \"/m/02kdv5...</td>\n",
       "    </tr>\n",
       "    <tr>\n",
       "      <th>49203</th>\n",
       "      <td>51888</td>\n",
       "      <td>/m/0h_b6x1</td>\n",
       "      <td>Indiana Jones and the Last Crusade</td>\n",
       "      <td>1989-05-24</td>\n",
       "      <td>474171806.0</td>\n",
       "      <td>127.0</td>\n",
       "      <td>{}</td>\n",
       "      <td>{}</td>\n",
       "      <td>{\"/m/03k9fj\": \"Adventure\"}</td>\n",
       "    </tr>\n",
       "  </tbody>\n",
       "</table>\n",
       "</div>"
      ],
      "text/plain": [
       "       id_wiki id_freebase                                name        date  \\\n",
       "4856   3184269    /m/0dnqr  Indiana Jones and the Last Crusade  1989-05-24   \n",
       "49203    51888  /m/0h_b6x1  Indiana Jones and the Last Crusade  1989-05-24   \n",
       "\n",
       "        box_office  runtime  \\\n",
       "4856           NaN    127.0   \n",
       "49203  474171806.0    127.0   \n",
       "\n",
       "                                                    lang  \\\n",
       "4856   {\"/m/0349s\": \"Greek Language\", \"/m/04306rv\": \"...   \n",
       "49203                                                 {}   \n",
       "\n",
       "                                       countries  \\\n",
       "4856   {\"/m/09c7w0\": \"United States of America\"}   \n",
       "49203                                         {}   \n",
       "\n",
       "                                                  genres  \n",
       "4856   {\"/m/0hj3m_6\": \"Costume Adventure\", \"/m/02kdv5...  \n",
       "49203                         {\"/m/03k9fj\": \"Adventure\"}  "
      ]
     },
     "metadata": {},
     "output_type": "display_data"
    }
   ],
   "source": [
    "display(movies[movies['name'] == 'Indiana Jones and the Last Crusade'])"
   ]
  },
  {
   "cell_type": "markdown",
   "metadata": {},
   "source": [
    "After merging :"
   ]
  },
  {
   "cell_type": "code",
   "execution_count": 14,
   "metadata": {},
   "outputs": [
    {
     "name": "stdout",
     "output_type": "stream",
     "text": [
      "Fusing duplicates: \n",
      "Duplicates fused successfully.\n",
      "--------------------------------------------------------------------------------\n"
     ]
    },
    {
     "data": {
      "text/html": [
       "<div>\n",
       "<style scoped>\n",
       "    .dataframe tbody tr th:only-of-type {\n",
       "        vertical-align: middle;\n",
       "    }\n",
       "\n",
       "    .dataframe tbody tr th {\n",
       "        vertical-align: top;\n",
       "    }\n",
       "\n",
       "    .dataframe thead th {\n",
       "        text-align: right;\n",
       "    }\n",
       "</style>\n",
       "<table border=\"1\" class=\"dataframe\">\n",
       "  <thead>\n",
       "    <tr style=\"text-align: right;\">\n",
       "      <th></th>\n",
       "      <th>id_wiki</th>\n",
       "      <th>id_freebase</th>\n",
       "      <th>name</th>\n",
       "      <th>date</th>\n",
       "      <th>box_office</th>\n",
       "      <th>runtime</th>\n",
       "      <th>lang</th>\n",
       "      <th>countries</th>\n",
       "      <th>genres</th>\n",
       "    </tr>\n",
       "  </thead>\n",
       "  <tbody>\n",
       "    <tr>\n",
       "      <th>4452</th>\n",
       "      <td>3184269</td>\n",
       "      <td>/m/0dnqr</td>\n",
       "      <td>Indiana Jones and the Last Crusade</td>\n",
       "      <td>1989-05-24</td>\n",
       "      <td>474171806.0</td>\n",
       "      <td>127.0</td>\n",
       "      <td>{\"/m/0349s\": \"Greek Language\", \"/m/04306rv\": \"...</td>\n",
       "      <td>{\"/m/09c7w0\": \"United States of America\"}</td>\n",
       "      <td>{\"/m/0hj3m_6\": \"Costume Adventure\", \"/m/02kdv5...</td>\n",
       "    </tr>\n",
       "  </tbody>\n",
       "</table>\n",
       "</div>"
      ],
      "text/plain": [
       "      id_wiki id_freebase                                name        date  \\\n",
       "4452  3184269    /m/0dnqr  Indiana Jones and the Last Crusade  1989-05-24   \n",
       "\n",
       "       box_office runtime                                               lang  \\\n",
       "4452  474171806.0   127.0  {\"/m/0349s\": \"Greek Language\", \"/m/04306rv\": \"...   \n",
       "\n",
       "                                      countries  \\\n",
       "4452  {\"/m/09c7w0\": \"United States of America\"}   \n",
       "\n",
       "                                                 genres  \n",
       "4452  {\"/m/0hj3m_6\": \"Costume Adventure\", \"/m/02kdv5...  "
      ]
     },
     "metadata": {},
     "output_type": "display_data"
    }
   ],
   "source": [
    "movies = fuse_duplicates(movies, col_check=['name'], year='date', runtime='runtime',\n",
    "                         col_len=['lang', 'countries', 'genres'], col_null=['box_office', 'runtime'])\n",
    "display(movies[movies['name']=='Indiana Jones and the Last Crusade'])\n"
   ]
  },
  {
   "cell_type": "code",
   "execution_count": 15,
   "metadata": {},
   "outputs": [
    {
     "name": "stdout",
     "output_type": "stream",
     "text": [
      "The remaining values of movies after this step is 74830\n"
     ]
    }
   ],
   "source": [
    "print('The remaining values of movies after this step is {}'.format(len(movies)))\n"
   ]
  },
  {
   "cell_type": "markdown",
   "metadata": {},
   "source": [
    "### b) Changing the features format\n",
    "\n",
    "Now that the missing data has been dropped, we will address unclear features in the dataset. Building on the example of 'Twilight' from part 1, we observed that the presentation of languages, countries, and genres needed improvement. Let's reorganize and standardize these features for better clarity. Additionally, we'll modify the date format to establish a consistent basis for every film in the dataset. \n"
   ]
  },
  {
   "cell_type": "code",
   "execution_count": 16,
   "metadata": {},
   "outputs": [],
   "source": [
    "# Format data types\n",
    "movies = data_format(movies)"
   ]
  },
  {
   "cell_type": "code",
   "execution_count": null,
   "metadata": {},
   "outputs": [],
   "source": []
  },
  {
   "cell_type": "markdown",
   "metadata": {},
   "source": [
    "Let's take a look to the refresh features"
   ]
  },
  {
   "cell_type": "code",
   "execution_count": 17,
   "metadata": {},
   "outputs": [
    {
     "name": "stdout",
     "output_type": "stream",
     "text": [
      "Released date: 2011 \n",
      "\n",
      "Genres: ['Drama', 'Fantasy', 'Adventure', 'Teen', 'Romantic fantasy'] \n",
      "\n",
      "Countries of production: ['USA'] \n",
      "\n",
      "Language adaptation :['English Language']\n"
     ]
    }
   ],
   "source": [
    "\n",
    "print('Released date: {} \\n' .format( movies[\n",
    "    movies['name']==FILM_NAME]['date'].values[0]))\n",
    "\n",
    "print('Genres: {} \\n'.format( movies[\n",
    "    movies['name']==FILM_NAME]['genres'].values[0]))\n",
    "\n",
    "print('Countries of production: {} \\n'.format(    movies[\n",
    "       movies['name']==FILM_NAME]['countries'].values[0]))\n",
    "  \n",
    "\n",
    "print('Language adaptation :{}' .format(movies[\n",
    "        movies['name']==FILM_NAME]['lang'].values[0]))"
   ]
  },
  {
   "cell_type": "markdown",
   "metadata": {},
   "source": [
    "Nice! Now we see clearly genre, countries of production and language adaptation. Furthermore we only keep the year the film have been released to our further analysis."
   ]
  },
  {
   "cell_type": "markdown",
   "metadata": {},
   "source": [
    "For the sake of simplicity we rename the colon date by year and column box_office by revenue"
   ]
  },
  {
   "cell_type": "code",
   "execution_count": 18,
   "metadata": {},
   "outputs": [],
   "source": [
    "movies.rename(columns={'box_office': 'revenue'}, inplace=True)\n",
    "movies.rename(columns={'date': 'year'}, inplace=True)\n"
   ]
  },
  {
   "cell_type": "code",
   "execution_count": null,
   "metadata": {},
   "outputs": [],
   "source": []
  },
  {
   "cell_type": "markdown",
   "metadata": {},
   "source": [
    "### c) Boundary definition\n",
    "\n",
    "To ensure the accuracy of our data for analysis, it is crucial to define boundaries within the 'date' feature. Occasionally, incorrect data may be present, leading to inconsistencies. Let's identify and rectify such errors to maintain data integrity and ensure meaningful analysis."
   ]
  },
  {
   "cell_type": "code",
   "execution_count": 19,
   "metadata": {},
   "outputs": [
    {
     "data": {
      "text/html": [
       "<div>\n",
       "<style scoped>\n",
       "    .dataframe tbody tr th:only-of-type {\n",
       "        vertical-align: middle;\n",
       "    }\n",
       "\n",
       "    .dataframe tbody tr th {\n",
       "        vertical-align: top;\n",
       "    }\n",
       "\n",
       "    .dataframe thead th {\n",
       "        text-align: right;\n",
       "    }\n",
       "</style>\n",
       "<table border=\"1\" class=\"dataframe\">\n",
       "  <thead>\n",
       "    <tr style=\"text-align: right;\">\n",
       "      <th></th>\n",
       "      <th>name</th>\n",
       "      <th>year</th>\n",
       "    </tr>\n",
       "  </thead>\n",
       "  <tbody>\n",
       "    <tr>\n",
       "      <th>57565</th>\n",
       "      <td>Hunting Season</td>\n",
       "      <td>1010</td>\n",
       "    </tr>\n",
       "  </tbody>\n",
       "</table>\n",
       "</div>"
      ],
      "text/plain": [
       "                 name  year\n",
       "57565  Hunting Season  1010"
      ]
     },
     "metadata": {},
     "output_type": "display_data"
    }
   ],
   "source": [
    "display(movies[movies['year']<1800][['name','year']])"
   ]
  },
  {
   "cell_type": "markdown",
   "metadata": {},
   "source": [
    "Turns out the Middle Ages had more drama than we thought , the first medieval blockbusters is here! But all jokes aside let's clean it"
   ]
  },
  {
   "cell_type": "code",
   "execution_count": 20,
   "metadata": {},
   "outputs": [],
   "source": [
    "# Clean data, outliers and features\n",
    "movies = data_clean(movies)\n"
   ]
  },
  {
   "cell_type": "markdown",
   "metadata": {},
   "source": [
    "### d) Filtering data\n",
    "\n",
    "\n",
    "The last step is to filter our data. Indeed, we want to focus our analysis only on movies produced in the USA and in English language."
   ]
  },
  {
   "cell_type": "code",
   "execution_count": 21,
   "metadata": {},
   "outputs": [],
   "source": [
    "movies_all= movies.copy()\n",
    "# Filter data\n",
    "movies = data_filter(movies)"
   ]
  },
  {
   "cell_type": "markdown",
   "metadata": {},
   "source": [
    "Let's look at what is remaining and what distributions look likes"
   ]
  },
  {
   "cell_type": "code",
   "execution_count": 22,
   "metadata": {},
   "outputs": [
    {
     "data": {
      "text/html": [
       "<div>\n",
       "<style scoped>\n",
       "    .dataframe tbody tr th:only-of-type {\n",
       "        vertical-align: middle;\n",
       "    }\n",
       "\n",
       "    .dataframe tbody tr th {\n",
       "        vertical-align: top;\n",
       "    }\n",
       "\n",
       "    .dataframe thead th {\n",
       "        text-align: right;\n",
       "    }\n",
       "</style>\n",
       "<table border=\"1\" class=\"dataframe\">\n",
       "  <thead>\n",
       "    <tr style=\"text-align: right;\">\n",
       "      <th></th>\n",
       "      <th>Missing Data (%)</th>\n",
       "    </tr>\n",
       "    <tr>\n",
       "      <th>Column</th>\n",
       "      <th></th>\n",
       "    </tr>\n",
       "  </thead>\n",
       "  <tbody>\n",
       "    <tr>\n",
       "      <th>id_wiki</th>\n",
       "      <td>0.00</td>\n",
       "    </tr>\n",
       "    <tr>\n",
       "      <th>id_freebase</th>\n",
       "      <td>0.00</td>\n",
       "    </tr>\n",
       "    <tr>\n",
       "      <th>name</th>\n",
       "      <td>0.00</td>\n",
       "    </tr>\n",
       "    <tr>\n",
       "      <th>year</th>\n",
       "      <td>0.00</td>\n",
       "    </tr>\n",
       "    <tr>\n",
       "      <th>revenue</th>\n",
       "      <td>77.27</td>\n",
       "    </tr>\n",
       "    <tr>\n",
       "      <th>runtime</th>\n",
       "      <td>11.37</td>\n",
       "    </tr>\n",
       "    <tr>\n",
       "      <th>lang</th>\n",
       "      <td>0.00</td>\n",
       "    </tr>\n",
       "    <tr>\n",
       "      <th>countries</th>\n",
       "      <td>0.00</td>\n",
       "    </tr>\n",
       "    <tr>\n",
       "      <th>genres</th>\n",
       "      <td>0.00</td>\n",
       "    </tr>\n",
       "  </tbody>\n",
       "</table>\n",
       "</div>"
      ],
      "text/plain": [
       "             Missing Data (%)\n",
       "Column                       \n",
       "id_wiki                  0.00\n",
       "id_freebase              0.00\n",
       "name                     0.00\n",
       "year                     0.00\n",
       "revenue                 77.27\n",
       "runtime                 11.37\n",
       "lang                     0.00\n",
       "countries                0.00\n",
       "genres                   0.00"
      ]
     },
     "execution_count": 22,
     "metadata": {},
     "output_type": "execute_result"
    }
   ],
   "source": [
    "generate_missing_info(movies)"
   ]
  },
  {
   "cell_type": "code",
   "execution_count": 23,
   "metadata": {},
   "outputs": [
    {
     "name": "stdout",
     "output_type": "stream",
     "text": [
      "<class 'pandas.core.frame.DataFrame'>\n",
      "Int64Index: 29828 entries, 0 to 74827\n",
      "Data columns (total 9 columns):\n",
      " #   Column       Non-Null Count  Dtype  \n",
      "---  ------       --------------  -----  \n",
      " 0   id_wiki      29828 non-null  int64  \n",
      " 1   id_freebase  29828 non-null  object \n",
      " 2   name         29828 non-null  object \n",
      " 3   year         29828 non-null  int32  \n",
      " 4   revenue      6779 non-null   float64\n",
      " 5   runtime      26436 non-null  object \n",
      " 6   lang         29828 non-null  object \n",
      " 7   countries    29828 non-null  object \n",
      " 8   genres       29828 non-null  object \n",
      "dtypes: float64(1), int32(1), int64(1), object(6)\n",
      "memory usage: 2.2+ MB\n"
     ]
    },
    {
     "data": {
      "text/plain": [
       "None"
      ]
     },
     "metadata": {},
     "output_type": "display_data"
    }
   ],
   "source": [
    "display(movies.info())"
   ]
  },
  {
   "cell_type": "code",
   "execution_count": 24,
   "metadata": {},
   "outputs": [
    {
     "data": {
      "image/png": "[encoded data removed]",
      "text/plain": [
       "<Figure size 720x432 with 1 Axes>"
      ]
     },
     "metadata": {
      "needs_background": "light"
     },
     "output_type": "display_data"
    }
   ],
   "source": [
    "# Looking at distribution of release years\n",
    "\n",
    "plt.figure(figsize=(10, 6))\n",
    "plt.hist(movies_all['year'], bins=1000, color='skyblue', edgecolor='skyblue', label='World')\n",
    "plt.hist(movies['year'], bins=1000, color='red', edgecolor='red', label='USA')\n",
    "plt.xlabel(\"Release Year\")\n",
    "plt.xlim(1900, 2016)\n",
    "plt.ylabel(\"Frequency\")\n",
    "plt.title(\"Distribution of Release Years\")\n",
    "plt.grid(axis='y', alpha=0.75)\n",
    "plt.legend()\n",
    "plt.show()\n"
   ]
  },
  {
   "cell_type": "markdown",
   "metadata": {},
   "source": [
    "It seems that a lot of revenue data is missing. Let's look at the distribution along the year.\n"
   ]
  },
  {
   "cell_type": "code",
   "execution_count": 25,
   "metadata": {},
   "outputs": [
    {
     "data": {
      "image/png": "[encoded data removed]",
      "text/plain": [
       "<Figure size 1008x432 with 1 Axes>"
      ]
     },
     "metadata": {
      "needs_background": "light"
     },
     "output_type": "display_data"
    }
   ],
   "source": [
    "# Let's compare missing revenue data for some countries\n",
    "\n",
    "missing_revenue_all = calculate_missing_percentage(movies_all, 'year', 'revenue')\n",
    "missing_revenue_USA = calculate_missing_percentage(movies, 'year', 'revenue')\n",
    "\n",
    "\n",
    "plt.figure(figsize=(14, 6))\n",
    "\n",
    "plt.plot(missing_revenue_all.index, missing_revenue_all[\"revenue\"], linestyle='-', color='skyblue', label='World')\n",
    "plt.plot(missing_revenue_USA.index, missing_revenue_USA[\"revenue\"], linestyle='--', color='r', label='USA')\n",
    "\n",
    "plt.xlabel(\"Release Year\")\n",
    "plt.ylabel(\"Missing Revenue Percentage\")\n",
    "plt.title(\"Missing Revenue Percentage Over the Years\")\n",
    "plt.grid()\n",
    "plt.legend()\n",
    "plt.show()\n"
   ]
  },
  {
   "cell_type": "markdown",
   "metadata": {},
   "source": [
    "As seen in the graph above the missing value percentage for revenue is relatively high across all years (although the USA only data is cleaner). We will try address this using additional datasets (cf README)"
   ]
  },
  {
   "cell_type": "markdown",
   "metadata": {},
   "source": [
    "# 3) Enrich Data\n"
   ]
  },
  {
   "cell_type": "markdown",
   "metadata": {},
   "source": [
    "As seen in the previous part a lot data is missing for the revenue column. Furthermore, for future analysis of pivotal movies (cf README), we would like to have a review feature. This feature will take value from 0 to 10 and will be linked to another feature : number of reviews available."
   ]
  },
  {
   "cell_type": "code",
   "execution_count": 26,
   "metadata": {},
   "outputs": [],
   "source": [
    "MOVIE_STATS = DATA_PATH + 'movie-stats/movies_stats.csv'\n",
    "MOVIE_LENS = DATA_PATH +'movie_lens/movies_lens.csv'\n"
   ]
  },
  {
   "cell_type": "markdown",
   "metadata": {},
   "source": [
    "### a) Loading and cleaning movie-stats"
   ]
  },
  {
   "cell_type": "code",
   "execution_count": 28,
   "metadata": {},
   "outputs": [
    {
     "data": {
      "text/html": [
       "<div>\n",
       "<style scoped>\n",
       "    .dataframe tbody tr th:only-of-type {\n",
       "        vertical-align: middle;\n",
       "    }\n",
       "\n",
       "    .dataframe tbody tr th {\n",
       "        vertical-align: top;\n",
       "    }\n",
       "\n",
       "    .dataframe thead th {\n",
       "        text-align: right;\n",
       "    }\n",
       "</style>\n",
       "<table border=\"1\" class=\"dataframe\">\n",
       "  <thead>\n",
       "    <tr style=\"text-align: right;\">\n",
       "      <th></th>\n",
       "      <th>name</th>\n",
       "      <th>year</th>\n",
       "      <th>review</th>\n",
       "      <th>nbr_review</th>\n",
       "      <th>countries</th>\n",
       "      <th>revenue</th>\n",
       "      <th>runtime</th>\n",
       "    </tr>\n",
       "  </thead>\n",
       "  <tbody>\n",
       "    <tr>\n",
       "      <th>5266</th>\n",
       "      <td>Slumdog Millionaire</td>\n",
       "      <td>2008</td>\n",
       "      <td>8.0</td>\n",
       "      <td>812000.0</td>\n",
       "      <td>United Kingdom</td>\n",
       "      <td>3.784105e+08</td>\n",
       "      <td>120.0</td>\n",
       "    </tr>\n",
       "    <tr>\n",
       "      <th>530</th>\n",
       "      <td>Stranger Than Paradise</td>\n",
       "      <td>1984</td>\n",
       "      <td>7.5</td>\n",
       "      <td>36000.0</td>\n",
       "      <td>United States</td>\n",
       "      <td>2.436000e+06</td>\n",
       "      <td>89.0</td>\n",
       "    </tr>\n",
       "    <tr>\n",
       "      <th>7556</th>\n",
       "      <td>After the Wedding</td>\n",
       "      <td>2019</td>\n",
       "      <td>6.3</td>\n",
       "      <td>6700.0</td>\n",
       "      <td>United States</td>\n",
       "      <td>2.790019e+06</td>\n",
       "      <td>112.0</td>\n",
       "    </tr>\n",
       "    <tr>\n",
       "      <th>6863</th>\n",
       "      <td>Zootopia</td>\n",
       "      <td>2016</td>\n",
       "      <td>8.0</td>\n",
       "      <td>450000.0</td>\n",
       "      <td>United States</td>\n",
       "      <td>1.024121e+09</td>\n",
       "      <td>108.0</td>\n",
       "    </tr>\n",
       "    <tr>\n",
       "      <th>1380</th>\n",
       "      <td>Vibes</td>\n",
       "      <td>1988</td>\n",
       "      <td>5.7</td>\n",
       "      <td>3900.0</td>\n",
       "      <td>United States</td>\n",
       "      <td>1.883811e+06</td>\n",
       "      <td>99.0</td>\n",
       "    </tr>\n",
       "  </tbody>\n",
       "</table>\n",
       "</div>"
      ],
      "text/plain": [
       "                        name  year  review  nbr_review       countries  \\\n",
       "5266     Slumdog Millionaire  2008     8.0    812000.0  United Kingdom   \n",
       "530   Stranger Than Paradise  1984     7.5     36000.0   United States   \n",
       "7556       After the Wedding  2019     6.3      6700.0   United States   \n",
       "6863                Zootopia  2016     8.0    450000.0   United States   \n",
       "1380                   Vibes  1988     5.7      3900.0   United States   \n",
       "\n",
       "           revenue  runtime  \n",
       "5266  3.784105e+08    120.0  \n",
       "530   2.436000e+06     89.0  \n",
       "7556  2.790019e+06    112.0  \n",
       "6863  1.024121e+09    108.0  \n",
       "1380  1.883811e+06     99.0  "
      ]
     },
     "metadata": {},
     "output_type": "display_data"
    },
    {
     "data": {
      "text/plain": [
       "(7668, 7)"
      ]
     },
     "metadata": {},
     "output_type": "display_data"
    },
    {
     "name": "stdout",
     "output_type": "stream",
     "text": [
      "<class 'pandas.core.frame.DataFrame'>\n",
      "RangeIndex: 7668 entries, 0 to 7667\n",
      "Data columns (total 7 columns):\n",
      " #   Column      Non-Null Count  Dtype  \n",
      "---  ------      --------------  -----  \n",
      " 0   name        7668 non-null   object \n",
      " 1   year        7668 non-null   int64  \n",
      " 2   review      7665 non-null   float64\n",
      " 3   nbr_review  7665 non-null   float64\n",
      " 4   countries   7665 non-null   object \n",
      " 5   revenue     7479 non-null   float64\n",
      " 6   runtime     7664 non-null   float64\n",
      "dtypes: float64(4), int64(1), object(2)\n",
      "memory usage: 419.5+ KB\n"
     ]
    },
    {
     "data": {
      "text/plain": [
       "None"
      ]
     },
     "metadata": {},
     "output_type": "display_data"
    },
    {
     "data": {
      "text/html": [
       "<div>\n",
       "<style scoped>\n",
       "    .dataframe tbody tr th:only-of-type {\n",
       "        vertical-align: middle;\n",
       "    }\n",
       "\n",
       "    .dataframe tbody tr th {\n",
       "        vertical-align: top;\n",
       "    }\n",
       "\n",
       "    .dataframe thead th {\n",
       "        text-align: right;\n",
       "    }\n",
       "</style>\n",
       "<table border=\"1\" class=\"dataframe\">\n",
       "  <thead>\n",
       "    <tr style=\"text-align: right;\">\n",
       "      <th></th>\n",
       "      <th>Missing Data (%)</th>\n",
       "    </tr>\n",
       "    <tr>\n",
       "      <th>Column</th>\n",
       "      <th></th>\n",
       "    </tr>\n",
       "  </thead>\n",
       "  <tbody>\n",
       "    <tr>\n",
       "      <th>name</th>\n",
       "      <td>0.00</td>\n",
       "    </tr>\n",
       "    <tr>\n",
       "      <th>year</th>\n",
       "      <td>0.00</td>\n",
       "    </tr>\n",
       "    <tr>\n",
       "      <th>review</th>\n",
       "      <td>0.04</td>\n",
       "    </tr>\n",
       "    <tr>\n",
       "      <th>nbr_review</th>\n",
       "      <td>0.04</td>\n",
       "    </tr>\n",
       "    <tr>\n",
       "      <th>countries</th>\n",
       "      <td>0.04</td>\n",
       "    </tr>\n",
       "    <tr>\n",
       "      <th>revenue</th>\n",
       "      <td>2.46</td>\n",
       "    </tr>\n",
       "    <tr>\n",
       "      <th>runtime</th>\n",
       "      <td>0.05</td>\n",
       "    </tr>\n",
       "  </tbody>\n",
       "</table>\n",
       "</div>"
      ],
      "text/plain": [
       "            Missing Data (%)\n",
       "Column                      \n",
       "name                    0.00\n",
       "year                    0.00\n",
       "review                  0.04\n",
       "nbr_review              0.04\n",
       "countries               0.04\n",
       "revenue                 2.46\n",
       "runtime                 0.05"
      ]
     },
     "execution_count": 28,
     "metadata": {},
     "output_type": "execute_result"
    }
   ],
   "source": [
    "# Loading MovieStats movies df\n",
    "\n",
    "movies_stats_vanilla = pd.read_csv(MOVIE_STATS)\n",
    "movies_stats_vanilla.drop(columns=\n",
    "                          ['genre', 'released', 'director', 'writer',\n",
    "                           'star', 'company', 'rating', 'budget'], \n",
    "                          inplace=True)\n",
    "movies_stats_vanilla = movies_stats_vanilla.rename(columns={\n",
    "                                                   'gross': 'revenue',\n",
    "                                                   'country': 'countries',\n",
    "                                                   'score': 'review',\n",
    "                                                   'votes': 'nbr_review'})\n",
    "display(movies_stats_vanilla.sample(5))\n",
    "display(movies_stats_vanilla.shape)\n",
    "display(movies_stats_vanilla.info())\n",
    "generate_missing_info(movies_stats_vanilla)\n"
   ]
  },
  {
   "cell_type": "markdown",
   "metadata": {},
   "source": [
    "- Checking release year distribution and country representation"
   ]
  },
  {
   "cell_type": "code",
   "execution_count": 30,
   "metadata": {},
   "outputs": [
    {
     "data": {
      "image/png": "[encoded data removed]",
      "text/plain": [
       "<Figure size 720x432 with 1 Axes>"
      ]
     },
     "metadata": {
      "needs_background": "light"
     },
     "output_type": "display_data"
    },
    {
     "data": {
      "text/plain": [
       "United States     5475\n",
       "United Kingdom     816\n",
       "France             279\n",
       "Canada             190\n",
       "Germany            117\n",
       "Australia           92\n",
       "Japan               81\n",
       "India               62\n",
       "Italy               61\n",
       "Spain               47\n",
       "Name: countries, dtype: int64"
      ]
     },
     "metadata": {},
     "output_type": "display_data"
    }
   ],
   "source": [
    "plt.figure(figsize=(10, 6))\n",
    "plt.hist(movies_stats_vanilla['year'], color='skyblue', edgecolor='skyblue')\n",
    "plt.xlabel(\"Release Year\")\n",
    "plt.ylabel(\"Frequency\")\n",
    "plt.title(\"Distribution of Release Years\")\n",
    "plt.grid(axis='y', alpha=0.75)\n",
    "plt.show()\n",
    "\n",
    "display(movies_stats_vanilla['countries'].value_counts().head(10))\n",
    "\n"
   ]
  },
  {
   "cell_type": "markdown",
   "metadata": {},
   "source": [
    "- Keep only relevant rows: positive box office and USA only, checking date and runtime"
   ]
  },
  {
   "cell_type": "code",
   "execution_count": 31,
   "metadata": {},
   "outputs": [
    {
     "data": {
      "text/html": [
       "<div>\n",
       "<style scoped>\n",
       "    .dataframe tbody tr th:only-of-type {\n",
       "        vertical-align: middle;\n",
       "    }\n",
       "\n",
       "    .dataframe tbody tr th {\n",
       "        vertical-align: top;\n",
       "    }\n",
       "\n",
       "    .dataframe thead th {\n",
       "        text-align: right;\n",
       "    }\n",
       "</style>\n",
       "<table border=\"1\" class=\"dataframe\">\n",
       "  <thead>\n",
       "    <tr style=\"text-align: right;\">\n",
       "      <th></th>\n",
       "      <th>name</th>\n",
       "      <th>year</th>\n",
       "      <th>review</th>\n",
       "      <th>nbr_review</th>\n",
       "      <th>countries</th>\n",
       "      <th>revenue</th>\n",
       "      <th>runtime</th>\n",
       "    </tr>\n",
       "  </thead>\n",
       "  <tbody>\n",
       "    <tr>\n",
       "      <th>2619</th>\n",
       "      <td>Trading Mom</td>\n",
       "      <td>1994</td>\n",
       "      <td>5.6</td>\n",
       "      <td>1800.0</td>\n",
       "      <td>United States</td>\n",
       "      <td>319123.0</td>\n",
       "      <td>82.0</td>\n",
       "    </tr>\n",
       "    <tr>\n",
       "      <th>5574</th>\n",
       "      <td>The Girlfriend Experience</td>\n",
       "      <td>2009</td>\n",
       "      <td>5.5</td>\n",
       "      <td>16000.0</td>\n",
       "      <td>United States</td>\n",
       "      <td>1060941.0</td>\n",
       "      <td>77.0</td>\n",
       "    </tr>\n",
       "    <tr>\n",
       "      <th>4801</th>\n",
       "      <td>Roll Bounce</td>\n",
       "      <td>2005</td>\n",
       "      <td>6.2</td>\n",
       "      <td>6800.0</td>\n",
       "      <td>United States</td>\n",
       "      <td>17521290.0</td>\n",
       "      <td>112.0</td>\n",
       "    </tr>\n",
       "    <tr>\n",
       "      <th>3224</th>\n",
       "      <td>The Sixth Man</td>\n",
       "      <td>1997</td>\n",
       "      <td>5.7</td>\n",
       "      <td>5600.0</td>\n",
       "      <td>United States</td>\n",
       "      <td>14772788.0</td>\n",
       "      <td>107.0</td>\n",
       "    </tr>\n",
       "    <tr>\n",
       "      <th>7261</th>\n",
       "      <td>Solo: A Star Wars Story</td>\n",
       "      <td>2018</td>\n",
       "      <td>6.9</td>\n",
       "      <td>306000.0</td>\n",
       "      <td>United States</td>\n",
       "      <td>392924807.0</td>\n",
       "      <td>135.0</td>\n",
       "    </tr>\n",
       "  </tbody>\n",
       "</table>\n",
       "</div>"
      ],
      "text/plain": [
       "                           name  year  review  nbr_review      countries  \\\n",
       "2619                Trading Mom  1994     5.6      1800.0  United States   \n",
       "5574  The Girlfriend Experience  2009     5.5     16000.0  United States   \n",
       "4801                Roll Bounce  2005     6.2      6800.0  United States   \n",
       "3224              The Sixth Man  1997     5.7      5600.0  United States   \n",
       "7261    Solo: A Star Wars Story  2018     6.9    306000.0  United States   \n",
       "\n",
       "          revenue  runtime  \n",
       "2619     319123.0     82.0  \n",
       "5574    1060941.0     77.0  \n",
       "4801   17521290.0    112.0  \n",
       "3224   14772788.0    107.0  \n",
       "7261  392924807.0    135.0  "
      ]
     },
     "metadata": {},
     "output_type": "display_data"
    },
    {
     "data": {
      "text/plain": [
       "(5377, 7)"
      ]
     },
     "metadata": {},
     "output_type": "display_data"
    },
    {
     "name": "stdout",
     "output_type": "stream",
     "text": [
      "<class 'pandas.core.frame.DataFrame'>\n",
      "Int64Index: 5377 entries, 1 to 7659\n",
      "Data columns (total 7 columns):\n",
      " #   Column      Non-Null Count  Dtype  \n",
      "---  ------      --------------  -----  \n",
      " 0   name        5377 non-null   object \n",
      " 1   year        5377 non-null   int64  \n",
      " 2   review      5377 non-null   float64\n",
      " 3   nbr_review  5377 non-null   float64\n",
      " 4   countries   5377 non-null   object \n",
      " 5   revenue     5377 non-null   float64\n",
      " 6   runtime     5376 non-null   float64\n",
      "dtypes: float64(4), int64(1), object(2)\n",
      "memory usage: 336.1+ KB\n"
     ]
    },
    {
     "data": {
      "text/plain": [
       "None"
      ]
     },
     "metadata": {},
     "output_type": "display_data"
    },
    {
     "data": {
      "text/html": [
       "<div>\n",
       "<style scoped>\n",
       "    .dataframe tbody tr th:only-of-type {\n",
       "        vertical-align: middle;\n",
       "    }\n",
       "\n",
       "    .dataframe tbody tr th {\n",
       "        vertical-align: top;\n",
       "    }\n",
       "\n",
       "    .dataframe thead th {\n",
       "        text-align: right;\n",
       "    }\n",
       "</style>\n",
       "<table border=\"1\" class=\"dataframe\">\n",
       "  <thead>\n",
       "    <tr style=\"text-align: right;\">\n",
       "      <th></th>\n",
       "      <th>Missing Data (%)</th>\n",
       "    </tr>\n",
       "    <tr>\n",
       "      <th>Column</th>\n",
       "      <th></th>\n",
       "    </tr>\n",
       "  </thead>\n",
       "  <tbody>\n",
       "    <tr>\n",
       "      <th>name</th>\n",
       "      <td>0.00</td>\n",
       "    </tr>\n",
       "    <tr>\n",
       "      <th>year</th>\n",
       "      <td>0.00</td>\n",
       "    </tr>\n",
       "    <tr>\n",
       "      <th>review</th>\n",
       "      <td>0.00</td>\n",
       "    </tr>\n",
       "    <tr>\n",
       "      <th>nbr_review</th>\n",
       "      <td>0.00</td>\n",
       "    </tr>\n",
       "    <tr>\n",
       "      <th>countries</th>\n",
       "      <td>0.00</td>\n",
       "    </tr>\n",
       "    <tr>\n",
       "      <th>revenue</th>\n",
       "      <td>0.00</td>\n",
       "    </tr>\n",
       "    <tr>\n",
       "      <th>runtime</th>\n",
       "      <td>0.02</td>\n",
       "    </tr>\n",
       "  </tbody>\n",
       "</table>\n",
       "</div>"
      ],
      "text/plain": [
       "            Missing Data (%)\n",
       "Column                      \n",
       "name                    0.00\n",
       "year                    0.00\n",
       "review                  0.00\n",
       "nbr_review              0.00\n",
       "countries               0.00\n",
       "revenue                 0.00\n",
       "runtime                 0.02"
      ]
     },
     "execution_count": 31,
     "metadata": {},
     "output_type": "execute_result"
    }
   ],
   "source": [
    "\n",
    "\n",
    "movies_stats = movies_stats_vanilla.copy(deep=True)\n",
    "\n",
    "movies_stats = movies_stats.drop(movies_stats.index[movies_stats['year']<1800])\n",
    "movies_stats.loc[movies_stats['runtime'] < 0, 'runtime'] = 0\n",
    "movies_stats['runtime'] = movies_stats['runtime'].replace(0, pd.NA)\n",
    "\n",
    "zero_data = movies_stats[(movies_stats.revenue <= 0)|(movies_stats.revenue.isna())|(movies_stats['countries']!='United States')]\n",
    "movies_stats.drop(zero_data.index,inplace=True)\n",
    "display(movies_stats.sample(5))\n",
    "display(movies_stats.shape)\n",
    "display(movies_stats.info())\n",
    "generate_missing_info(movies_stats)\n"
   ]
  },
  {
   "cell_type": "markdown",
   "metadata": {},
   "source": [
    "- Check if there are any duplicates"
   ]
  },
  {
   "cell_type": "code",
   "execution_count": null,
   "metadata": {},
   "outputs": [
    {
     "name": "stdout",
     "output_type": "stream",
     "text": [
      "No duplicates\n",
      "--------------------------------------------------------------------------------\n"
     ]
    },
    {
     "data": {
      "text/plain": [
       "None"
      ]
     },
     "metadata": {},
     "output_type": "display_data"
    }
   ],
   "source": [
    "\n",
    "display(check_doublons(movies_stats, ['name'], 'year', 'runtime'))\n"
   ]
  },
  {
   "cell_type": "markdown",
   "metadata": {},
   "source": [
    "Perfect now the first additional dataset is clean(er) !"
   ]
  },
  {
   "cell_type": "markdown",
   "metadata": {},
   "source": [
    "### b) Loading and cleaning movie lens dataset"
   ]
  },
  {
   "cell_type": "markdown",
   "metadata": {},
   "source": [
    "- Loading Lens movies df"
   ]
  },
  {
   "cell_type": "code",
   "execution_count": 33,
   "metadata": {},
   "outputs": [
    {
     "data": {
      "text/html": [
       "<div>\n",
       "<style scoped>\n",
       "    .dataframe tbody tr th:only-of-type {\n",
       "        vertical-align: middle;\n",
       "    }\n",
       "\n",
       "    .dataframe tbody tr th {\n",
       "        vertical-align: top;\n",
       "    }\n",
       "\n",
       "    .dataframe thead th {\n",
       "        text-align: right;\n",
       "    }\n",
       "</style>\n",
       "<table border=\"1\" class=\"dataframe\">\n",
       "  <thead>\n",
       "    <tr style=\"text-align: right;\">\n",
       "      <th></th>\n",
       "      <th>countries</th>\n",
       "      <th>release_date</th>\n",
       "      <th>revenue</th>\n",
       "      <th>runtime</th>\n",
       "      <th>name</th>\n",
       "      <th>review</th>\n",
       "      <th>nbr_review</th>\n",
       "    </tr>\n",
       "  </thead>\n",
       "  <tbody>\n",
       "    <tr>\n",
       "      <th>18618</th>\n",
       "      <td>[{'iso_3166_1': 'RO', 'name': 'Romania'}]</td>\n",
       "      <td>2009-12-17</td>\n",
       "      <td>0.0</td>\n",
       "      <td>60.0</td>\n",
       "      <td>The World According to Ion B.</td>\n",
       "      <td>8.3</td>\n",
       "      <td>2.0</td>\n",
       "    </tr>\n",
       "    <tr>\n",
       "      <th>33663</th>\n",
       "      <td>[{'iso_3166_1': 'US', 'name': 'United States o...</td>\n",
       "      <td>2015-03-27</td>\n",
       "      <td>0.0</td>\n",
       "      <td>85.0</td>\n",
       "      <td>Nightlight</td>\n",
       "      <td>4.8</td>\n",
       "      <td>30.0</td>\n",
       "    </tr>\n",
       "    <tr>\n",
       "      <th>32991</th>\n",
       "      <td>[{'iso_3166_1': 'IT', 'name': 'Italy'}, {'iso_...</td>\n",
       "      <td>1968-04-19</td>\n",
       "      <td>0.0</td>\n",
       "      <td>81.0</td>\n",
       "      <td>Vengeance</td>\n",
       "      <td>0.0</td>\n",
       "      <td>0.0</td>\n",
       "    </tr>\n",
       "    <tr>\n",
       "      <th>44809</th>\n",
       "      <td>[]</td>\n",
       "      <td>1971-06-22</td>\n",
       "      <td>0.0</td>\n",
       "      <td>113.0</td>\n",
       "      <td>Scandalous John</td>\n",
       "      <td>0.0</td>\n",
       "      <td>0.0</td>\n",
       "    </tr>\n",
       "    <tr>\n",
       "      <th>33049</th>\n",
       "      <td>[{'iso_3166_1': 'US', 'name': 'United States o...</td>\n",
       "      <td>2015-09-16</td>\n",
       "      <td>5578519.0</td>\n",
       "      <td>115.0</td>\n",
       "      <td>Pawn Sacrifice</td>\n",
       "      <td>6.7</td>\n",
       "      <td>272.0</td>\n",
       "    </tr>\n",
       "  </tbody>\n",
       "</table>\n",
       "</div>"
      ],
      "text/plain": [
       "                                               countries release_date  \\\n",
       "18618          [{'iso_3166_1': 'RO', 'name': 'Romania'}]   2009-12-17   \n",
       "33663  [{'iso_3166_1': 'US', 'name': 'United States o...   2015-03-27   \n",
       "32991  [{'iso_3166_1': 'IT', 'name': 'Italy'}, {'iso_...   1968-04-19   \n",
       "44809                                                 []   1971-06-22   \n",
       "33049  [{'iso_3166_1': 'US', 'name': 'United States o...   2015-09-16   \n",
       "\n",
       "         revenue  runtime                           name  review  nbr_review  \n",
       "18618        0.0     60.0  The World According to Ion B.     8.3         2.0  \n",
       "33663        0.0     85.0                     Nightlight     4.8        30.0  \n",
       "32991        0.0     81.0                      Vengeance     0.0         0.0  \n",
       "44809        0.0    113.0                Scandalous John     0.0         0.0  \n",
       "33049  5578519.0    115.0                 Pawn Sacrifice     6.7       272.0  "
      ]
     },
     "metadata": {},
     "output_type": "display_data"
    },
    {
     "data": {
      "text/plain": [
       "(45466, 7)"
      ]
     },
     "metadata": {},
     "output_type": "display_data"
    },
    {
     "name": "stdout",
     "output_type": "stream",
     "text": [
      "<class 'pandas.core.frame.DataFrame'>\n",
      "RangeIndex: 45466 entries, 0 to 45465\n",
      "Data columns (total 7 columns):\n",
      " #   Column        Non-Null Count  Dtype  \n",
      "---  ------        --------------  -----  \n",
      " 0   countries     45463 non-null  object \n",
      " 1   release_date  45379 non-null  object \n",
      " 2   revenue       45460 non-null  float64\n",
      " 3   runtime       45203 non-null  float64\n",
      " 4   name          45460 non-null  object \n",
      " 5   review        45460 non-null  float64\n",
      " 6   nbr_review    45460 non-null  float64\n",
      "dtypes: float64(4), object(3)\n",
      "memory usage: 2.4+ MB\n"
     ]
    },
    {
     "data": {
      "text/plain": [
       "None"
      ]
     },
     "metadata": {},
     "output_type": "display_data"
    }
   ],
   "source": [
    "movies_lens_vanilla = pd.read_csv(MOVIE_LENS, usecols=['title', 'release_date', 'production_countries', 'revenue', 'runtime',\n",
    "                                                      'vote_average', 'vote_count'])\n",
    "movies_lens_vanilla = movies_lens_vanilla.rename(columns={'production_countries': 'countries',                                                     \n",
    "                                                         'title': 'name',\n",
    "                                                         'vote_average': 'review',\n",
    "                                                         'vote_count': 'nbr_review'})\n",
    "display(movies_lens_vanilla.sample(5))\n",
    "display(movies_lens_vanilla.shape)\n",
    "display(movies_lens_vanilla.info())\n"
   ]
  },
  {
   "cell_type": "markdown",
   "metadata": {},
   "source": [
    "- Keep only relevant columns, check budget and runtime"
   ]
  },
  {
   "cell_type": "code",
   "execution_count": 34,
   "metadata": {},
   "outputs": [
    {
     "data": {
      "text/html": [
       "<div>\n",
       "<style scoped>\n",
       "    .dataframe tbody tr th:only-of-type {\n",
       "        vertical-align: middle;\n",
       "    }\n",
       "\n",
       "    .dataframe tbody tr th {\n",
       "        vertical-align: top;\n",
       "    }\n",
       "\n",
       "    .dataframe thead th {\n",
       "        text-align: right;\n",
       "    }\n",
       "</style>\n",
       "<table border=\"1\" class=\"dataframe\">\n",
       "  <thead>\n",
       "    <tr style=\"text-align: right;\">\n",
       "      <th></th>\n",
       "      <th>countries</th>\n",
       "      <th>revenue</th>\n",
       "      <th>runtime</th>\n",
       "      <th>name</th>\n",
       "      <th>review</th>\n",
       "      <th>nbr_review</th>\n",
       "      <th>year</th>\n",
       "    </tr>\n",
       "  </thead>\n",
       "  <tbody>\n",
       "    <tr>\n",
       "      <th>6348</th>\n",
       "      <td>[{'iso_3166_1': 'RU', 'name': 'Russia'}]</td>\n",
       "      <td>13218980.0</td>\n",
       "      <td>100.0</td>\n",
       "      <td>Soulless</td>\n",
       "      <td>5.5</td>\n",
       "      <td>25.0</td>\n",
       "      <td>2012</td>\n",
       "    </tr>\n",
       "    <tr>\n",
       "      <th>4176</th>\n",
       "      <td>[{'iso_3166_1': 'US', 'name': 'United States o...</td>\n",
       "      <td>5364858.0</td>\n",
       "      <td>95.0</td>\n",
       "      <td>Diary of the Dead</td>\n",
       "      <td>5.4</td>\n",
       "      <td>194.0</td>\n",
       "      <td>2007</td>\n",
       "    </tr>\n",
       "    <tr>\n",
       "      <th>2152</th>\n",
       "      <td>[{'iso_3166_1': 'DE', 'name': 'Germany'}, {'is...</td>\n",
       "      <td>60780981.0</td>\n",
       "      <td>89.0</td>\n",
       "      <td>Zoolander</td>\n",
       "      <td>6.1</td>\n",
       "      <td>1363.0</td>\n",
       "      <td>2001</td>\n",
       "    </tr>\n",
       "    <tr>\n",
       "      <th>5269</th>\n",
       "      <td>[{'iso_3166_1': 'AE', 'name': 'United Arab Emi...</td>\n",
       "      <td>149217355.0</td>\n",
       "      <td>95.0</td>\n",
       "      <td>Ghost Rider: Spirit of Vengeance</td>\n",
       "      <td>4.7</td>\n",
       "      <td>1163.0</td>\n",
       "      <td>2011</td>\n",
       "    </tr>\n",
       "    <tr>\n",
       "      <th>523</th>\n",
       "      <td>[{'iso_3166_1': 'US', 'name': 'United States o...</td>\n",
       "      <td>32000000.0</td>\n",
       "      <td>109.0</td>\n",
       "      <td>Psycho</td>\n",
       "      <td>8.3</td>\n",
       "      <td>2405.0</td>\n",
       "      <td>1960</td>\n",
       "    </tr>\n",
       "  </tbody>\n",
       "</table>\n",
       "</div>"
      ],
      "text/plain": [
       "                                              countries      revenue  runtime  \\\n",
       "6348           [{'iso_3166_1': 'RU', 'name': 'Russia'}]   13218980.0    100.0   \n",
       "4176  [{'iso_3166_1': 'US', 'name': 'United States o...    5364858.0     95.0   \n",
       "2152  [{'iso_3166_1': 'DE', 'name': 'Germany'}, {'is...   60780981.0     89.0   \n",
       "5269  [{'iso_3166_1': 'AE', 'name': 'United Arab Emi...  149217355.0     95.0   \n",
       "523   [{'iso_3166_1': 'US', 'name': 'United States o...   32000000.0    109.0   \n",
       "\n",
       "                                  name  review  nbr_review  year  \n",
       "6348                          Soulless     5.5        25.0  2012  \n",
       "4176                 Diary of the Dead     5.4       194.0  2007  \n",
       "2152                         Zoolander     6.1      1363.0  2001  \n",
       "5269  Ghost Rider: Spirit of Vengeance     4.7      1163.0  2011  \n",
       "523                             Psycho     8.3      2405.0  1960  "
      ]
     },
     "metadata": {},
     "output_type": "display_data"
    },
    {
     "data": {
      "text/plain": [
       "(7407, 7)"
      ]
     },
     "metadata": {},
     "output_type": "display_data"
    },
    {
     "name": "stdout",
     "output_type": "stream",
     "text": [
      "<class 'pandas.core.frame.DataFrame'>\n",
      "RangeIndex: 7407 entries, 0 to 7406\n",
      "Data columns (total 7 columns):\n",
      " #   Column      Non-Null Count  Dtype  \n",
      "---  ------      --------------  -----  \n",
      " 0   countries   7407 non-null   object \n",
      " 1   revenue     7407 non-null   float64\n",
      " 2   runtime     7380 non-null   float64\n",
      " 3   name        7407 non-null   object \n",
      " 4   review      7407 non-null   float64\n",
      " 5   nbr_review  7407 non-null   float64\n",
      " 6   year        7407 non-null   int32  \n",
      "dtypes: float64(4), int32(1), object(2)\n",
      "memory usage: 376.3+ KB\n"
     ]
    },
    {
     "data": {
      "text/plain": [
       "None"
      ]
     },
     "metadata": {},
     "output_type": "display_data"
    }
   ],
   "source": [
    "movies_lens = movies_lens_vanilla.copy(deep=True)\n",
    "zero_data = movies_lens[(movies_lens.revenue <= 0)|(movies_lens.revenue.isna()|movies_lens.release_date.isna())]\n",
    "movies_lens.drop(zero_data.index,inplace=True)\n",
    "movies_lens.reset_index(drop=True, inplace=True)\n",
    "\n",
    "movies_lens.loc[:, 'year'] = movies_lens['release_date'].str.split('-', expand=True)[0]\n",
    "movies_lens.loc[:, 'year'] = movies_lens['year'].astype(int)\n",
    "movies_lens = movies_lens.drop(columns='release_date')\n",
    "\n",
    "\n",
    "movies_lens.loc[movies_lens['runtime'] < 0, 'runtime'] = 0\n",
    "movies_lens['runtime'] = movies_lens['runtime'].replace(0, pd.NA)\n",
    "\n",
    "movies_lens['year'] = movies_lens['year'].astype(int)\n",
    "movies_lens['runtime'] = pd.to_numeric(movies_lens['runtime'], errors='coerce')\n",
    "\n",
    "\n",
    "\n",
    "display(movies_lens.sample(5))\n",
    "display(movies_lens.shape)\n",
    "display(movies_lens.info())\n",
    "\n"
   ]
  },
  {
   "cell_type": "code",
   "execution_count": 158,
   "metadata": {},
   "outputs": [
    {
     "data": {
      "text/html": [
       "<div>\n",
       "<style scoped>\n",
       "    .dataframe tbody tr th:only-of-type {\n",
       "        vertical-align: middle;\n",
       "    }\n",
       "\n",
       "    .dataframe tbody tr th {\n",
       "        vertical-align: top;\n",
       "    }\n",
       "\n",
       "    .dataframe thead th {\n",
       "        text-align: right;\n",
       "    }\n",
       "</style>\n",
       "<table border=\"1\" class=\"dataframe\">\n",
       "  <thead>\n",
       "    <tr style=\"text-align: right;\">\n",
       "      <th></th>\n",
       "      <th>countries</th>\n",
       "      <th>revenue</th>\n",
       "      <th>runtime</th>\n",
       "      <th>name</th>\n",
       "      <th>review</th>\n",
       "      <th>nbr_review</th>\n",
       "      <th>year</th>\n",
       "    </tr>\n",
       "  </thead>\n",
       "  <tbody>\n",
       "    <tr>\n",
       "      <th>2995</th>\n",
       "      <td>United Kingdom</td>\n",
       "      <td>29950000.0</td>\n",
       "      <td>138.0</td>\n",
       "      <td>Those Magnificent Men in Their Flying Machines...</td>\n",
       "      <td>6.4</td>\n",
       "      <td>40.0</td>\n",
       "      <td>1965</td>\n",
       "    </tr>\n",
       "    <tr>\n",
       "      <th>1253</th>\n",
       "      <td>United States of America</td>\n",
       "      <td>248000000.0</td>\n",
       "      <td>81.0</td>\n",
       "      <td>The Blair Witch Project</td>\n",
       "      <td>6.3</td>\n",
       "      <td>1090.0</td>\n",
       "      <td>1999</td>\n",
       "    </tr>\n",
       "    <tr>\n",
       "      <th>4616</th>\n",
       "      <td>United States of America</td>\n",
       "      <td>93525586.0</td>\n",
       "      <td>136.0</td>\n",
       "      <td>The Lovely Bones</td>\n",
       "      <td>6.6</td>\n",
       "      <td>1101.0</td>\n",
       "      <td>2009</td>\n",
       "    </tr>\n",
       "    <tr>\n",
       "      <th>58</th>\n",
       "      <td>United States of America</td>\n",
       "      <td>6278139.0</td>\n",
       "      <td>113.0</td>\n",
       "      <td>Steal Big Steal Little</td>\n",
       "      <td>5.1</td>\n",
       "      <td>7.0</td>\n",
       "      <td>1995</td>\n",
       "    </tr>\n",
       "    <tr>\n",
       "      <th>4915</th>\n",
       "      <td>United States of America</td>\n",
       "      <td>67112664.0</td>\n",
       "      <td>111.0</td>\n",
       "      <td>The Dilemma</td>\n",
       "      <td>5.2</td>\n",
       "      <td>306.0</td>\n",
       "      <td>2011</td>\n",
       "    </tr>\n",
       "  </tbody>\n",
       "</table>\n",
       "</div>"
      ],
      "text/plain": [
       "                     countries      revenue  runtime  \\\n",
       "2995            United Kingdom   29950000.0    138.0   \n",
       "1253  United States of America  248000000.0     81.0   \n",
       "4616  United States of America   93525586.0    136.0   \n",
       "58    United States of America    6278139.0    113.0   \n",
       "4915  United States of America   67112664.0    111.0   \n",
       "\n",
       "                                                   name  review  nbr_review  \\\n",
       "2995  Those Magnificent Men in Their Flying Machines...     6.4        40.0   \n",
       "1253                            The Blair Witch Project     6.3      1090.0   \n",
       "4616                                   The Lovely Bones     6.6      1101.0   \n",
       "58                               Steal Big Steal Little     5.1         7.0   \n",
       "4915                                        The Dilemma     5.2       306.0   \n",
       "\n",
       "      year  \n",
       "2995  1965  \n",
       "1253  1999  \n",
       "4616  2009  \n",
       "58    1995  \n",
       "4915  2011  "
      ]
     },
     "metadata": {},
     "output_type": "display_data"
    },
    {
     "data": {
      "text/plain": [
       "(7407, 7)"
      ]
     },
     "metadata": {},
     "output_type": "display_data"
    },
    {
     "name": "stdout",
     "output_type": "stream",
     "text": [
      "<class 'pandas.core.frame.DataFrame'>\n",
      "RangeIndex: 7407 entries, 0 to 7406\n",
      "Data columns (total 7 columns):\n",
      " #   Column      Non-Null Count  Dtype  \n",
      "---  ------      --------------  -----  \n",
      " 0   countries   7255 non-null   object \n",
      " 1   revenue     7407 non-null   float64\n",
      " 2   runtime     7380 non-null   float64\n",
      " 3   name        7407 non-null   object \n",
      " 4   review      7407 non-null   float64\n",
      " 5   nbr_review  7407 non-null   float64\n",
      " 6   year        7407 non-null   int32  \n",
      "dtypes: float64(4), int32(1), object(2)\n",
      "memory usage: 376.3+ KB\n"
     ]
    },
    {
     "data": {
      "text/plain": [
       "None"
      ]
     },
     "metadata": {},
     "output_type": "display_data"
    }
   ],
   "source": [
    "# Handling format\n",
    "movies_lens['countries'] = movies_lens['countries'].apply(lambda x: [country['name'] for country in ast.literal_eval(x)] if pd.notna(x) else [])\n",
    "\n",
    "# Handle multi-countries movies to keep only one country per movie (prioritize USA above others)\n",
    "movies_lens = separate_values_biased(movies_lens, 'countries', 'United States of America')\n",
    "\n",
    "display(movies_lens.sample(5))\n",
    "display(movies_lens.shape)\n",
    "display(movies_lens.info())\n"
   ]
  },
  {
   "cell_type": "markdown",
   "metadata": {},
   "source": [
    "- Keep only USA"
   ]
  },
  {
   "cell_type": "code",
   "execution_count": 159,
   "metadata": {},
   "outputs": [
    {
     "data": {
      "text/html": [
       "<div>\n",
       "<style scoped>\n",
       "    .dataframe tbody tr th:only-of-type {\n",
       "        vertical-align: middle;\n",
       "    }\n",
       "\n",
       "    .dataframe tbody tr th {\n",
       "        vertical-align: top;\n",
       "    }\n",
       "\n",
       "    .dataframe thead th {\n",
       "        text-align: right;\n",
       "    }\n",
       "</style>\n",
       "<table border=\"1\" class=\"dataframe\">\n",
       "  <thead>\n",
       "    <tr style=\"text-align: right;\">\n",
       "      <th></th>\n",
       "      <th>revenue</th>\n",
       "      <th>runtime</th>\n",
       "      <th>name</th>\n",
       "      <th>review</th>\n",
       "      <th>nbr_review</th>\n",
       "      <th>year</th>\n",
       "    </tr>\n",
       "  </thead>\n",
       "  <tbody>\n",
       "    <tr>\n",
       "      <th>3890</th>\n",
       "      <td>137587063.0</td>\n",
       "      <td>96.0</td>\n",
       "      <td>Bridge to Terabithia</td>\n",
       "      <td>7.0</td>\n",
       "      <td>1146.0</td>\n",
       "      <td>2007</td>\n",
       "    </tr>\n",
       "    <tr>\n",
       "      <th>3038</th>\n",
       "      <td>9532895.0</td>\n",
       "      <td>99.0</td>\n",
       "      <td>Matinee</td>\n",
       "      <td>6.4</td>\n",
       "      <td>52.0</td>\n",
       "      <td>1993</td>\n",
       "    </tr>\n",
       "    <tr>\n",
       "      <th>1687</th>\n",
       "      <td>12800000.0</td>\n",
       "      <td>110.0</td>\n",
       "      <td>The Sugarland Express</td>\n",
       "      <td>6.4</td>\n",
       "      <td>70.0</td>\n",
       "      <td>1974</td>\n",
       "    </tr>\n",
       "    <tr>\n",
       "      <th>2014</th>\n",
       "      <td>43455230.0</td>\n",
       "      <td>91.0</td>\n",
       "      <td>The Great Outdoors</td>\n",
       "      <td>6.4</td>\n",
       "      <td>155.0</td>\n",
       "      <td>1988</td>\n",
       "    </tr>\n",
       "    <tr>\n",
       "      <th>1482</th>\n",
       "      <td>102000000.0</td>\n",
       "      <td>111.0</td>\n",
       "      <td>The Goodbye Girl</td>\n",
       "      <td>7.3</td>\n",
       "      <td>37.0</td>\n",
       "      <td>1977</td>\n",
       "    </tr>\n",
       "  </tbody>\n",
       "</table>\n",
       "</div>"
      ],
      "text/plain": [
       "          revenue  runtime                   name  review  nbr_review  year\n",
       "3890  137587063.0     96.0   Bridge to Terabithia     7.0      1146.0  2007\n",
       "3038    9532895.0     99.0                Matinee     6.4        52.0  1993\n",
       "1687   12800000.0    110.0  The Sugarland Express     6.4        70.0  1974\n",
       "2014   43455230.0     91.0     The Great Outdoors     6.4       155.0  1988\n",
       "1482  102000000.0    111.0       The Goodbye Girl     7.3        37.0  1977"
      ]
     },
     "metadata": {},
     "output_type": "display_data"
    },
    {
     "data": {
      "text/plain": [
       "(5623, 6)"
      ]
     },
     "metadata": {},
     "output_type": "display_data"
    },
    {
     "name": "stdout",
     "output_type": "stream",
     "text": [
      "<class 'pandas.core.frame.DataFrame'>\n",
      "Int64Index: 5623 entries, 0 to 7396\n",
      "Data columns (total 6 columns):\n",
      " #   Column      Non-Null Count  Dtype  \n",
      "---  ------      --------------  -----  \n",
      " 0   revenue     5623 non-null   float64\n",
      " 1   runtime     5623 non-null   float64\n",
      " 2   name        5623 non-null   object \n",
      " 3   review      5623 non-null   float64\n",
      " 4   nbr_review  5623 non-null   float64\n",
      " 5   year        5623 non-null   int32  \n",
      "dtypes: float64(4), int32(1), object(1)\n",
      "memory usage: 285.5+ KB\n"
     ]
    },
    {
     "data": {
      "text/plain": [
       "None"
      ]
     },
     "metadata": {},
     "output_type": "display_data"
    }
   ],
   "source": [
    "movies_lens = movies_lens[movies_lens['countries']=='United States of America'].drop(\n",
    "columns='countries')\n",
    "\n",
    "display(movies_lens.sample(5))\n",
    "display(movies_lens.shape)\n",
    "display(movies_lens.info())\n",
    "\n"
   ]
  },
  {
   "cell_type": "markdown",
   "metadata": {},
   "source": [
    "- Check if there are any duplicates"
   ]
  },
  {
   "cell_type": "code",
   "execution_count": 35,
   "metadata": {},
   "outputs": [
    {
     "name": "stdout",
     "output_type": "stream",
     "text": [
      "Rows with real duplicates: \n",
      "                                             name  year  runtime\n",
      "415                            A Farewell to Arms  1932     89.0\n",
      "1903                Pokémon: Spell of the Unknown  2000     93.0\n",
      "1998                         Camille Claudel 1915  2013     95.0\n",
      "2301                                Clockstoppers  2002     94.0\n",
      "2444  Pokémon 4Ever: Celebi - Voice of the Forest  2001     75.0\n",
      "2548              Confessions of a Dangerous Mind  2002    113.0\n",
      "3021                                  Le Samouraï  1967    105.0\n",
      "3336                                  Le Samouraï  1967    105.0\n",
      "3774                                   Black Gold  2011    130.0\n",
      "4721                           A Farewell to Arms  1932     89.0\n",
      "5478                                 The Congress  2013    122.0\n",
      "5620                                   Black Gold  2011    130.0\n",
      "5771                                 The Congress  2013    122.0\n",
      "5976                         Camille Claudel 1915  2013     95.0\n",
      "6064                                Force Majeure  2014    118.0\n",
      "6692                                Clockstoppers  2002     94.0\n",
      "6695              Confessions of a Dangerous Mind  2002    113.0\n",
      "7380                Pokémon: Spell of the Unknown  2000     93.0\n",
      "7381  Pokémon 4Ever: Celebi - Voice of the Forest  2001     75.0\n",
      "7400                                Force Majeure  2014    118.0\n",
      "--------------------------------------------------------------------------------\n"
     ]
    },
    {
     "data": {
      "text/plain": [
       "None"
      ]
     },
     "metadata": {},
     "output_type": "display_data"
    }
   ],
   "source": [
    "display(check_doublons(movies_lens, ['name'], 'year', 'runtime'))\n"
   ]
  },
  {
   "cell_type": "code",
   "execution_count": 36,
   "metadata": {},
   "outputs": [
    {
     "name": "stdout",
     "output_type": "stream",
     "text": [
      "Fusing duplicates: \n",
      "Duplicates fused successfully.\n",
      "--------------------------------------------------------------------------------\n",
      "No duplicates\n",
      "--------------------------------------------------------------------------------\n"
     ]
    }
   ],
   "source": [
    "movies_lens = fuse_duplicates(movies_lens, col_check=['name'], year='year', runtime='runtime',\n",
    "                         col_len=[], col_null=['revenue', 'review', 'nbr_review'])\n",
    "check_doublons(movies_lens, ['name'], 'year', 'runtime')\n"
   ]
  },
  {
   "cell_type": "markdown",
   "metadata": {},
   "source": [
    "- Check release year distribution"
   ]
  },
  {
   "cell_type": "code",
   "execution_count": 37,
   "metadata": {},
   "outputs": [
    {
     "data": {
      "image/png": "[encoded data removed]",
      "text/plain": [
       "<Figure size 720x432 with 1 Axes>"
      ]
     },
     "metadata": {
      "needs_background": "light"
     },
     "output_type": "display_data"
    }
   ],
   "source": [
    "plt.figure(figsize=(10, 6))\n",
    "plt.hist(movies_lens['year'], color='skyblue', edgecolor='skyblue')\n",
    "plt.xlabel(\"Release Year\")\n",
    "plt.ylabel(\"Frequency\")\n",
    "plt.title(\"Distribution of Release Years\")\n",
    "plt.grid(axis='y', alpha=0.75)\n",
    "plt.show()\n"
   ]
  },
  {
   "cell_type": "markdown",
   "metadata": {},
   "source": [
    "### c) Merging the two extra dataframes"
   ]
  },
  {
   "cell_type": "markdown",
   "metadata": {},
   "source": [
    "Now that the two extra datasets are clean, let's merge them into the annex dataframe."
   ]
  },
  {
   "cell_type": "code",
   "execution_count": 166,
   "metadata": {},
   "outputs": [
    {
     "data": {
      "text/html": [
       "<div>\n",
       "<style scoped>\n",
       "    .dataframe tbody tr th:only-of-type {\n",
       "        vertical-align: middle;\n",
       "    }\n",
       "\n",
       "    .dataframe tbody tr th {\n",
       "        vertical-align: top;\n",
       "    }\n",
       "\n",
       "    .dataframe thead th {\n",
       "        text-align: right;\n",
       "    }\n",
       "</style>\n",
       "<table border=\"1\" class=\"dataframe\">\n",
       "  <thead>\n",
       "    <tr style=\"text-align: right;\">\n",
       "      <th></th>\n",
       "      <th>name</th>\n",
       "      <th>year</th>\n",
       "      <th>review_x</th>\n",
       "      <th>nbr_review_x</th>\n",
       "      <th>countries</th>\n",
       "      <th>revenue_x</th>\n",
       "      <th>runtime</th>\n",
       "      <th>revenue_y</th>\n",
       "      <th>review_y</th>\n",
       "      <th>nbr_review_y</th>\n",
       "    </tr>\n",
       "  </thead>\n",
       "  <tbody>\n",
       "    <tr>\n",
       "      <th>4920</th>\n",
       "      <td>War Dogs</td>\n",
       "      <td>2016</td>\n",
       "      <td>7.1</td>\n",
       "      <td>188000.0</td>\n",
       "      <td>United States</td>\n",
       "      <td>86234523.0</td>\n",
       "      <td>114.0</td>\n",
       "      <td>86234523.0</td>\n",
       "      <td>6.8</td>\n",
       "      <td>1392.0</td>\n",
       "    </tr>\n",
       "    <tr>\n",
       "      <th>2453</th>\n",
       "      <td>Jack Frost</td>\n",
       "      <td>1998</td>\n",
       "      <td>5.4</td>\n",
       "      <td>34000.0</td>\n",
       "      <td>United States</td>\n",
       "      <td>34562556.0</td>\n",
       "      <td>101.0</td>\n",
       "      <td>NaN</td>\n",
       "      <td>NaN</td>\n",
       "      <td>NaN</td>\n",
       "    </tr>\n",
       "    <tr>\n",
       "      <th>4845</th>\n",
       "      <td>Maggie</td>\n",
       "      <td>2015</td>\n",
       "      <td>5.6</td>\n",
       "      <td>43000.0</td>\n",
       "      <td>United States</td>\n",
       "      <td>1663165.0</td>\n",
       "      <td>95.0</td>\n",
       "      <td>187112.0</td>\n",
       "      <td>5.2</td>\n",
       "      <td>604.0</td>\n",
       "    </tr>\n",
       "    <tr>\n",
       "      <th>7475</th>\n",
       "      <td>Wreck-It Ralph</td>\n",
       "      <td>2012</td>\n",
       "      <td>NaN</td>\n",
       "      <td>NaN</td>\n",
       "      <td>NaN</td>\n",
       "      <td>NaN</td>\n",
       "      <td>108.0</td>\n",
       "      <td>471222889.0</td>\n",
       "      <td>7.1</td>\n",
       "      <td>4656.0</td>\n",
       "    </tr>\n",
       "    <tr>\n",
       "      <th>2766</th>\n",
       "      <td>Beautiful</td>\n",
       "      <td>2000</td>\n",
       "      <td>5.6</td>\n",
       "      <td>3700.0</td>\n",
       "      <td>United States</td>\n",
       "      <td>3169930.0</td>\n",
       "      <td>112.0</td>\n",
       "      <td>NaN</td>\n",
       "      <td>NaN</td>\n",
       "      <td>NaN</td>\n",
       "    </tr>\n",
       "  </tbody>\n",
       "</table>\n",
       "</div>"
      ],
      "text/plain": [
       "                name  year  review_x  nbr_review_x      countries   revenue_x  \\\n",
       "4920        War Dogs  2016       7.1      188000.0  United States  86234523.0   \n",
       "2453      Jack Frost  1998       5.4       34000.0  United States  34562556.0   \n",
       "4845          Maggie  2015       5.6       43000.0  United States   1663165.0   \n",
       "7475  Wreck-It Ralph  2012       NaN           NaN            NaN         NaN   \n",
       "2766       Beautiful  2000       5.6        3700.0  United States   3169930.0   \n",
       "\n",
       "      runtime    revenue_y  review_y  nbr_review_y  \n",
       "4920    114.0   86234523.0       6.8        1392.0  \n",
       "2453    101.0          NaN       NaN           NaN  \n",
       "4845     95.0     187112.0       5.2         604.0  \n",
       "7475    108.0  471222889.0       7.1        4656.0  \n",
       "2766    112.0          NaN       NaN           NaN  "
      ]
     },
     "metadata": {},
     "output_type": "display_data"
    },
    {
     "data": {
      "text/plain": [
       "(8136, 10)"
      ]
     },
     "metadata": {},
     "output_type": "display_data"
    },
    {
     "name": "stdout",
     "output_type": "stream",
     "text": [
      "<class 'pandas.core.frame.DataFrame'>\n",
      "Int64Index: 8136 entries, 0 to 8135\n",
      "Data columns (total 10 columns):\n",
      " #   Column        Non-Null Count  Dtype  \n",
      "---  ------        --------------  -----  \n",
      " 0   name          8136 non-null   object \n",
      " 1   year          8136 non-null   int64  \n",
      " 2   review_x      5377 non-null   float64\n",
      " 3   nbr_review_x  5377 non-null   float64\n",
      " 4   countries     5377 non-null   object \n",
      " 5   revenue_x     5377 non-null   float64\n",
      " 6   runtime       8135 non-null   float64\n",
      " 7   revenue_y     5619 non-null   float64\n",
      " 8   review_y      5619 non-null   float64\n",
      " 9   nbr_review_y  5619 non-null   float64\n",
      "dtypes: float64(7), int64(1), object(2)\n",
      "memory usage: 699.2+ KB\n"
     ]
    },
    {
     "data": {
      "text/plain": [
       "None"
      ]
     },
     "metadata": {},
     "output_type": "display_data"
    }
   ],
   "source": [
    "annex = pd.merge(movies_stats, movies_lens, how='outer', on=['name', 'year', 'runtime'])\n",
    "\n",
    "display(annex.sample(5))\n",
    "display(annex.shape)\n",
    "display(annex.info())\n"
   ]
  },
  {
   "cell_type": "markdown",
   "metadata": {},
   "source": [
    "- Let's merge the revenue column"
   ]
  },
  {
   "cell_type": "code",
   "execution_count": 167,
   "metadata": {},
   "outputs": [
    {
     "data": {
      "text/html": [
       "<div>\n",
       "<style scoped>\n",
       "    .dataframe tbody tr th:only-of-type {\n",
       "        vertical-align: middle;\n",
       "    }\n",
       "\n",
       "    .dataframe tbody tr th {\n",
       "        vertical-align: top;\n",
       "    }\n",
       "\n",
       "    .dataframe thead th {\n",
       "        text-align: right;\n",
       "    }\n",
       "</style>\n",
       "<table border=\"1\" class=\"dataframe\">\n",
       "  <thead>\n",
       "    <tr style=\"text-align: right;\">\n",
       "      <th></th>\n",
       "      <th>name</th>\n",
       "      <th>year</th>\n",
       "      <th>review_x</th>\n",
       "      <th>nbr_review_x</th>\n",
       "      <th>runtime</th>\n",
       "      <th>review_y</th>\n",
       "      <th>nbr_review_y</th>\n",
       "      <th>revenue</th>\n",
       "    </tr>\n",
       "  </thead>\n",
       "  <tbody>\n",
       "    <tr>\n",
       "      <th>432</th>\n",
       "      <td>The River Rat</td>\n",
       "      <td>1984</td>\n",
       "      <td>6.3</td>\n",
       "      <td>866.0</td>\n",
       "      <td>93.0</td>\n",
       "      <td>NaN</td>\n",
       "      <td>NaN</td>\n",
       "      <td>1142944.0</td>\n",
       "    </tr>\n",
       "    <tr>\n",
       "      <th>4076</th>\n",
       "      <td>The Fighter</td>\n",
       "      <td>2010</td>\n",
       "      <td>7.8</td>\n",
       "      <td>348000.0</td>\n",
       "      <td>116.0</td>\n",
       "      <td>7.2</td>\n",
       "      <td>1512.0</td>\n",
       "      <td>111403939.0</td>\n",
       "    </tr>\n",
       "    <tr>\n",
       "      <th>3897</th>\n",
       "      <td>Jennifer's Body</td>\n",
       "      <td>2009</td>\n",
       "      <td>5.3</td>\n",
       "      <td>121000.0</td>\n",
       "      <td>102.0</td>\n",
       "      <td>NaN</td>\n",
       "      <td>NaN</td>\n",
       "      <td>31556061.0</td>\n",
       "    </tr>\n",
       "    <tr>\n",
       "      <th>3046</th>\n",
       "      <td>Showtime</td>\n",
       "      <td>2002</td>\n",
       "      <td>5.5</td>\n",
       "      <td>61000.0</td>\n",
       "      <td>95.0</td>\n",
       "      <td>5.3</td>\n",
       "      <td>286.0</td>\n",
       "      <td>77813702.0</td>\n",
       "    </tr>\n",
       "    <tr>\n",
       "      <th>4559</th>\n",
       "      <td>The Book Thief</td>\n",
       "      <td>2013</td>\n",
       "      <td>7.5</td>\n",
       "      <td>130000.0</td>\n",
       "      <td>131.0</td>\n",
       "      <td>7.4</td>\n",
       "      <td>1528.0</td>\n",
       "      <td>76586316.0</td>\n",
       "    </tr>\n",
       "  </tbody>\n",
       "</table>\n",
       "</div>"
      ],
      "text/plain": [
       "                 name  year  review_x  nbr_review_x  runtime  review_y  \\\n",
       "432     The River Rat  1984       6.3         866.0     93.0       NaN   \n",
       "4076      The Fighter  2010       7.8      348000.0    116.0       7.2   \n",
       "3897  Jennifer's Body  2009       5.3      121000.0    102.0       NaN   \n",
       "3046         Showtime  2002       5.5       61000.0     95.0       5.3   \n",
       "4559   The Book Thief  2013       7.5      130000.0    131.0       7.4   \n",
       "\n",
       "      nbr_review_y      revenue  \n",
       "432            NaN    1142944.0  \n",
       "4076        1512.0  111403939.0  \n",
       "3897           NaN   31556061.0  \n",
       "3046         286.0   77813702.0  \n",
       "4559        1528.0   76586316.0  "
      ]
     },
     "metadata": {},
     "output_type": "display_data"
    },
    {
     "data": {
      "text/plain": [
       "(8136, 8)"
      ]
     },
     "metadata": {},
     "output_type": "display_data"
    },
    {
     "name": "stdout",
     "output_type": "stream",
     "text": [
      "<class 'pandas.core.frame.DataFrame'>\n",
      "Int64Index: 8136 entries, 0 to 8135\n",
      "Data columns (total 8 columns):\n",
      " #   Column        Non-Null Count  Dtype  \n",
      "---  ------        --------------  -----  \n",
      " 0   name          8136 non-null   object \n",
      " 1   year          8136 non-null   int64  \n",
      " 2   review_x      5377 non-null   float64\n",
      " 3   nbr_review_x  5377 non-null   float64\n",
      " 4   runtime       8135 non-null   float64\n",
      " 5   review_y      5619 non-null   float64\n",
      " 6   nbr_review_y  5619 non-null   float64\n",
      " 7   revenue       8136 non-null   float64\n",
      "dtypes: float64(6), int64(1), object(1)\n",
      "memory usage: 572.1+ KB\n"
     ]
    },
    {
     "data": {
      "text/plain": [
       "None"
      ]
     },
     "metadata": {},
     "output_type": "display_data"
    }
   ],
   "source": [
    "annex['revenue'] = annex.apply(lambda row: fuse_columns(row[f'revenue_x'], row[f'revenue_y'], 'revenue'), axis=1)\n",
    "\n",
    "annex = annex.drop(columns=['revenue_x', 'revenue_y', 'countries'])\n",
    "display(annex.sample(5))\n",
    "display(annex.shape)\n",
    "display(annex.info())\n"
   ]
  },
  {
   "cell_type": "markdown",
   "metadata": {},
   "source": [
    "- Let's merge the reviews columns."
   ]
  },
  {
   "cell_type": "code",
   "execution_count": 168,
   "metadata": {},
   "outputs": [
    {
     "data": {
      "text/html": [
       "<div>\n",
       "<style scoped>\n",
       "    .dataframe tbody tr th:only-of-type {\n",
       "        vertical-align: middle;\n",
       "    }\n",
       "\n",
       "    .dataframe tbody tr th {\n",
       "        vertical-align: top;\n",
       "    }\n",
       "\n",
       "    .dataframe thead th {\n",
       "        text-align: right;\n",
       "    }\n",
       "</style>\n",
       "<table border=\"1\" class=\"dataframe\">\n",
       "  <thead>\n",
       "    <tr style=\"text-align: right;\">\n",
       "      <th></th>\n",
       "      <th>name</th>\n",
       "      <th>year</th>\n",
       "      <th>runtime</th>\n",
       "      <th>revenue</th>\n",
       "      <th>review</th>\n",
       "      <th>nbr_review</th>\n",
       "    </tr>\n",
       "  </thead>\n",
       "  <tbody>\n",
       "    <tr>\n",
       "      <th>7024</th>\n",
       "      <td>The Perfect Holiday</td>\n",
       "      <td>2007</td>\n",
       "      <td>96.0</td>\n",
       "      <td>5800000.0</td>\n",
       "      <td>5.700000</td>\n",
       "      <td>10.0</td>\n",
       "    </tr>\n",
       "    <tr>\n",
       "      <th>75</th>\n",
       "      <td>Blow Out</td>\n",
       "      <td>1981</td>\n",
       "      <td>108.0</td>\n",
       "      <td>12000000.0</td>\n",
       "      <td>7.399486</td>\n",
       "      <td>47243.0</td>\n",
       "    </tr>\n",
       "    <tr>\n",
       "      <th>1580</th>\n",
       "      <td>Whispers in the Dark</td>\n",
       "      <td>1992</td>\n",
       "      <td>103.0</td>\n",
       "      <td>11124511.0</td>\n",
       "      <td>5.600000</td>\n",
       "      <td>2000.0</td>\n",
       "    </tr>\n",
       "    <tr>\n",
       "      <th>7861</th>\n",
       "      <td>5 Flights Up</td>\n",
       "      <td>2014</td>\n",
       "      <td>92.0</td>\n",
       "      <td>1020921.0</td>\n",
       "      <td>5.900000</td>\n",
       "      <td>92.0</td>\n",
       "    </tr>\n",
       "    <tr>\n",
       "      <th>6751</th>\n",
       "      <td>Fever Pitch</td>\n",
       "      <td>2005</td>\n",
       "      <td>103.0</td>\n",
       "      <td>50451307.0</td>\n",
       "      <td>5.900000</td>\n",
       "      <td>186.0</td>\n",
       "    </tr>\n",
       "  </tbody>\n",
       "</table>\n",
       "</div>"
      ],
      "text/plain": [
       "                      name  year  runtime     revenue    review  nbr_review\n",
       "7024   The Perfect Holiday  2007     96.0   5800000.0  5.700000        10.0\n",
       "75                Blow Out  1981    108.0  12000000.0  7.399486     47243.0\n",
       "1580  Whispers in the Dark  1992    103.0  11124511.0  5.600000      2000.0\n",
       "7861          5 Flights Up  2014     92.0   1020921.0  5.900000        92.0\n",
       "6751           Fever Pitch  2005    103.0  50451307.0  5.900000       186.0"
      ]
     },
     "metadata": {},
     "output_type": "display_data"
    },
    {
     "data": {
      "text/plain": [
       "(8136, 6)"
      ]
     },
     "metadata": {},
     "output_type": "display_data"
    },
    {
     "name": "stdout",
     "output_type": "stream",
     "text": [
      "<class 'pandas.core.frame.DataFrame'>\n",
      "Int64Index: 8136 entries, 0 to 8135\n",
      "Data columns (total 6 columns):\n",
      " #   Column      Non-Null Count  Dtype  \n",
      "---  ------      --------------  -----  \n",
      " 0   name        8136 non-null   object \n",
      " 1   year        8136 non-null   int64  \n",
      " 2   runtime     8135 non-null   float64\n",
      " 3   revenue     8136 non-null   float64\n",
      " 4   review      8122 non-null   float64\n",
      " 5   nbr_review  8122 non-null   float64\n",
      "dtypes: float64(4), int64(1), object(1)\n",
      "memory usage: 444.9+ KB\n"
     ]
    },
    {
     "data": {
      "text/plain": [
       "None"
      ]
     },
     "metadata": {},
     "output_type": "display_data"
    },
    {
     "data": {
      "text/html": [
       "<div>\n",
       "<style scoped>\n",
       "    .dataframe tbody tr th:only-of-type {\n",
       "        vertical-align: middle;\n",
       "    }\n",
       "\n",
       "    .dataframe tbody tr th {\n",
       "        vertical-align: top;\n",
       "    }\n",
       "\n",
       "    .dataframe thead th {\n",
       "        text-align: right;\n",
       "    }\n",
       "</style>\n",
       "<table border=\"1\" class=\"dataframe\">\n",
       "  <thead>\n",
       "    <tr style=\"text-align: right;\">\n",
       "      <th></th>\n",
       "      <th>name</th>\n",
       "      <th>year</th>\n",
       "      <th>runtime</th>\n",
       "      <th>revenue</th>\n",
       "      <th>review</th>\n",
       "      <th>nbr_review</th>\n",
       "    </tr>\n",
       "  </thead>\n",
       "  <tbody>\n",
       "  </tbody>\n",
       "</table>\n",
       "</div>"
      ],
      "text/plain": [
       "Empty DataFrame\n",
       "Columns: [name, year, runtime, revenue, review, nbr_review]\n",
       "Index: []"
      ]
     },
     "metadata": {},
     "output_type": "display_data"
    },
    {
     "data": {
      "text/html": [
       "<div>\n",
       "<style scoped>\n",
       "    .dataframe tbody tr th:only-of-type {\n",
       "        vertical-align: middle;\n",
       "    }\n",
       "\n",
       "    .dataframe tbody tr th {\n",
       "        vertical-align: top;\n",
       "    }\n",
       "\n",
       "    .dataframe thead th {\n",
       "        text-align: right;\n",
       "    }\n",
       "</style>\n",
       "<table border=\"1\" class=\"dataframe\">\n",
       "  <thead>\n",
       "    <tr style=\"text-align: right;\">\n",
       "      <th></th>\n",
       "      <th>name</th>\n",
       "      <th>year</th>\n",
       "      <th>runtime</th>\n",
       "      <th>revenue</th>\n",
       "      <th>review</th>\n",
       "      <th>nbr_review</th>\n",
       "    </tr>\n",
       "  </thead>\n",
       "  <tbody>\n",
       "  </tbody>\n",
       "</table>\n",
       "</div>"
      ],
      "text/plain": [
       "Empty DataFrame\n",
       "Columns: [name, year, runtime, revenue, review, nbr_review]\n",
       "Index: []"
      ]
     },
     "metadata": {},
     "output_type": "display_data"
    }
   ],
   "source": [
    "\n",
    "annex = fuse_scores(annex, 'review_x', 'review_y', 'nbr_review_x', 'nbr_review_y')\n",
    "display(annex.sample(5))\n",
    "display(annex.shape)\n",
    "display(annex.info())\n",
    "display(annex[annex['review']<=0])\n",
    "display(annex[annex['nbr_review']<=0])\n"
   ]
  },
  {
   "cell_type": "markdown",
   "metadata": {},
   "source": [
    "- Check if there are any duplicates."
   ]
  },
  {
   "cell_type": "code",
   "execution_count": 170,
   "metadata": {},
   "outputs": [
    {
     "name": "stdout",
     "output_type": "stream",
     "text": [
      "No duplicates\n",
      "--------------------------------------------------------------------------------\n"
     ]
    }
   ],
   "source": [
    "check_doublons(annex, ['name'], 'year', 'runtime')\n"
   ]
  },
  {
   "cell_type": "code",
   "execution_count": 171,
   "metadata": {},
   "outputs": [
    {
     "name": "stdout",
     "output_type": "stream",
     "text": [
      "<class 'pandas.core.frame.DataFrame'>\n",
      "Int64Index: 8136 entries, 0 to 8135\n",
      "Data columns (total 6 columns):\n",
      " #   Column      Non-Null Count  Dtype  \n",
      "---  ------      --------------  -----  \n",
      " 0   name        8136 non-null   object \n",
      " 1   year        8136 non-null   int64  \n",
      " 2   runtime     8135 non-null   float64\n",
      " 3   revenue     8136 non-null   float64\n",
      " 4   review      8122 non-null   float64\n",
      " 5   nbr_review  8122 non-null   float64\n",
      "dtypes: float64(4), int64(1), object(1)\n",
      "memory usage: 444.9+ KB\n"
     ]
    },
    {
     "data": {
      "text/plain": [
       "None"
      ]
     },
     "metadata": {},
     "output_type": "display_data"
    },
    {
     "name": "stdout",
     "output_type": "stream",
     "text": [
      "<class 'pandas.core.frame.DataFrame'>\n",
      "Int64Index: 29828 entries, 0 to 74827\n",
      "Data columns (total 9 columns):\n",
      " #   Column       Non-Null Count  Dtype  \n",
      "---  ------       --------------  -----  \n",
      " 0   id_wiki      29828 non-null  int64  \n",
      " 1   id_freebase  29828 non-null  object \n",
      " 2   name         29828 non-null  object \n",
      " 3   year         29828 non-null  int32  \n",
      " 4   revenue      6779 non-null   float64\n",
      " 5   runtime      26436 non-null  object \n",
      " 6   lang         29828 non-null  object \n",
      " 7   countries    29828 non-null  object \n",
      " 8   genres       29828 non-null  object \n",
      "dtypes: float64(1), int32(1), int64(1), object(6)\n",
      "memory usage: 2.2+ MB\n"
     ]
    },
    {
     "data": {
      "text/plain": [
       "None"
      ]
     },
     "metadata": {},
     "output_type": "display_data"
    }
   ],
   "source": [
    "\n",
    "display(annex.info())\n",
    "display(movies.info())\n",
    "movies['runtime'] = pd.to_numeric(movies['runtime'], errors='coerce')\n"
   ]
  },
  {
   "cell_type": "markdown",
   "metadata": {},
   "source": [
    "Now that annex is properly merged let's do the final merge with movies dataframe"
   ]
  },
  {
   "cell_type": "code",
   "execution_count": 173,
   "metadata": {},
   "outputs": [
    {
     "data": {
      "text/html": [
       "<div>\n",
       "<style scoped>\n",
       "    .dataframe tbody tr th:only-of-type {\n",
       "        vertical-align: middle;\n",
       "    }\n",
       "\n",
       "    .dataframe tbody tr th {\n",
       "        vertical-align: top;\n",
       "    }\n",
       "\n",
       "    .dataframe thead th {\n",
       "        text-align: right;\n",
       "    }\n",
       "</style>\n",
       "<table border=\"1\" class=\"dataframe\">\n",
       "  <thead>\n",
       "    <tr style=\"text-align: right;\">\n",
       "      <th></th>\n",
       "      <th>id_wiki</th>\n",
       "      <th>id_freebase</th>\n",
       "      <th>name</th>\n",
       "      <th>year</th>\n",
       "      <th>revenue_x</th>\n",
       "      <th>runtime</th>\n",
       "      <th>lang</th>\n",
       "      <th>countries</th>\n",
       "      <th>genres</th>\n",
       "      <th>revenue_y</th>\n",
       "      <th>review</th>\n",
       "      <th>nbr_review</th>\n",
       "    </tr>\n",
       "  </thead>\n",
       "  <tbody>\n",
       "    <tr>\n",
       "      <th>7446</th>\n",
       "      <td>7306824</td>\n",
       "      <td>/m/0kv4pt</td>\n",
       "      <td>The Big Tease</td>\n",
       "      <td>2000</td>\n",
       "      <td>NaN</td>\n",
       "      <td>87.0</td>\n",
       "      <td>[English Language]</td>\n",
       "      <td>[USA, United Kingdom]</td>\n",
       "      <td>[LGBT, Mockumentary, Comedy, Indie]</td>\n",
       "      <td>NaN</td>\n",
       "      <td>NaN</td>\n",
       "      <td>NaN</td>\n",
       "    </tr>\n",
       "    <tr>\n",
       "      <th>1743</th>\n",
       "      <td>648921</td>\n",
       "      <td>/m/02_fz3</td>\n",
       "      <td>Face/Off</td>\n",
       "      <td>1997</td>\n",
       "      <td>245676146.0</td>\n",
       "      <td>140.0</td>\n",
       "      <td>[Latin Language, English Language]</td>\n",
       "      <td>[USA]</td>\n",
       "      <td>[Thriller, Crime Fiction, Tragedy, Chase Movie...</td>\n",
       "      <td>NaN</td>\n",
       "      <td>NaN</td>\n",
       "      <td>NaN</td>\n",
       "    </tr>\n",
       "    <tr>\n",
       "      <th>5994</th>\n",
       "      <td>8930957</td>\n",
       "      <td>/m/027q4dg</td>\n",
       "      <td>Twister</td>\n",
       "      <td>1989</td>\n",
       "      <td>NaN</td>\n",
       "      <td>93.0</td>\n",
       "      <td>[English Language]</td>\n",
       "      <td>[USA]</td>\n",
       "      <td>[Black comedy, Film adaptation, Drama, Comedy,...</td>\n",
       "      <td>NaN</td>\n",
       "      <td>NaN</td>\n",
       "      <td>NaN</td>\n",
       "    </tr>\n",
       "    <tr>\n",
       "      <th>4337</th>\n",
       "      <td>7693284</td>\n",
       "      <td>/m/0kvfby</td>\n",
       "      <td>Wrestling Ernest Hemingway</td>\n",
       "      <td>1993</td>\n",
       "      <td>278720.0</td>\n",
       "      <td>123.0</td>\n",
       "      <td>[English Language]</td>\n",
       "      <td>[USA]</td>\n",
       "      <td>[Drama, Romance Film, Buddy film]</td>\n",
       "      <td>278720.0</td>\n",
       "      <td>5.7</td>\n",
       "      <td>7.0</td>\n",
       "    </tr>\n",
       "    <tr>\n",
       "      <th>857</th>\n",
       "      <td>6563151</td>\n",
       "      <td>/m/0gbr99</td>\n",
       "      <td>Amityville 1992</td>\n",
       "      <td>1992</td>\n",
       "      <td>NaN</td>\n",
       "      <td>91.0</td>\n",
       "      <td>[English Language]</td>\n",
       "      <td>[USA]</td>\n",
       "      <td>[Horror]</td>\n",
       "      <td>NaN</td>\n",
       "      <td>NaN</td>\n",
       "      <td>NaN</td>\n",
       "    </tr>\n",
       "  </tbody>\n",
       "</table>\n",
       "</div>"
      ],
      "text/plain": [
       "      id_wiki id_freebase                        name  year    revenue_x  \\\n",
       "7446  7306824   /m/0kv4pt               The Big Tease  2000          NaN   \n",
       "1743   648921   /m/02_fz3                    Face/Off  1997  245676146.0   \n",
       "5994  8930957  /m/027q4dg                     Twister  1989          NaN   \n",
       "4337  7693284   /m/0kvfby  Wrestling Ernest Hemingway  1993     278720.0   \n",
       "857   6563151   /m/0gbr99             Amityville 1992  1992          NaN   \n",
       "\n",
       "      runtime                                lang              countries  \\\n",
       "7446     87.0                  [English Language]  [USA, United Kingdom]   \n",
       "1743    140.0  [Latin Language, English Language]                  [USA]   \n",
       "5994     93.0                  [English Language]                  [USA]   \n",
       "4337    123.0                  [English Language]                  [USA]   \n",
       "857      91.0                  [English Language]                  [USA]   \n",
       "\n",
       "                                                 genres  revenue_y  review  \\\n",
       "7446                [LGBT, Mockumentary, Comedy, Indie]        NaN     NaN   \n",
       "1743  [Thriller, Crime Fiction, Tragedy, Chase Movie...        NaN     NaN   \n",
       "5994  [Black comedy, Film adaptation, Drama, Comedy,...        NaN     NaN   \n",
       "4337                  [Drama, Romance Film, Buddy film]   278720.0     5.7   \n",
       "857                                            [Horror]        NaN     NaN   \n",
       "\n",
       "      nbr_review  \n",
       "7446         NaN  \n",
       "1743         NaN  \n",
       "5994         NaN  \n",
       "4337         7.0  \n",
       "857          NaN  "
      ]
     },
     "metadata": {},
     "output_type": "display_data"
    },
    {
     "data": {
      "text/plain": [
       "(29828, 12)"
      ]
     },
     "metadata": {},
     "output_type": "display_data"
    },
    {
     "name": "stdout",
     "output_type": "stream",
     "text": [
      "<class 'pandas.core.frame.DataFrame'>\n",
      "Int64Index: 29828 entries, 0 to 29827\n",
      "Data columns (total 12 columns):\n",
      " #   Column       Non-Null Count  Dtype  \n",
      "---  ------       --------------  -----  \n",
      " 0   id_wiki      29828 non-null  int64  \n",
      " 1   id_freebase  29828 non-null  object \n",
      " 2   name         29828 non-null  object \n",
      " 3   year         29828 non-null  int32  \n",
      " 4   revenue_x    6779 non-null   float64\n",
      " 5   runtime      26436 non-null  float64\n",
      " 6   lang         29828 non-null  object \n",
      " 7   countries    29828 non-null  object \n",
      " 8   genres       29828 non-null  object \n",
      " 9   revenue_y    2900 non-null   float64\n",
      " 10  review       2898 non-null   float64\n",
      " 11  nbr_review   2898 non-null   float64\n",
      "dtypes: float64(5), int32(1), int64(1), object(5)\n",
      "memory usage: 2.8+ MB\n"
     ]
    },
    {
     "data": {
      "text/plain": [
       "None"
      ]
     },
     "metadata": {},
     "output_type": "display_data"
    }
   ],
   "source": [
    "\n",
    "\n",
    "movies2 = pd.merge(movies, annex, on=['name', 'year', 'runtime'], how='left')\n",
    "display(movies2.sample(5))\n",
    "display(movies2.shape)\n",
    "display(movies2.info())\n"
   ]
  },
  {
   "cell_type": "markdown",
   "metadata": {},
   "source": [
    "- Fusing the box office data"
   ]
  },
  {
   "cell_type": "code",
   "execution_count": 175,
   "metadata": {},
   "outputs": [
    {
     "data": {
      "text/html": [
       "<div>\n",
       "<style scoped>\n",
       "    .dataframe tbody tr th:only-of-type {\n",
       "        vertical-align: middle;\n",
       "    }\n",
       "\n",
       "    .dataframe tbody tr th {\n",
       "        vertical-align: top;\n",
       "    }\n",
       "\n",
       "    .dataframe thead th {\n",
       "        text-align: right;\n",
       "    }\n",
       "</style>\n",
       "<table border=\"1\" class=\"dataframe\">\n",
       "  <thead>\n",
       "    <tr style=\"text-align: right;\">\n",
       "      <th></th>\n",
       "      <th>id_wiki</th>\n",
       "      <th>id_freebase</th>\n",
       "      <th>name</th>\n",
       "      <th>year</th>\n",
       "      <th>runtime</th>\n",
       "      <th>lang</th>\n",
       "      <th>countries</th>\n",
       "      <th>genres</th>\n",
       "      <th>review</th>\n",
       "      <th>nbr_review</th>\n",
       "      <th>revenue</th>\n",
       "    </tr>\n",
       "  </thead>\n",
       "  <tbody>\n",
       "    <tr>\n",
       "      <th>12216</th>\n",
       "      <td>24133099</td>\n",
       "      <td>/m/07kh54f</td>\n",
       "      <td>Journey to Mecca</td>\n",
       "      <td>2009</td>\n",
       "      <td>45.0</td>\n",
       "      <td>[Arabic Language, English Language]</td>\n",
       "      <td>[USA]</td>\n",
       "      <td>[Drama]</td>\n",
       "      <td>NaN</td>\n",
       "      <td>NaN</td>\n",
       "      <td>&lt;NA&gt;</td>\n",
       "    </tr>\n",
       "    <tr>\n",
       "      <th>22549</th>\n",
       "      <td>13776027</td>\n",
       "      <td>/m/03chz55</td>\n",
       "      <td>Moonshine</td>\n",
       "      <td>1918</td>\n",
       "      <td>23.0</td>\n",
       "      <td>[Silent film, English Language]</td>\n",
       "      <td>[USA]</td>\n",
       "      <td>[Short Film, Silent film, Indie, Black-and-whi...</td>\n",
       "      <td>NaN</td>\n",
       "      <td>NaN</td>\n",
       "      <td>&lt;NA&gt;</td>\n",
       "    </tr>\n",
       "    <tr>\n",
       "      <th>21345</th>\n",
       "      <td>4118248</td>\n",
       "      <td>/m/0bk2k2</td>\n",
       "      <td>Brother Bear 2</td>\n",
       "      <td>2006</td>\n",
       "      <td>73.0</td>\n",
       "      <td>[English Language]</td>\n",
       "      <td>[USA]</td>\n",
       "      <td>[Family Film, Animation, Fantasy, Adventure, A...</td>\n",
       "      <td>NaN</td>\n",
       "      <td>NaN</td>\n",
       "      <td>&lt;NA&gt;</td>\n",
       "    </tr>\n",
       "    <tr>\n",
       "      <th>24732</th>\n",
       "      <td>25934563</td>\n",
       "      <td>/m/0b6g523</td>\n",
       "      <td>Pig Hunt</td>\n",
       "      <td>2008</td>\n",
       "      <td>100.0</td>\n",
       "      <td>[English Language]</td>\n",
       "      <td>[USA]</td>\n",
       "      <td>[Thriller, B-movie, Action, Horror]</td>\n",
       "      <td>NaN</td>\n",
       "      <td>NaN</td>\n",
       "      <td>&lt;NA&gt;</td>\n",
       "    </tr>\n",
       "    <tr>\n",
       "      <th>19466</th>\n",
       "      <td>3707686</td>\n",
       "      <td>/m/09wgy5</td>\n",
       "      <td>Vicki</td>\n",
       "      <td>1953</td>\n",
       "      <td>85.0</td>\n",
       "      <td>[English Language]</td>\n",
       "      <td>[USA]</td>\n",
       "      <td>[Thriller, Psychological thriller, Black-and-w...</td>\n",
       "      <td>NaN</td>\n",
       "      <td>NaN</td>\n",
       "      <td>&lt;NA&gt;</td>\n",
       "    </tr>\n",
       "  </tbody>\n",
       "</table>\n",
       "</div>"
      ],
      "text/plain": [
       "        id_wiki id_freebase              name  year  runtime  \\\n",
       "12216  24133099  /m/07kh54f  Journey to Mecca  2009     45.0   \n",
       "22549  13776027  /m/03chz55         Moonshine  1918     23.0   \n",
       "21345   4118248   /m/0bk2k2    Brother Bear 2  2006     73.0   \n",
       "24732  25934563  /m/0b6g523          Pig Hunt  2008    100.0   \n",
       "19466   3707686   /m/09wgy5             Vicki  1953     85.0   \n",
       "\n",
       "                                      lang countries  \\\n",
       "12216  [Arabic Language, English Language]     [USA]   \n",
       "22549      [Silent film, English Language]     [USA]   \n",
       "21345                   [English Language]     [USA]   \n",
       "24732                   [English Language]     [USA]   \n",
       "19466                   [English Language]     [USA]   \n",
       "\n",
       "                                                  genres  review  nbr_review  \\\n",
       "12216                                            [Drama]     NaN         NaN   \n",
       "22549  [Short Film, Silent film, Indie, Black-and-whi...     NaN         NaN   \n",
       "21345  [Family Film, Animation, Fantasy, Adventure, A...     NaN         NaN   \n",
       "24732                [Thriller, B-movie, Action, Horror]     NaN         NaN   \n",
       "19466  [Thriller, Psychological thriller, Black-and-w...     NaN         NaN   \n",
       "\n",
       "      revenue  \n",
       "12216    <NA>  \n",
       "22549    <NA>  \n",
       "21345    <NA>  \n",
       "24732    <NA>  \n",
       "19466    <NA>  "
      ]
     },
     "metadata": {},
     "output_type": "display_data"
    },
    {
     "data": {
      "text/plain": [
       "(29828, 11)"
      ]
     },
     "metadata": {},
     "output_type": "display_data"
    },
    {
     "name": "stdout",
     "output_type": "stream",
     "text": [
      "<class 'pandas.core.frame.DataFrame'>\n",
      "Int64Index: 29828 entries, 0 to 29827\n",
      "Data columns (total 11 columns):\n",
      " #   Column       Non-Null Count  Dtype  \n",
      "---  ------       --------------  -----  \n",
      " 0   id_wiki      29828 non-null  int64  \n",
      " 1   id_freebase  29828 non-null  object \n",
      " 2   name         29828 non-null  object \n",
      " 3   year         29828 non-null  int32  \n",
      " 4   runtime      26436 non-null  float64\n",
      " 5   lang         29828 non-null  object \n",
      " 6   countries    29828 non-null  object \n",
      " 7   genres       29828 non-null  object \n",
      " 8   review       2898 non-null   float64\n",
      " 9   nbr_review   2898 non-null   float64\n",
      " 10  revenue      7285 non-null   object \n",
      "dtypes: float64(3), int32(1), int64(1), object(6)\n",
      "memory usage: 2.6+ MB\n"
     ]
    },
    {
     "data": {
      "text/plain": [
       "None"
      ]
     },
     "metadata": {},
     "output_type": "display_data"
    }
   ],
   "source": [
    "\n",
    "\n",
    "movies2['revenue'] = movies2.apply(lambda row: fuse_columns(row[f'revenue_x'], row[f'revenue_y'], 'revenue'), axis=1)\n",
    "\n",
    "movies2 = movies2.drop(columns=['revenue_x', 'revenue_y'])\n",
    "\n",
    "display(movies2.sample(5))\n",
    "display(movies2.shape)\n",
    "display(movies2.info())\n",
    "\n"
   ]
  },
  {
   "cell_type": "markdown",
   "metadata": {},
   "source": [
    "- Vizualize improvement on missing revenue data post-merge"
   ]
  },
  {
   "cell_type": "code",
   "execution_count": 176,
   "metadata": {},
   "outputs": [
    {
     "data": {
      "image/png": "[encoded data removed]",
      "text/plain": [
       "<Figure size 1008x432 with 1 Axes>"
      ]
     },
     "metadata": {
      "needs_background": "light"
     },
     "output_type": "display_data"
    }
   ],
   "source": [
    "\n",
    "\n",
    "\n",
    "missing_revenue_USA_merge = calculate_missing_percentage(movies2, 'year', 'revenue')\n",
    "\n",
    "plt.figure(figsize=(14, 6))\n",
    "plt.plot(missing_revenue_all.index, missing_revenue_all[\"revenue\"], linestyle='-', color='skyblue', label='World')\n",
    "plt.plot(missing_revenue_USA.index, missing_revenue_USA[\"revenue\"], linestyle='--', color='r', label='USA pre-merge')\n",
    "plt.plot(missing_revenue_USA_merge.index, missing_revenue_USA_merge[\"revenue\"], linestyle='--', color='g', label='USA post-merge')\n",
    "plt.xlabel(\"Release Year\")\n",
    "plt.ylabel(\"Missing Revenue Percentage\")\n",
    "plt.title(\"Missing Revenue Percentage Over the Years\")\n",
    "plt.grid()\n",
    "plt.legend()\n",
    "plt.show()\n"
   ]
  },
  {
   "cell_type": "markdown",
   "metadata": {},
   "source": [
    "It looks better, less data is missing for the revenue !"
   ]
  },
  {
   "cell_type": "markdown",
   "metadata": {},
   "source": [
    "\n",
    "- Create a dataframe with no missing box office data"
   ]
  },
  {
   "cell_type": "code",
   "execution_count": 40,
   "metadata": {},
   "outputs": [
    {
     "ename": "NameError",
     "evalue": "name 'movies2' is not defined",
     "output_type": "error",
     "traceback": [
      "\u001b[1;31m---------------------------------------------------------------------------\u001b[0m",
      "\u001b[1;31mNameError\u001b[0m                                 Traceback (most recent call last)",
      "Input \u001b[1;32mIn [40]\u001b[0m, in \u001b[0;36m<cell line: 1>\u001b[1;34m()\u001b[0m\n\u001b[1;32m----> 1\u001b[0m movies2_clean \u001b[38;5;241m=\u001b[39m \u001b[43mmovies2\u001b[49m\u001b[38;5;241m.\u001b[39mcopy(deep\u001b[38;5;241m=\u001b[39m\u001b[38;5;28;01mTrue\u001b[39;00m)\n\u001b[0;32m      2\u001b[0m movies2_clean \u001b[38;5;241m=\u001b[39m movies2\u001b[38;5;241m.\u001b[39mdropna(subset\u001b[38;5;241m=\u001b[39m[\u001b[38;5;124m'\u001b[39m\u001b[38;5;124mrevenue\u001b[39m\u001b[38;5;124m'\u001b[39m])\u001b[38;5;241m.\u001b[39mreset_index(drop\u001b[38;5;241m=\u001b[39m\u001b[38;5;28;01mTrue\u001b[39;00m)\n\u001b[0;32m      4\u001b[0m display(movies2_clean\u001b[38;5;241m.\u001b[39msample(\u001b[38;5;241m5\u001b[39m))\n",
      "\u001b[1;31mNameError\u001b[0m: name 'movies2' is not defined"
     ]
    }
   ],
   "source": [
    "movies2_clean = movies2.copy(deep=True)\n",
    "movies2_clean = movies2.dropna(subset=['revenue']).reset_index(drop=True)\n",
    "\n",
    "display(movies2_clean.sample(5))\n",
    "display(movies2_clean.shape)\n",
    "display(movies2_clean.info())\n"
   ]
  },
  {
   "cell_type": "code",
   "execution_count": 179,
   "metadata": {},
   "outputs": [
    {
     "data": {
      "text/html": [
       "<div>\n",
       "<style scoped>\n",
       "    .dataframe tbody tr th:only-of-type {\n",
       "        vertical-align: middle;\n",
       "    }\n",
       "\n",
       "    .dataframe tbody tr th {\n",
       "        vertical-align: top;\n",
       "    }\n",
       "\n",
       "    .dataframe thead th {\n",
       "        text-align: right;\n",
       "    }\n",
       "</style>\n",
       "<table border=\"1\" class=\"dataframe\">\n",
       "  <thead>\n",
       "    <tr style=\"text-align: right;\">\n",
       "      <th></th>\n",
       "      <th>id_wiki</th>\n",
       "      <th>id_freebase</th>\n",
       "      <th>name</th>\n",
       "      <th>year</th>\n",
       "      <th>runtime</th>\n",
       "      <th>lang</th>\n",
       "      <th>countries</th>\n",
       "      <th>genres</th>\n",
       "      <th>review</th>\n",
       "      <th>nbr_review</th>\n",
       "      <th>revenue</th>\n",
       "      <th>revenue_part</th>\n",
       "    </tr>\n",
       "  </thead>\n",
       "  <tbody>\n",
       "    <tr>\n",
       "      <th>1009</th>\n",
       "      <td>9776692</td>\n",
       "      <td>/m/02prw4h</td>\n",
       "      <td>Talk to Me</td>\n",
       "      <td>2007</td>\n",
       "      <td>119.0</td>\n",
       "      <td>[English Language]</td>\n",
       "      <td>[USA]</td>\n",
       "      <td>[History, Biography, Drama, War film, Music]</td>\n",
       "      <td>NaN</td>\n",
       "      <td>NaN</td>\n",
       "      <td>4778376.0</td>\n",
       "      <td>0.000247</td>\n",
       "    </tr>\n",
       "    <tr>\n",
       "      <th>699</th>\n",
       "      <td>18895020</td>\n",
       "      <td>/m/04jd4jg</td>\n",
       "      <td>Valentino: The Last Emperor</td>\n",
       "      <td>2008</td>\n",
       "      <td>96.0</td>\n",
       "      <td>[French Language, Italian Language, English La...</td>\n",
       "      <td>[USA]</td>\n",
       "      <td>[Culture &amp; Society, Biographical film, Biograp...</td>\n",
       "      <td>NaN</td>\n",
       "      <td>NaN</td>\n",
       "      <td>1755134.0</td>\n",
       "      <td>0.000088</td>\n",
       "    </tr>\n",
       "    <tr>\n",
       "      <th>1953</th>\n",
       "      <td>11265801</td>\n",
       "      <td>/m/02r5m4r</td>\n",
       "      <td>Benji</td>\n",
       "      <td>1974</td>\n",
       "      <td>86.0</td>\n",
       "      <td>[English Language]</td>\n",
       "      <td>[USA]</td>\n",
       "      <td>[Adventure, Children's/Family, Animal Picture,...</td>\n",
       "      <td>NaN</td>\n",
       "      <td>NaN</td>\n",
       "      <td>39552000.0</td>\n",
       "      <td>0.035884</td>\n",
       "    </tr>\n",
       "    <tr>\n",
       "      <th>2635</th>\n",
       "      <td>24028744</td>\n",
       "      <td>/m/07k786r</td>\n",
       "      <td>Chain of Desire</td>\n",
       "      <td>1992</td>\n",
       "      <td>107.0</td>\n",
       "      <td>[English Language]</td>\n",
       "      <td>[USA]</td>\n",
       "      <td>[Romance Film, Drama]</td>\n",
       "      <td>NaN</td>\n",
       "      <td>NaN</td>\n",
       "      <td>222552.0</td>\n",
       "      <td>0.000032</td>\n",
       "    </tr>\n",
       "    <tr>\n",
       "      <th>887</th>\n",
       "      <td>17437774</td>\n",
       "      <td>/m/047px22</td>\n",
       "      <td>Mistress</td>\n",
       "      <td>1992</td>\n",
       "      <td>110.0</td>\n",
       "      <td>[English Language]</td>\n",
       "      <td>[USA]</td>\n",
       "      <td>[Drama, Comedy]</td>\n",
       "      <td>5.401422</td>\n",
       "      <td>2110.0</td>\n",
       "      <td>1102469.0</td>\n",
       "      <td>0.000159</td>\n",
       "    </tr>\n",
       "  </tbody>\n",
       "</table>\n",
       "</div>"
      ],
      "text/plain": [
       "       id_wiki id_freebase                         name  year  runtime  \\\n",
       "1009   9776692  /m/02prw4h                   Talk to Me  2007    119.0   \n",
       "699   18895020  /m/04jd4jg  Valentino: The Last Emperor  2008     96.0   \n",
       "1953  11265801  /m/02r5m4r                        Benji  1974     86.0   \n",
       "2635  24028744  /m/07k786r              Chain of Desire  1992    107.0   \n",
       "887   17437774  /m/047px22                     Mistress  1992    110.0   \n",
       "\n",
       "                                                   lang countries  \\\n",
       "1009                                 [English Language]     [USA]   \n",
       "699   [French Language, Italian Language, English La...     [USA]   \n",
       "1953                                 [English Language]     [USA]   \n",
       "2635                                 [English Language]     [USA]   \n",
       "887                                  [English Language]     [USA]   \n",
       "\n",
       "                                                 genres    review  nbr_review  \\\n",
       "1009       [History, Biography, Drama, War film, Music]       NaN         NaN   \n",
       "699   [Culture & Society, Biographical film, Biograp...       NaN         NaN   \n",
       "1953  [Adventure, Children's/Family, Animal Picture,...       NaN         NaN   \n",
       "2635                              [Romance Film, Drama]       NaN         NaN   \n",
       "887                                     [Drama, Comedy]  5.401422      2110.0   \n",
       "\n",
       "         revenue revenue_part  \n",
       "1009   4778376.0     0.000247  \n",
       "699    1755134.0     0.000088  \n",
       "1953  39552000.0     0.035884  \n",
       "2635    222552.0     0.000032  \n",
       "887    1102469.0     0.000159  "
      ]
     },
     "metadata": {},
     "output_type": "display_data"
    },
    {
     "data": {
      "text/plain": [
       "(7285, 12)"
      ]
     },
     "metadata": {},
     "output_type": "display_data"
    },
    {
     "name": "stdout",
     "output_type": "stream",
     "text": [
      "<class 'pandas.core.frame.DataFrame'>\n",
      "RangeIndex: 7285 entries, 0 to 7284\n",
      "Data columns (total 12 columns):\n",
      " #   Column        Non-Null Count  Dtype  \n",
      "---  ------        --------------  -----  \n",
      " 0   id_wiki       7285 non-null   int64  \n",
      " 1   id_freebase   7285 non-null   object \n",
      " 2   name          7285 non-null   object \n",
      " 3   year          7285 non-null   int32  \n",
      " 4   runtime       7260 non-null   float64\n",
      " 5   lang          7285 non-null   object \n",
      " 6   countries     7285 non-null   object \n",
      " 7   genres        7285 non-null   object \n",
      " 8   review        2898 non-null   float64\n",
      " 9   nbr_review    2898 non-null   float64\n",
      " 10  revenue       7285 non-null   object \n",
      " 11  revenue_part  7285 non-null   object \n",
      "dtypes: float64(3), int32(1), int64(1), object(7)\n",
      "memory usage: 654.6+ KB\n"
     ]
    },
    {
     "data": {
      "text/plain": [
       "None"
      ]
     },
     "metadata": {},
     "output_type": "display_data"
    }
   ],
   "source": [
    "\n",
    "movies2_clean['revenue_part'] = movies2_clean.groupby('year')['revenue'].transform(lambda x: x / x.sum())\n",
    " \n",
    "\n",
    "display(movies2_clean.sample(5))\n",
    "display(movies2_clean.shape)\n",
    "display(movies2_clean.info())\n"
   ]
  },
  {
   "cell_type": "markdown",
   "metadata": {},
   "source": [
    "# 4) Pipeline (naive approach)\n",
    "\n",
    "In this section, we will provide an example of how we could identify pivotal movies using a relatively simple approach. This part aims to offer insights into the process of recognizing pivotal movies within a dataset\n",
    "1. Plot subsets (genres, etc.)\n",
    "2. Range prior to a trend peak\n",
    "3. Algo for pivotal movie (box-office, reviews, summary similarites)"
   ]
  },
  {
   "cell_type": "markdown",
   "metadata": {},
   "source": [
    "### a) Analysing a trend: first approach\n",
    "\n",
    "To effectively identify the 'hype generator', it's essential to define 'hype' precisely. We have opted to measure hype as the annual percentage change in the production of various movie genres. This approach accounts for the evolving ease of movie production and the resultant increase in the overall number of films produced each year. By focusing on yearly percentage changes, we can effectively neutralize the impact of the growing volume of movie production, ensuring our analysis remains robust and accurate."
   ]
  },
  {
   "cell_type": "code",
   "execution_count": 180,
   "metadata": {},
   "outputs": [
    {
     "name": "stdout",
     "output_type": "stream",
     "text": [
      "Size subset (Teen) 29828\n"
     ]
    },
    {
     "data": {
      "image/png": "[encoded data removed]",
      "text/plain": [
       "<Figure size 1008x288 with 2 Axes>"
      ]
     },
     "metadata": {
      "needs_background": "light"
     },
     "output_type": "display_data"
    }
   ],
   "source": [
    "# Create a subset to compare to the whole dataset (here: Teen Movies)\n",
    "key = 'Teen'\n",
    "subset = create_subset(movies2, key)\n",
    "print(\"Size subset ({}) {}\".format(key, len(movies2)))\n",
    "\n",
    "# Plot release dates distribution\n",
    "fig, axs = plt.subplots(1, 2, figsize=(14,4))\n",
    "axs = axs.ravel()\n",
    "\n",
    "movies.year.hist(bins=movies2.year.nunique(), ax=axs[0], histtype='step')\n",
    "ax_settings(axs[0], xlabel='Year', ylabel='Nb of movies', title='All movies release year distribution')\n",
    "axs[0].set_xlim((1910,2010))\n",
    "\n",
    "subset.year.hist(bins=subset.year.nunique(), ax=axs[1], histtype='step')\n",
    "ax_settings(axs[1], xlabel='Year', ylabel='Nb of movies', title='Genre {} distribution'.format(key))\n",
    "axs[1].set_xlim((1910,2010))\n",
    "\n",
    "plt.show()"
   ]
  },
  {
   "cell_type": "markdown",
   "metadata": {},
   "source": [
    "This is an early version of the analysis. Here we simply plot the number of movies distribution, but we plan to use the fraction of (subset) movies distribution later for more robust results. However, this already gives us an idea of what we could expect from the data.\n",
    "\n",
    "We display two graphs above. The left plot is the distribution of movie releases over time. The right plot shows the evolution of number of movies releases over time, of the genre \"Teen movie\". We immediately notice several elements. First the shapes of the two curves are markedly different, this confirms us that we choose an interesting subset for analysis, since it differs from the baseline. Now by looking more closely, we see that the genre Teen emerged at a certain point in cinema, because (almost) no data exists before late 70's, and we have no record before late 50's. This is very indicating about the existence of a trend ! But we can extract more, we significantly see two bumps in the Teen plot centered around two different decades. Without going much further here, we can already assume that pivotal movies are hiding here..."
   ]
  },
  {
   "cell_type": "markdown",
   "metadata": {},
   "source": [
    "### b) Evolution of genre between 1990 and 2012"
   ]
  },
  {
   "cell_type": "markdown",
   "metadata": {},
   "source": [
    "# Hype Generator\n",
    "\n",
    "\n",
    "After this initial example, let's delve deeper into the evolution of the 15 genres across 30 years of cinema. In this analysis, we shift our focus from the raw number of films released to the percentage relative to the total number of films released each year. This perspective provides a more nuanced understanding of the genre distribution over the years.\n",
    "\n",
    "\n",
    "\n",
    "We will next focus on identifying the movie that ignited this surge in popularity. By examining films in the pertinent genres and identifying the highest-grossing one in the 4 to 10 years prior (based on the assumption that it takes 4 years to produce a movie), we aim to pinpoint the film that was instrumental in boosting the genre's appeal."
   ]
  },
  {
   "cell_type": "markdown",
   "metadata": {},
   "source": [
    "First we have the plot for the 20 most common genre"
   ]
  },
  {
   "cell_type": "code",
   "execution_count": 183,
   "metadata": {},
   "outputs": [
    {
     "data": {
      "image/png": "[encoded data removed]",
      "text/plain": [
       "<Figure size 1296x576 with 1 Axes>"
      ]
     },
     "metadata": {
      "needs_background": "light"
     },
     "output_type": "display_data"
    }
   ],
   "source": [
    "plot_genres_percentages_per_year(movies2, 1970, 2000, 15,30,30) # PUT THIS GRAPH \n",
    "#IN PART 1.C\n"
   ]
  },
  {
   "cell_type": "markdown",
   "metadata": {},
   "source": [
    "From the graph above we can for example identify two big varitions in genres 'Biography' in range 1990-1996 and 'Comedy-drama' in range 1978-1983.\n",
    "\n",
    "We will next focus on identifying the movie that ignited this surge in popularity. By examining films in the pertinent genres and identifying the highest-grossing one in the 5 year prior (based on the assumption that it takes 5 years to produce a movie), we aim to pinpoint the film that was instrumental in boosting the genre's appeal."
   ]
  },
  {
   "cell_type": "code",
   "execution_count": null,
   "metadata": {},
   "outputs": [],
   "source": []
  },
  {
   "cell_type": "markdown",
   "metadata": {},
   "source": [
    "- Biography potential hype generator \n"
   ]
  },
  {
   "cell_type": "code",
   "execution_count": 185,
   "metadata": {},
   "outputs": [
    {
     "data": {
      "text/html": [
       "<div>\n",
       "<style scoped>\n",
       "    .dataframe tbody tr th:only-of-type {\n",
       "        vertical-align: middle;\n",
       "    }\n",
       "\n",
       "    .dataframe tbody tr th {\n",
       "        vertical-align: top;\n",
       "    }\n",
       "\n",
       "    .dataframe thead th {\n",
       "        text-align: right;\n",
       "    }\n",
       "</style>\n",
       "<table border=\"1\" class=\"dataframe\">\n",
       "  <thead>\n",
       "    <tr style=\"text-align: right;\">\n",
       "      <th></th>\n",
       "      <th>name</th>\n",
       "      <th>year</th>\n",
       "      <th>revenue</th>\n",
       "    </tr>\n",
       "  </thead>\n",
       "  <tbody>\n",
       "    <tr>\n",
       "      <th>23233</th>\n",
       "      <td>JFK</td>\n",
       "      <td>1991</td>\n",
       "      <td>205400000.0</td>\n",
       "    </tr>\n",
       "    <tr>\n",
       "      <th>17767</th>\n",
       "      <td>Born on the Fourth of July</td>\n",
       "      <td>1989</td>\n",
       "      <td>196672350.0</td>\n",
       "    </tr>\n",
       "    <tr>\n",
       "      <th>27763</th>\n",
       "      <td>The Untouchables</td>\n",
       "      <td>1987</td>\n",
       "      <td>76270454.0</td>\n",
       "    </tr>\n",
       "    <tr>\n",
       "      <th>24589</th>\n",
       "      <td>Empire of the Sun</td>\n",
       "      <td>1987</td>\n",
       "      <td>66240000.0</td>\n",
       "    </tr>\n",
       "  </tbody>\n",
       "</table>\n",
       "</div>"
      ],
      "text/plain": [
       "                             name  year      revenue\n",
       "23233                         JFK  1991  205400000.0\n",
       "17767  Born on the Fourth of July  1989  196672350.0\n",
       "27763            The Untouchables  1987   76270454.0\n",
       "24589           Empire of the Sun  1987   66240000.0"
      ]
     },
     "metadata": {},
     "output_type": "display_data"
    }
   ],
   "source": [
    "biography_film_movies = movies2[movies2['genres'].apply(lambda x: \"Biography\" in x)] # look for genre: biography film\n",
    "\n",
    "biography_films_1990_2000 = biography_film_movies[(biography_film_movies['year'] >= 1986)\n",
    "                                    & (biography_film_movies['year'] <= 1991)]\n",
    "\n",
    "highest_revenue_movie = biography_films_1990_2000[biography_films_1990_2000['revenue'].notna()].sort_values('revenue', ascending=False).head(4)\n",
    "\n",
    "display(highest_revenue_movie[[\"name\",\"year\",\"revenue\"]])"
   ]
  },
  {
   "cell_type": "markdown",
   "metadata": {},
   "source": [
    "- Comedy drama potential hype generator \n"
   ]
  },
  {
   "cell_type": "code",
   "execution_count": 187,
   "metadata": {},
   "outputs": [
    {
     "data": {
      "text/html": [
       "<div>\n",
       "<style scoped>\n",
       "    .dataframe tbody tr th:only-of-type {\n",
       "        vertical-align: middle;\n",
       "    }\n",
       "\n",
       "    .dataframe tbody tr th {\n",
       "        vertical-align: top;\n",
       "    }\n",
       "\n",
       "    .dataframe thead th {\n",
       "        text-align: right;\n",
       "    }\n",
       "</style>\n",
       "<table border=\"1\" class=\"dataframe\">\n",
       "  <thead>\n",
       "    <tr style=\"text-align: right;\">\n",
       "      <th></th>\n",
       "      <th>name</th>\n",
       "      <th>year</th>\n",
       "      <th>revenue</th>\n",
       "    </tr>\n",
       "  </thead>\n",
       "  <tbody>\n",
       "    <tr>\n",
       "      <th>6041</th>\n",
       "      <td>American Graffiti</td>\n",
       "      <td>1973</td>\n",
       "      <td>140000000.0</td>\n",
       "    </tr>\n",
       "    <tr>\n",
       "      <th>43125</th>\n",
       "      <td>One Flew Over the Cuckoo's Nest</td>\n",
       "      <td>1975</td>\n",
       "      <td>108981275.0</td>\n",
       "    </tr>\n",
       "    <tr>\n",
       "      <th>14570</th>\n",
       "      <td>Shampoo</td>\n",
       "      <td>1975</td>\n",
       "      <td>60000000.0</td>\n",
       "    </tr>\n",
       "    <tr>\n",
       "      <th>62489</th>\n",
       "      <td>Semi-Tough</td>\n",
       "      <td>1977</td>\n",
       "      <td>37187139.0</td>\n",
       "    </tr>\n",
       "  </tbody>\n",
       "</table>\n",
       "</div>"
      ],
      "text/plain": [
       "                                  name  year      revenue\n",
       "6041                 American Graffiti  1973  140000000.0\n",
       "43125  One Flew Over the Cuckoo's Nest  1975  108981275.0\n",
       "14570                          Shampoo  1975   60000000.0\n",
       "62489                       Semi-Tough  1977   37187139.0"
      ]
     },
     "metadata": {},
     "output_type": "display_data"
    }
   ],
   "source": [
    "comedy_drama_film_movies = movies2[movies2['genres'].apply(lambda x: \"Comedy-drama\" in x)] # look for genre: comedy_drama film\n",
    "\n",
    "comedy_drama_films_1990_2000 = comedy_drama_film_movies[(comedy_drama_film_movies['year'] >= 1973) & (comedy_drama_film_movies['year'] <= 1978)]\n",
    "\n",
    "highest_revenue_movie = comedy_drama_films_1990_2000[comedy_drama_films_1990_2000['revenue'].notna()].sort_values('revenue', ascending=False).head(4)\n",
    "\n",
    "display(highest_revenue_movie[[\"name\",\"year\",\"revenue\"]])"
   ]
  },
  {
   "cell_type": "markdown",
   "metadata": {},
   "source": [
    "In this approach we identified potential hype generator by looking at film of the same genre that have been released before the trend and generated big revenues."
   ]
  },
  {
   "cell_type": "code",
   "execution_count": null,
   "metadata": {},
   "outputs": [],
   "source": []
  },
  {
   "cell_type": "markdown",
   "metadata": {},
   "source": []
  },
  {
   "cell_type": "markdown",
   "metadata": {},
   "source": [
    "### c) Identification of the trend by looking at the percentage change\n",
    "Now we want to automate the process recently done with the art movie in order to predict the hype generators:\n",
    "\n",
    "\n",
    "We will now identify the genre that experienced the highest percentage change in popularity between 1990 and 2013. A significant change in this percentage is indicative of a 'hype' in the genre, revealing shifts in audience and producers preferences and trends during this period.\n",
    "\n",
    "We now shift our focus to identifying movies that sparked a surge in popularity. Our approach involves examining films within relevant genres and determining the highest-grossing one in the 5 years prior (considering the assumption that movie production takes 5 years, as stated in the README). The chosen genre for popularity is crucial, as it can impact our analysis. Top genres are often too broad and mainstream, while those at the bottom tend to be too specialized and niche. By selecting this middle range, we aim to strike a balance, capturing genres that are neither overly generic nor excessively niche. In the following case we only take the top 15 to top 30 most "
   ]
  },
  {
   "cell_type": "code",
   "execution_count": 198,
   "metadata": {},
   "outputs": [
    {
     "name": "stdout",
     "output_type": "stream",
     "text": [
      "Highest change in percentage by genre between 1990 and  2013 (hype))\n",
      " index  year            genres  count  percentage  percentage_change\n",
      " 11269  2011            Action     90    5.747126           0.419290\n",
      " 11109  2010  Action/Adventure     58    2.552817           0.288349\n",
      " 11122  2010 Biographical film     20    0.880282           0.967430\n",
      "  8430  1996            Comedy    147    7.581227           0.272609\n",
      " 11403  2012       Comedy film     51    6.580645           2.220403\n",
      "  8452  1996          Disaster      8    0.412584           7.103146\n",
      "  8118  1994       Documentary     31    1.726058           0.718506\n",
      " 11311  2011             Drama    218   13.920817           0.245201\n",
      " 11320  2011           Fantasy     38    2.426564           0.378289\n",
      "  8667  1997             Indie    118    5.427783           0.547716\n",
      "  8509  1996             Music     10    0.515730           1.025786\n",
      " 11236  2010      Romance Film    104    4.577465           0.314026\n",
      "  8528  1996   Romantic comedy     37    1.908200           0.388039\n",
      "  8029  1993   Science Fiction     39    2.448211           1.109782\n",
      " 11452  2012          Thriller     69    8.903226           0.233845\n",
      "Hype generator by genre: \n",
      "Highest revenue movie in 'Action' genre between 2001 and 2007:\n",
      "Pirates of the Caribbean: At World's End\n",
      "Highest revenue movie in 'Action/Adventure' genre between 2000 and 2006:\n",
      "The Lord of the Rings: The Return of the King\n",
      "Highest revenue movie in 'Biographical film' genre between 2000 and 2006:\n",
      "A Beautiful Mind\n",
      "Highest revenue movie in 'Comedy' genre between 1986 and 1992:\n",
      "Ghost\n",
      "Highest revenue movie in 'Comedy film' genre between 2002 and 2008:\n",
      "Hairspray\n",
      "Highest revenue movie in 'Disaster' genre between 1986 and 1992:\n",
      "Backdraft\n",
      "Highest revenue movie in 'Documentary' genre between 1984 and 1990:\n",
      "Roger & Me\n",
      "Highest revenue movie in 'Drama' genre between 2001 and 2007:\n",
      "The Lord of the Rings: The Return of the King\n",
      "Highest revenue movie in 'Fantasy' genre between 2001 and 2007:\n",
      "The Lord of the Rings: The Return of the King\n",
      "Highest revenue movie in 'Indie' genre between 1987 and 1993:\n",
      "Teenage Mutant Ninja Turtles\n",
      "Highest revenue movie in 'Music' genre between 1986 and 1992:\n",
      "Aladdin\n",
      "Highest revenue movie in 'Romance Film' genre between 2000 and 2006:\n",
      "Star Wars Episode II: Attack of the Clones\n",
      "Highest revenue movie in 'Romantic comedy' genre between 1986 and 1992:\n",
      "Pretty Woman\n",
      "Highest revenue movie in 'Science Fiction' genre between 1983 and 1989:\n",
      "Back to the Future\n",
      "Highest revenue movie in 'Thriller' genre between 2002 and 2008:\n",
      "The Dark Knight\n"
     ]
    }
   ],
   "source": [
    "hype_generators(movies,1990,2013,15,30)\n"
   ]
  },
  {
   "cell_type": "markdown",
   "metadata": {},
   "source": [
    "This assessment leads to interesting results such as 'Fantasy' associated with *'The Lord of the Rings: The Return of the King'* or 'Science Fiction' and *'Back to the Future'*. However, some results are rising questions on this naive method. For instance, 'Romance Film' associated to *Star Wars Episode II: Attack of the Clones* demonstrates the limit of the actual naive method. In the future we aim to identify more clearly the principal genre of the movie."
   ]
  },
  {
   "cell_type": "markdown",
   "metadata": {},
   "source": [
    "<p align=\"center\">\n",
    "  <img src=\"img/StarWars.png\" width=70%>"
   ]
  },
  {
   "cell_type": "markdown",
   "metadata": {},
   "source": [
    "### d) Trope Originators\n",
    "\n",
    "Enclosed is a curated selection of seminal films, each marking the inaugural appearance of a particular trope. These films are esteemed as pivotal within the cinematic world, as they present audiences with the archetype of a character type for the very first time, setting the stage for countless others to follow it.\n",
    "(Disclaimer: it is from the uncomplete trope dataset, from the course given data). "
   ]
  },
  {
   "cell_type": "code",
   "execution_count": 203,
   "metadata": {},
   "outputs": [
    {
     "data": {
      "text/html": [
       "<div>\n",
       "<style scoped>\n",
       "    .dataframe tbody tr th:only-of-type {\n",
       "        vertical-align: middle;\n",
       "    }\n",
       "\n",
       "    .dataframe tbody tr th {\n",
       "        vertical-align: top;\n",
       "    }\n",
       "\n",
       "    .dataframe thead th {\n",
       "        text-align: right;\n",
       "    }\n",
       "</style>\n",
       "<table border=\"1\" class=\"dataframe\">\n",
       "  <thead>\n",
       "    <tr style=\"text-align: right;\">\n",
       "      <th></th>\n",
       "      <th>category</th>\n",
       "      <th>name</th>\n",
       "      <th>date</th>\n",
       "    </tr>\n",
       "  </thead>\n",
       "  <tbody>\n",
       "    <tr>\n",
       "      <th>3</th>\n",
       "      <td>absent_minded_professor</td>\n",
       "      <td>Them!</td>\n",
       "      <td>1954-06-16</td>\n",
       "    </tr>\n",
       "    <tr>\n",
       "      <th>6</th>\n",
       "      <td>adventurer_archaeologist</td>\n",
       "      <td>Indiana Jones and the Raiders of the Lost Ark</td>\n",
       "      <td>1981-06-12</td>\n",
       "    </tr>\n",
       "    <tr>\n",
       "      <th>14</th>\n",
       "      <td>arrogant_kungfu_guy</td>\n",
       "      <td>Rocky</td>\n",
       "      <td>1976-11-21</td>\n",
       "    </tr>\n",
       "    <tr>\n",
       "      <th>26</th>\n",
       "      <td>big_man_on_campus</td>\n",
       "      <td>Can't Hardly Wait</td>\n",
       "      <td>1998-06-12</td>\n",
       "    </tr>\n",
       "    <tr>\n",
       "      <th>28</th>\n",
       "      <td>bounty_hunter</td>\n",
       "      <td>The Outlaw Josey Wales</td>\n",
       "      <td>1976-06-30</td>\n",
       "    </tr>\n",
       "    <tr>\n",
       "      <th>45</th>\n",
       "      <td>brainless_beauty</td>\n",
       "      <td>Roxanne</td>\n",
       "      <td>1987-06-19</td>\n",
       "    </tr>\n",
       "    <tr>\n",
       "      <th>52</th>\n",
       "      <td>broken_bird</td>\n",
       "      <td>Alice in Wonderland</td>\n",
       "      <td>1976-12-10</td>\n",
       "    </tr>\n",
       "    <tr>\n",
       "      <th>58</th>\n",
       "      <td>bromantic_foil</td>\n",
       "      <td>Mallrats</td>\n",
       "      <td>1995-10-20</td>\n",
       "    </tr>\n",
       "    <tr>\n",
       "      <th>63</th>\n",
       "      <td>bruiser_with_a_soft_center</td>\n",
       "      <td>Casino Royale</td>\n",
       "      <td>1967-01-01</td>\n",
       "    </tr>\n",
       "    <tr>\n",
       "      <th>66</th>\n",
       "      <td>bully</td>\n",
       "      <td>A Christmas Story</td>\n",
       "      <td>1983-11-18</td>\n",
       "    </tr>\n",
       "    <tr>\n",
       "      <th>69</th>\n",
       "      <td>byronic_hero</td>\n",
       "      <td>Casino Royale</td>\n",
       "      <td>1967-01-01</td>\n",
       "    </tr>\n",
       "    <tr>\n",
       "      <th>87</th>\n",
       "      <td>casanova</td>\n",
       "      <td>Kids</td>\n",
       "      <td>1995-05-01</td>\n",
       "    </tr>\n",
       "    <tr>\n",
       "      <th>96</th>\n",
       "      <td>chanteuse</td>\n",
       "      <td>Some Like It Hot</td>\n",
       "      <td>1959-03-29</td>\n",
       "    </tr>\n",
       "    <tr>\n",
       "      <th>99</th>\n",
       "      <td>charmer</td>\n",
       "      <td>Casino Royale</td>\n",
       "      <td>1967-01-01</td>\n",
       "    </tr>\n",
       "    <tr>\n",
       "      <th>108</th>\n",
       "      <td>child_prodigy</td>\n",
       "      <td>Real Genius</td>\n",
       "      <td>1985-08-07</td>\n",
       "    </tr>\n",
       "    <tr>\n",
       "      <th>109</th>\n",
       "      <td>classy_cat_burglar</td>\n",
       "      <td>To Catch a Thief</td>\n",
       "      <td>1955-08-03</td>\n",
       "    </tr>\n",
       "    <tr>\n",
       "      <th>113</th>\n",
       "      <td>consummate_professional</td>\n",
       "      <td>Casino</td>\n",
       "      <td>1995-11-14</td>\n",
       "    </tr>\n",
       "    <tr>\n",
       "      <th>125</th>\n",
       "      <td>corrupt_corporate_executive</td>\n",
       "      <td>It's a Wonderful Life</td>\n",
       "      <td>1946-12-20</td>\n",
       "    </tr>\n",
       "    <tr>\n",
       "      <th>140</th>\n",
       "      <td>coward</td>\n",
       "      <td>Aliens</td>\n",
       "      <td>1986-07-18</td>\n",
       "    </tr>\n",
       "    <tr>\n",
       "      <th>145</th>\n",
       "      <td>crazy_jealous_guy</td>\n",
       "      <td>Wuthering Heights</td>\n",
       "      <td>1939-01-01</td>\n",
       "    </tr>\n",
       "    <tr>\n",
       "      <th>168</th>\n",
       "      <td>crazy_survivalist</td>\n",
       "      <td>War of the Worlds</td>\n",
       "      <td>2005-06-13</td>\n",
       "    </tr>\n",
       "    <tr>\n",
       "      <th>171</th>\n",
       "      <td>cultured_badass</td>\n",
       "      <td>Casino Royale</td>\n",
       "      <td>1967-01-01</td>\n",
       "    </tr>\n",
       "    <tr>\n",
       "      <th>180</th>\n",
       "      <td>dean_bitterman</td>\n",
       "      <td>The Breakfast Club</td>\n",
       "      <td>1985-02-07</td>\n",
       "    </tr>\n",
       "    <tr>\n",
       "      <th>185</th>\n",
       "      <td>dirty_cop</td>\n",
       "      <td>Internal Affairs</td>\n",
       "      <td>1990-01-12</td>\n",
       "    </tr>\n",
       "    <tr>\n",
       "      <th>194</th>\n",
       "      <td>ditz</td>\n",
       "      <td>Arthur</td>\n",
       "      <td>1981-07-17</td>\n",
       "    </tr>\n",
       "    <tr>\n",
       "      <th>199</th>\n",
       "      <td>doormat</td>\n",
       "      <td>Back to the Future</td>\n",
       "      <td>1985-07-03</td>\n",
       "    </tr>\n",
       "    <tr>\n",
       "      <th>205</th>\n",
       "      <td>drill_sargeant_nasty</td>\n",
       "      <td>Stripes</td>\n",
       "      <td>1981-06-26</td>\n",
       "    </tr>\n",
       "    <tr>\n",
       "      <th>219</th>\n",
       "      <td>dumb_blonde</td>\n",
       "      <td>Singin' in the Rain</td>\n",
       "      <td>1952-01-01</td>\n",
       "    </tr>\n",
       "    <tr>\n",
       "      <th>220</th>\n",
       "      <td>dumb_muscle</td>\n",
       "      <td>It's a Mad, Mad, Mad, Mad World</td>\n",
       "      <td>1963-11-07</td>\n",
       "    </tr>\n",
       "    <tr>\n",
       "      <th>227</th>\n",
       "      <td>eccentric_mentor</td>\n",
       "      <td>Star Wars Episode V: The Empire Strikes Back</td>\n",
       "      <td>1980-05-21</td>\n",
       "    </tr>\n",
       "    <tr>\n",
       "      <th>236</th>\n",
       "      <td>egomaniac_hunter</td>\n",
       "      <td>Predator</td>\n",
       "      <td>1987-06-12</td>\n",
       "    </tr>\n",
       "    <tr>\n",
       "      <th>245</th>\n",
       "      <td>evil_prince</td>\n",
       "      <td>Sheena</td>\n",
       "      <td>1984-08-17</td>\n",
       "    </tr>\n",
       "    <tr>\n",
       "      <th>252</th>\n",
       "      <td>fastest_gun_in_the_west</td>\n",
       "      <td>3:10 to Yuma</td>\n",
       "      <td>1957-08-07</td>\n",
       "    </tr>\n",
       "    <tr>\n",
       "      <th>260</th>\n",
       "      <td>father_to_his_men</td>\n",
       "      <td>Apocalypse Now</td>\n",
       "      <td>1979-05-10</td>\n",
       "    </tr>\n",
       "    <tr>\n",
       "      <th>276</th>\n",
       "      <td>final_girl</td>\n",
       "      <td>Halloween</td>\n",
       "      <td>1978-10-25</td>\n",
       "    </tr>\n",
       "    <tr>\n",
       "      <th>284</th>\n",
       "      <td>gadgeteer_genius</td>\n",
       "      <td>Star Wars Episode I: The Phantom Menace</td>\n",
       "      <td>1999-05-19</td>\n",
       "    </tr>\n",
       "    <tr>\n",
       "      <th>287</th>\n",
       "      <td>gentleman_thief</td>\n",
       "      <td>To Catch a Thief</td>\n",
       "      <td>1955-08-03</td>\n",
       "    </tr>\n",
       "    <tr>\n",
       "      <th>298</th>\n",
       "      <td>granola_person</td>\n",
       "      <td>Hocus Pocus</td>\n",
       "      <td>1993-07-16</td>\n",
       "    </tr>\n",
       "    <tr>\n",
       "      <th>308</th>\n",
       "      <td>grumpy_old_man</td>\n",
       "      <td>Caddyshack</td>\n",
       "      <td>1980-07-25</td>\n",
       "    </tr>\n",
       "    <tr>\n",
       "      <th>311</th>\n",
       "      <td>hardboiled_detective</td>\n",
       "      <td>The Enforcer</td>\n",
       "      <td>1951-01-25</td>\n",
       "    </tr>\n",
       "    <tr>\n",
       "      <th>321</th>\n",
       "      <td>heartbroken_badass</td>\n",
       "      <td>The Outlaw Josey Wales</td>\n",
       "      <td>1976-06-30</td>\n",
       "    </tr>\n",
       "    <tr>\n",
       "      <th>328</th>\n",
       "      <td>henpecked_husband</td>\n",
       "      <td>What's Up, Doc?</td>\n",
       "      <td>1972-03-09</td>\n",
       "    </tr>\n",
       "    <tr>\n",
       "      <th>331</th>\n",
       "      <td>hitman_with_a_heart</td>\n",
       "      <td>Ghost Dog: The Way of the Samurai</td>\n",
       "      <td>1999-05-18</td>\n",
       "    </tr>\n",
       "    <tr>\n",
       "      <th>341</th>\n",
       "      <td>jerk_jock</td>\n",
       "      <td>The Karate Kid</td>\n",
       "      <td>1984-06-22</td>\n",
       "    </tr>\n",
       "    <tr>\n",
       "      <th>350</th>\n",
       "      <td>junkie_prophet</td>\n",
       "      <td>Minority Report</td>\n",
       "      <td>2002-06-17</td>\n",
       "    </tr>\n",
       "    <tr>\n",
       "      <th>353</th>\n",
       "      <td>klutz</td>\n",
       "      <td>Little Shop of Horrors</td>\n",
       "      <td>1986-12-19</td>\n",
       "    </tr>\n",
       "    <tr>\n",
       "      <th>359</th>\n",
       "      <td>loser_protagonist</td>\n",
       "      <td>High Fidelity</td>\n",
       "      <td>2000-03-17</td>\n",
       "    </tr>\n",
       "    <tr>\n",
       "      <th>363</th>\n",
       "      <td>loveable_rogue</td>\n",
       "      <td>Casablanca</td>\n",
       "      <td>1942-11-26</td>\n",
       "    </tr>\n",
       "    <tr>\n",
       "      <th>371</th>\n",
       "      <td>master_swordsman</td>\n",
       "      <td>Star Wars Episode V: The Empire Strikes Back</td>\n",
       "      <td>1980-05-21</td>\n",
       "    </tr>\n",
       "    <tr>\n",
       "      <th>385</th>\n",
       "      <td>morally_bankrupt_banker</td>\n",
       "      <td>It's a Wonderful Life</td>\n",
       "      <td>1946-12-20</td>\n",
       "    </tr>\n",
       "    <tr>\n",
       "      <th>387</th>\n",
       "      <td>officer_and_a_gentleman</td>\n",
       "      <td>Glory</td>\n",
       "      <td>1989-01-01</td>\n",
       "    </tr>\n",
       "    <tr>\n",
       "      <th>393</th>\n",
       "      <td>ophelia</td>\n",
       "      <td>Scarface</td>\n",
       "      <td>1983-12-01</td>\n",
       "    </tr>\n",
       "    <tr>\n",
       "      <th>395</th>\n",
       "      <td>playful_hacker</td>\n",
       "      <td>Tron</td>\n",
       "      <td>1982-07-09</td>\n",
       "    </tr>\n",
       "    <tr>\n",
       "      <th>404</th>\n",
       "      <td>prima_donna</td>\n",
       "      <td>All About Eve</td>\n",
       "      <td>1950-01-01</td>\n",
       "    </tr>\n",
       "    <tr>\n",
       "      <th>421</th>\n",
       "      <td>psycho_for_hire</td>\n",
       "      <td>Shane</td>\n",
       "      <td>1953-04-23</td>\n",
       "    </tr>\n",
       "    <tr>\n",
       "      <th>425</th>\n",
       "      <td>pupil_turned_to_evil</td>\n",
       "      <td>The Hunted</td>\n",
       "      <td>1995-02-24</td>\n",
       "    </tr>\n",
       "    <tr>\n",
       "      <th>429</th>\n",
       "      <td>retired_outlaw</td>\n",
       "      <td>Butch Cassidy and the Sundance Kid</td>\n",
       "      <td>1969-09-23</td>\n",
       "    </tr>\n",
       "    <tr>\n",
       "      <th>437</th>\n",
       "      <td>revenge</td>\n",
       "      <td>Once Upon a Time in the West</td>\n",
       "      <td>1968-12-21</td>\n",
       "    </tr>\n",
       "    <tr>\n",
       "      <th>443</th>\n",
       "      <td>romantic_runnerup</td>\n",
       "      <td>Reality Bites</td>\n",
       "      <td>1994-02-18</td>\n",
       "    </tr>\n",
       "    <tr>\n",
       "      <th>445</th>\n",
       "      <td>self_made_man</td>\n",
       "      <td>The Philadelphia Story</td>\n",
       "      <td>1940-12-23</td>\n",
       "    </tr>\n",
       "    <tr>\n",
       "      <th>456</th>\n",
       "      <td>slacker</td>\n",
       "      <td>Stripes</td>\n",
       "      <td>1981-06-26</td>\n",
       "    </tr>\n",
       "    <tr>\n",
       "      <th>462</th>\n",
       "      <td>stoner</td>\n",
       "      <td>Fast Times at Ridgemont High</td>\n",
       "      <td>1982-08-13</td>\n",
       "    </tr>\n",
       "    <tr>\n",
       "      <th>475</th>\n",
       "      <td>storyteller</td>\n",
       "      <td>Peter Pan</td>\n",
       "      <td>1953-02-05</td>\n",
       "    </tr>\n",
       "    <tr>\n",
       "      <th>481</th>\n",
       "      <td>stupid_crooks</td>\n",
       "      <td>Pulp Fiction</td>\n",
       "      <td>1994-05-01</td>\n",
       "    </tr>\n",
       "    <tr>\n",
       "      <th>490</th>\n",
       "      <td>surfer_dude</td>\n",
       "      <td>Apocalypse Now</td>\n",
       "      <td>1979-05-10</td>\n",
       "    </tr>\n",
       "    <tr>\n",
       "      <th>491</th>\n",
       "      <td>the_chief</td>\n",
       "      <td>The Pink Panther</td>\n",
       "      <td>1963-12-19</td>\n",
       "    </tr>\n",
       "    <tr>\n",
       "      <th>495</th>\n",
       "      <td>the_editor</td>\n",
       "      <td>All the President's Men</td>\n",
       "      <td>1976-04-04</td>\n",
       "    </tr>\n",
       "    <tr>\n",
       "      <th>501</th>\n",
       "      <td>tranquil_fury</td>\n",
       "      <td>Straw Dogs</td>\n",
       "      <td>1971-11-03</td>\n",
       "    </tr>\n",
       "    <tr>\n",
       "      <th>505</th>\n",
       "      <td>trickster</td>\n",
       "      <td>Star Wars Episode V: The Empire Strikes Back</td>\n",
       "      <td>1980-05-21</td>\n",
       "    </tr>\n",
       "    <tr>\n",
       "      <th>510</th>\n",
       "      <td>valley_girl</td>\n",
       "      <td>Valley Girl</td>\n",
       "      <td>1983-04-29</td>\n",
       "    </tr>\n",
       "    <tr>\n",
       "      <th>521</th>\n",
       "      <td>warrior_poet</td>\n",
       "      <td>Apocalypse Now</td>\n",
       "      <td>1979-05-10</td>\n",
       "    </tr>\n",
       "    <tr>\n",
       "      <th>531</th>\n",
       "      <td>young_gun</td>\n",
       "      <td>Silverado</td>\n",
       "      <td>1985-07-10</td>\n",
       "    </tr>\n",
       "  </tbody>\n",
       "</table>\n",
       "</div>"
      ],
      "text/plain": [
       "                        category  \\\n",
       "3        absent_minded_professor   \n",
       "6       adventurer_archaeologist   \n",
       "14           arrogant_kungfu_guy   \n",
       "26             big_man_on_campus   \n",
       "28                 bounty_hunter   \n",
       "45              brainless_beauty   \n",
       "52                   broken_bird   \n",
       "58                bromantic_foil   \n",
       "63    bruiser_with_a_soft_center   \n",
       "66                         bully   \n",
       "69                  byronic_hero   \n",
       "87                      casanova   \n",
       "96                     chanteuse   \n",
       "99                       charmer   \n",
       "108                child_prodigy   \n",
       "109           classy_cat_burglar   \n",
       "113      consummate_professional   \n",
       "125  corrupt_corporate_executive   \n",
       "140                       coward   \n",
       "145            crazy_jealous_guy   \n",
       "168            crazy_survivalist   \n",
       "171              cultured_badass   \n",
       "180               dean_bitterman   \n",
       "185                    dirty_cop   \n",
       "194                         ditz   \n",
       "199                      doormat   \n",
       "205         drill_sargeant_nasty   \n",
       "219                  dumb_blonde   \n",
       "220                  dumb_muscle   \n",
       "227             eccentric_mentor   \n",
       "236             egomaniac_hunter   \n",
       "245                  evil_prince   \n",
       "252      fastest_gun_in_the_west   \n",
       "260            father_to_his_men   \n",
       "276                   final_girl   \n",
       "284             gadgeteer_genius   \n",
       "287              gentleman_thief   \n",
       "298               granola_person   \n",
       "308               grumpy_old_man   \n",
       "311         hardboiled_detective   \n",
       "321           heartbroken_badass   \n",
       "328            henpecked_husband   \n",
       "331          hitman_with_a_heart   \n",
       "341                    jerk_jock   \n",
       "350               junkie_prophet   \n",
       "353                        klutz   \n",
       "359            loser_protagonist   \n",
       "363               loveable_rogue   \n",
       "371             master_swordsman   \n",
       "385      morally_bankrupt_banker   \n",
       "387      officer_and_a_gentleman   \n",
       "393                      ophelia   \n",
       "395               playful_hacker   \n",
       "404                  prima_donna   \n",
       "421              psycho_for_hire   \n",
       "425         pupil_turned_to_evil   \n",
       "429               retired_outlaw   \n",
       "437                      revenge   \n",
       "443            romantic_runnerup   \n",
       "445                self_made_man   \n",
       "456                      slacker   \n",
       "462                       stoner   \n",
       "475                  storyteller   \n",
       "481                stupid_crooks   \n",
       "490                  surfer_dude   \n",
       "491                    the_chief   \n",
       "495                   the_editor   \n",
       "501                tranquil_fury   \n",
       "505                    trickster   \n",
       "510                  valley_girl   \n",
       "521                 warrior_poet   \n",
       "531                    young_gun   \n",
       "\n",
       "                                              name       date  \n",
       "3                                            Them! 1954-06-16  \n",
       "6    Indiana Jones and the Raiders of the Lost Ark 1981-06-12  \n",
       "14                                           Rocky 1976-11-21  \n",
       "26                               Can't Hardly Wait 1998-06-12  \n",
       "28                          The Outlaw Josey Wales 1976-06-30  \n",
       "45                                         Roxanne 1987-06-19  \n",
       "52                             Alice in Wonderland 1976-12-10  \n",
       "58                                        Mallrats 1995-10-20  \n",
       "63                                   Casino Royale 1967-01-01  \n",
       "66                               A Christmas Story 1983-11-18  \n",
       "69                                   Casino Royale 1967-01-01  \n",
       "87                                            Kids 1995-05-01  \n",
       "96                                Some Like It Hot 1959-03-29  \n",
       "99                                   Casino Royale 1967-01-01  \n",
       "108                                    Real Genius 1985-08-07  \n",
       "109                               To Catch a Thief 1955-08-03  \n",
       "113                                         Casino 1995-11-14  \n",
       "125                          It's a Wonderful Life 1946-12-20  \n",
       "140                                         Aliens 1986-07-18  \n",
       "145                              Wuthering Heights 1939-01-01  \n",
       "168                              War of the Worlds 2005-06-13  \n",
       "171                                  Casino Royale 1967-01-01  \n",
       "180                             The Breakfast Club 1985-02-07  \n",
       "185                               Internal Affairs 1990-01-12  \n",
       "194                                         Arthur 1981-07-17  \n",
       "199                             Back to the Future 1985-07-03  \n",
       "205                                        Stripes 1981-06-26  \n",
       "219                            Singin' in the Rain 1952-01-01  \n",
       "220                It's a Mad, Mad, Mad, Mad World 1963-11-07  \n",
       "227   Star Wars Episode V: The Empire Strikes Back 1980-05-21  \n",
       "236                                       Predator 1987-06-12  \n",
       "245                                         Sheena 1984-08-17  \n",
       "252                                   3:10 to Yuma 1957-08-07  \n",
       "260                                 Apocalypse Now 1979-05-10  \n",
       "276                                      Halloween 1978-10-25  \n",
       "284        Star Wars Episode I: The Phantom Menace 1999-05-19  \n",
       "287                               To Catch a Thief 1955-08-03  \n",
       "298                                    Hocus Pocus 1993-07-16  \n",
       "308                                     Caddyshack 1980-07-25  \n",
       "311                                   The Enforcer 1951-01-25  \n",
       "321                         The Outlaw Josey Wales 1976-06-30  \n",
       "328                                What's Up, Doc? 1972-03-09  \n",
       "331              Ghost Dog: The Way of the Samurai 1999-05-18  \n",
       "341                                 The Karate Kid 1984-06-22  \n",
       "350                                Minority Report 2002-06-17  \n",
       "353                         Little Shop of Horrors 1986-12-19  \n",
       "359                                  High Fidelity 2000-03-17  \n",
       "363                                     Casablanca 1942-11-26  \n",
       "371   Star Wars Episode V: The Empire Strikes Back 1980-05-21  \n",
       "385                          It's a Wonderful Life 1946-12-20  \n",
       "387                                          Glory 1989-01-01  \n",
       "393                                       Scarface 1983-12-01  \n",
       "395                                           Tron 1982-07-09  \n",
       "404                                  All About Eve 1950-01-01  \n",
       "421                                          Shane 1953-04-23  \n",
       "425                                     The Hunted 1995-02-24  \n",
       "429             Butch Cassidy and the Sundance Kid 1969-09-23  \n",
       "437                   Once Upon a Time in the West 1968-12-21  \n",
       "443                                  Reality Bites 1994-02-18  \n",
       "445                         The Philadelphia Story 1940-12-23  \n",
       "456                                        Stripes 1981-06-26  \n",
       "462                   Fast Times at Ridgemont High 1982-08-13  \n",
       "475                                      Peter Pan 1953-02-05  \n",
       "481                                   Pulp Fiction 1994-05-01  \n",
       "490                                 Apocalypse Now 1979-05-10  \n",
       "491                               The Pink Panther 1963-12-19  \n",
       "495                        All the President's Men 1976-04-04  \n",
       "501                                     Straw Dogs 1971-11-03  \n",
       "505   Star Wars Episode V: The Empire Strikes Back 1980-05-21  \n",
       "510                                    Valley Girl 1983-04-29  \n",
       "521                                 Apocalypse Now 1979-05-10  \n",
       "531                                      Silverado 1985-07-10  "
      ]
     },
     "metadata": {},
     "output_type": "display_data"
    }
   ],
   "source": [
    "summaries, characters, tvtropes, movies_initial_subset = get_initial_data(MOVIES_FOLDER)\n",
    "trope_originators(tvtropes, movies_initial_subset)"
   ]
  },
  {
   "cell_type": "code",
   "execution_count": null,
   "metadata": {},
   "outputs": [],
   "source": []
  },
  {
   "cell_type": "code",
   "execution_count": null,
   "metadata": {},
   "outputs": [],
   "source": []
  },
  {
   "cell_type": "code",
   "execution_count": null,
   "metadata": {},
   "outputs": [],
   "source": []
  },
  {
   "cell_type": "code",
   "execution_count": null,
   "metadata": {},
   "outputs": [],
   "source": []
  },
  {
   "cell_type": "code",
   "execution_count": null,
   "metadata": {},
   "outputs": [],
   "source": []
  },
  {
   "cell_type": "code",
   "execution_count": null,
   "metadata": {},
   "outputs": [],
   "source": []
  },
  {
   "cell_type": "code",
   "execution_count": null,
   "metadata": {},
   "outputs": [],
   "source": []
  },
  {
   "cell_type": "code",
   "execution_count": null,
   "metadata": {},
   "outputs": [],
   "source": []
  },
  {
   "cell_type": "code",
   "execution_count": null,
   "metadata": {},
   "outputs": [],
   "source": []
  },
  {
   "cell_type": "code",
   "execution_count": null,
   "metadata": {},
   "outputs": [],
   "source": []
  }
 ],
 "metadata": {
  "kernelspec": {
   "display_name": "Python 3 (ipykernel)",
   "language": "python",
   "name": "python3"
  },
  "language_info": {
   "codemirror_mode": {
    "name": "ipython",
    "version": 3
   },
   "file_extension": ".py",
   "mimetype": "text/x-python",
   "name": "python",
   "nbconvert_exporter": "python",
   "pygments_lexer": "ipython3",
   "version": "3.9.12"
  }
 },
 "nbformat": 4,
 "nbformat_minor": 4
}
