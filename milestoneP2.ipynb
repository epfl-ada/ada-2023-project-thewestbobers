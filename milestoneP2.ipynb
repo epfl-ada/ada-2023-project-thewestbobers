{
 "cells": [
  {
   "cell_type": "markdown",
   "metadata": {},
   "source": [
    "# Milestone P2"
   ]
  },
  {
   "cell_type": "markdown",
   "metadata": {},
   "source": [
    "[Milestone P2 briefing](https://epfl-ada.github.io/teaching/fall2023/cs401/projects/#p2-project-proposal-and-initial-analyses)\n",
    "\n",
    "Goals: acquaint ourselves with the data, preprocess the data, complete all the necessary descriptive statistics tasks\n",
    "\n",
    "Should contain (non-exhaustive):\n",
    "- That you can handle the data in its size.\n",
    "- That you understand what’s in the data (formats, distributions, missing values, correlations, etc.).\n",
    "- That you considered ways to enrich, filter, transform the data according to your needs.\n",
    "- That you have a reasonable plan and ideas for methods you’re going to use, giving their essential mathematical details in the notebook.\n",
    "- That your plan for analysis and communication is reasonable and sound, potentially discussing alternatives to your choices that you considered but dropped.\n",
    "... initial analyses and data handling pipelines.\n",
    "\n",
    "Grade: correctness, quality of code, and quality of textual descriptions\n",
    "(20% of the project grade)"
   ]
  },
  {
   "cell_type": "markdown",
   "metadata": {},
   "source": [
    "## Configuration"
   ]
  },
  {
   "cell_type": "code",
   "execution_count": 1,
   "metadata": {},
   "outputs": [],
   "source": [
    "import pandas as pd\n",
    "import numpy as np\n",
    "import matplotlib.pyplot as plt\n",
    "import seaborn as sns\n",
    "import ast\n",
    "\n",
    "from helpers import *"
   ]
  },
  {
   "cell_type": "code",
   "execution_count": 5,
   "metadata": {},
   "outputs": [],
   "source": [
    "# Data Path\n",
    "DATA_PATH = '../data/'\n",
    "MOVIES_FOLDER = DATA_PATH+'MovieSummaries/'\n",
    "MOVIES_DATASET = MOVIES_FOLDER+\"movie.metadata.tsv\"\n",
    "\n",
    "# Load Data\n",
    "df = pd.read_csv(MOVIES_DATASET, sep='\\t', names=['id_wiki','id_freebase','name','date',\n",
    "                                                  'box_office','runtime','lang','countries','genres'])"
   ]
  },
  {
   "cell_type": "markdown",
   "metadata": {},
   "source": [
    "## What's in the data?\n",
    "Description and visualization of the data:\n",
    "- data type, formats (explain type for each feature)\n",
    "- distributions\n",
    "- missing values\n",
    "- correlation\n",
    "- ... ?"
   ]
  },
  {
   "cell_type": "code",
   "execution_count": 6,
   "metadata": {},
   "outputs": [
    {
     "name": "stdout",
     "output_type": "stream",
     "text": [
      "Size Movies 81741\n"
     ]
    }
   ],
   "source": [
    "print(\"Size Movies\", len(df))\n",
    "# data_viz(df)"
   ]
  },
  {
   "cell_type": "markdown",
   "metadata": {},
   "source": [
    "## Enrich Data\n",
    "- filter\n",
    "- transform data according to our needs\n",
    "- new datasets\n",
    "\n",
    "How data description changed from raw data ?"
   ]
  },
  {
   "cell_type": "code",
   "execution_count": null,
   "metadata": {},
   "outputs": [],
   "source": [
    "# filter USA"
   ]
  },
  {
   "cell_type": "markdown",
   "metadata": {},
   "source": [
    "## Pipeline\n",
    "Our ideas and structure to solve the problem. Reasonable plan, discuss alternatives, dropped ideas.\n",
    "\n",
    "1. Plot subsets (genres, etc.)\n",
    "2. Range prior to a trend peak\n",
    "3. Algo for pivotal movie (box-office, reviews, summary similarites)"
   ]
  },
  {
   "cell_type": "markdown",
   "metadata": {},
   "source": [
    "Example: Teen movies"
   ]
  },
  {
   "cell_type": "code",
   "execution_count": 4,
   "metadata": {},
   "outputs": [],
   "source": [
    "# example of the pipeline for subset Teen movies"
   ]
  }
 ],
 "metadata": {
  "kernelspec": {
   "display_name": "ada",
   "language": "python",
   "name": "python3"
  },
  "language_info": {
   "codemirror_mode": {
    "name": "ipython",
    "version": 3
   },
   "file_extension": ".py",
   "mimetype": "text/x-python",
   "name": "python",
   "nbconvert_exporter": "python",
   "pygments_lexer": "ipython3",
   "version": "3.9.18"
  }
 },
 "nbformat": 4,
 "nbformat_minor": 2
}
